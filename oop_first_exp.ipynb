{
 "cells": [
  {
   "cell_type": "code",
   "execution_count": 19,
   "metadata": {},
   "outputs": [
    {
     "name": "stdout",
     "output_type": "stream",
     "text": [
      "Государство: Россия\n",
      "Численность населения: 100000000\n",
      "Бюджет: 1000\n",
      "\n",
      "\n",
      "Государство: Англия\n",
      "Численность населения: 10000\n",
      "Бюджет: 1200\n",
      "\n",
      "\n"
     ]
    }
   ],
   "source": [
    "class Country(object):\n",
    "    '''\n",
    "    Класс, описывающий государство\n",
    "    '''\n",
    "    def __init__(self, name, pop, budget):\n",
    "        self.name = name\n",
    "        self.pop = pop\n",
    "        self.budget = budget\n",
    "        \n",
    "    def show_info(self):\n",
    "        print(f'Государство: {self.name}')\n",
    "        print(f'Численность населения: {self.pop}')\n",
    "        print(f'Бюджет: {self.budget}')\n",
    "        return '\\n'\n",
    "        \n",
    "    def budget_change(self, money_change):\n",
    "        self.budget += money_change\n",
    "        return self.budget\n",
    "    \n",
    "    def pop_change(self, popul_change):\n",
    "        self.pop += popul_change\n",
    "        return self.pop\n",
    "    \n",
    "\n",
    "\n",
    "print(russia.show_info())\n",
    "print(england.show_info())"
   ]
  },
  {
   "cell_type": "code",
   "execution_count": 37,
   "metadata": {},
   "outputs": [
    {
     "name": "stdout",
     "output_type": "stream",
     "text": [
      "John\n",
      "Flow\n",
      "Содомит\n"
     ]
    }
   ],
   "source": [
    "class Person(object):\n",
    "    \n",
    "    def __init__(self, name, age, city, gender):\n",
    "        self.name = name\n",
    "        self.age = age\n",
    "        self.city = city\n",
    "        \n",
    "        if gender != 'male' or gender != 'female':\n",
    "            gender = 'Содомит'\n",
    "        self.gender = gender\n",
    "    \n",
    "person = Person('John', 15, 'Moscow', 'attack helicopter')\n",
    "person_two = Person('Matthew', 14, 'Bryansk', 'male')\n",
    "\n",
    "print(getattr(person, 'name'))\n",
    "setattr(person_two, 'name', 'Flow')\n",
    "print(getattr(person_two, 'name'))\n",
    "\n",
    "print(person.gender)\n",
    "\n"
   ]
  },
  {
   "cell_type": "code",
   "execution_count": 1,
   "metadata": {},
   "outputs": [],
   "source": [
    "class Anal(object):\n",
    "    '''\n",
    "    some text\n",
    "    '''\n",
    "    \n",
    "    def __init__(self, owner, diameter, penetration_counter):\n",
    "        self.owner = owner\n",
    "        self.diameter = diameter\n",
    "        self.penetration_counter = penetration_counter\n",
    "        \n",
    "    def show_info(self):\n",
    "        print(f'owner is {self.owner}')\n",
    "        print(f'diameter is {self.diameter}')\n",
    "        print(f'penetrations are {self.penetration_counter}')\n",
    "        \n",
    "    def penetration(self, dick_diameter, count):\n",
    "        self.penetration_counter = count\n",
    "        if dick_diameter > self.diameter * 2:\n",
    "            print('Попаболь')\n",
    "        return self.penetration_counter\n",
    "\n",
    "\n",
    "class Dick(object):\n",
    "    \n",
    "    def __init__(self, owner, diameter, max_iterations):\n",
    "        self.owner = owner\n",
    "        self.diameter = diameter\n",
    "        self.max_iterations = max_iterations\n",
    "        \n",
    "    \n"
   ]
  },
  {
   "cell_type": "code",
   "execution_count": 4,
   "metadata": {},
   "outputs": [
    {
     "name": "stdout",
     "output_type": "stream",
     "text": [
      "True\n"
     ]
    }
   ],
   "source": [
    "class Person(object):\n",
    "    \n",
    "    def __init__(self, name, age, gender):\n",
    "        self.name = name\n",
    "        self.age = age\n",
    "        self.gender = gender\n",
    "        \n",
    "    def show_info(self):\n",
    "        print(f'name is {self.name}')\n",
    "        print(f'age is {self.age}')\n",
    "        print(f'gender is {self.gender}')\n",
    "        \n",
    "    def is_adult(self):\n",
    "        if self.age > 17:\n",
    "            return True\n",
    "        else:\n",
    "            return False\n",
    "        \n",
    "class Rich(Person):\n",
    "    \n",
    "    def __init__(self, money):\n",
    "        pass\n",
    "    \n",
    "Emil = Person('Emil', 18, 'male')\n",
    "print(Emil.is_adult())"
   ]
  },
  {
   "cell_type": "code",
   "execution_count": 5,
   "metadata": {},
   "outputs": [
    {
     "name": "stdout",
     "output_type": "stream",
     "text": [
      "6\n",
      "6\n",
      "False\n",
      "True\n",
      "False\n",
      "True\n",
      "True\n",
      "True\n",
      "True\n"
     ]
    }
   ],
   "source": [
    "class Car(object):\n",
    "    def __init__(self, x):\n",
    "        self.x = x\n",
    "        \n",
    "    def is_near(self, x2):\n",
    "        return abs(self.x - x2) < 2\n",
    "    \n",
    "    \n",
    "class CargoCar(Car):\n",
    "    def __init__(self, x, max_load, load):\n",
    "        super().__init__(x)\n",
    "        self.max_load = max_load\n",
    "        self.load = load\n",
    "        \n",
    "    def is_overloaded(self):\n",
    "        return self.load > self.max_load\n",
    "    \n",
    "    \n",
    "class CargoCarWithTrailer(CargoCar):\n",
    "    def __init__(self, x, max_load, load, trailer_length):\n",
    "        super().__init__(x, max_load, load)\n",
    "        self.trailer_length = trailer_length\n",
    "        \n",
    "    def is_near(self, x2):\n",
    "        return self.x - self.trailer_length - 2 < x2 < self.x + 2\n",
    "    \n",
    "some_cargo_car = CargoCar(6, 12, 6)\n",
    "some_cargo_car_with_trailer = CargoCarWithTrailer(6, 14, 8, 3)\n",
    "car_one = Car(4)\n",
    "car_two = Car(5)\n",
    "\n",
    "print(some_cargo_car.x)\n",
    "print(some_cargo_car_with_trailer.x)\n",
    "\n",
    "print(some_cargo_car.is_near(3))\n",
    "print(some_cargo_car_with_trailer.is_near(3)) #полиморфизм\n",
    "\n",
    "\n",
    "class Men(object):\n",
    "    def __init__(self, name, position):\n",
    "        self.name = name\n",
    "        self.position = position\n",
    "        \n",
    "    def is_near(self, pos2):\n",
    "        return abs(self.position - pos2) < 1\n",
    "    \n",
    "Emil = Men('Emil', 7)\n",
    "\n",
    "object_list = [Emil, car_one, car_two, some_cargo_car, some_cargo_car_with_trailer]\n",
    "\n",
    "for object_ in object_list:\n",
    "    print(object_.is_near(5.2))"
   ]
  },
  {
   "cell_type": "code",
   "execution_count": null,
   "metadata": {},
   "outputs": [],
   "source": []
  }
 ],
 "metadata": {
  "kernelspec": {
   "display_name": "Python 3",
   "language": "python",
   "name": "python3"
  },
  "language_info": {
   "codemirror_mode": {
    "name": "ipython",
    "version": 3
   },
   "file_extension": ".py",
   "mimetype": "text/x-python",
   "name": "python",
   "nbconvert_exporter": "python",
   "pygments_lexer": "ipython3",
   "version": "3.8.5"
  }
 },
 "nbformat": 4,
 "nbformat_minor": 4
}
