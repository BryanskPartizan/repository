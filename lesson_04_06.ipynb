{
 "cells": [
  {
   "cell_type": "code",
   "execution_count": 1,
   "metadata": {},
   "outputs": [
    {
     "name": "stdout",
     "output_type": "stream",
     "text": [
      "Apple, 0 year old and 0.5 metre height\n",
      "There are no fetus on the tree\n",
      "Apple, 1 year old and 1.2855118586625722 metre height\n",
      "There are no fetus on the tree\n",
      "Apple, 2 year old and 3.045856457024639 metre height\n",
      "Собрано 20 кг apple\n",
      "Apple, 3 year old and 5.737919084378825 metre height\n",
      "Собрано 20 кг apple\n",
      "Apple, 4 year old and 9.396535571331002 metre height\n",
      "Собрано 20 кг apple\n",
      "Apple, 5 year old and 12.148096194214702 metre height\n",
      "Собрано 20 кг apple\n",
      "Apple, 6 year old and 13.594054034916368 metre height\n",
      "Собрано 20 кг apple\n",
      "Apple, 7 year old and 14.213550829821571 metre height\n",
      "Собрано 20 кг apple\n",
      "Apple, 8 year old and 14.4554797103904 metre height\n",
      "Собрано 20 кг apple\n",
      "Apple, 9 year old and 14.546508176271406 metre height\n",
      "Собрано 20 кг apple\n",
      "Apple, 10 year old and 14.580276997817819 metre height\n",
      "Собрано 20 кг apple\n",
      "Apple, 11 year old and 14.592738277366683 metre height\n",
      "Собрано 20 кг apple\n",
      "Apple, 12 year old and 14.597327743774683 metre height\n",
      "Собрано 20 кг apple\n",
      "Apple, 13 year old and 14.599016821154898 metre height\n",
      "There are no fetus on the tree\n",
      "Apple, 14 year old and 14.999638293729497 metre height\n",
      "There are no fetus on the tree\n",
      "Apple, 15 year old and 14.999866933671036 metre height\n",
      "There are no fetus on the tree\n"
     ]
    }
   ],
   "source": [
    "# number 1\n",
    "from math import exp\n",
    "import matplotlib.pyplot as plt\n",
    "\n",
    "\n",
    "class Tree(object):\n",
    "    \n",
    "    def __init__(self, name, age=0, height=0.5, max_height=15, skill_grow=1):\n",
    "        self.name = name\n",
    "        self.age = age\n",
    "        self.max_height = max_height\n",
    "        self.height = height\n",
    "        self.start_height = height\n",
    "        self.skill_grow = skill_grow\n",
    "    \n",
    "    def grow_func(self, age, start_height, max_height=15, grow_skill=1):\n",
    "        b = max_height\n",
    "        y0 = start_height\n",
    "        t = age\n",
    "        a = grow_skill\n",
    "        result = (b * y0 * exp(a * t)) / (b + (y0 * (exp(a * t) - 1)))\n",
    "        return result\n",
    "        \n",
    "    def grow(self):\n",
    "        self.age += 1\n",
    "        self.height = self.grow_func(age, self.start_height, self.max_height, self.grow_skill)\n",
    "    \n",
    "    def show_info(self):\n",
    "        print(\n",
    "        f'Tree {self.name}, height: {self.height}, age: {self.age}', end=''\n",
    "        )\n",
    "    \n",
    "    \n",
    "class TreeFruit(Tree):\n",
    "    \n",
    "    def __init__(self, fetus : str, productive_age : list, productivity,\n",
    "                name, age=0, height=0.5, max_height=15, skill_grow=1):\n",
    "        self.fetus = fetus\n",
    "        self.start_productive = productive_age[0]\n",
    "        self.end_productive = productive_age[1]\n",
    "        self.productivity = productivity\n",
    "        super().__init__(name, age=0, height=0.5, max_height=15, skill_grow=1) \n",
    "        \n",
    "    def grow(self):\n",
    "        self.age += 1\n",
    "        if self.start_productive < self.age < self.end_productive:\n",
    "            self.height = self.grow_func(self.age, self.start_height) - 0.4\n",
    "        else:\n",
    "            self.height = self.grow_func(self.age, self.start_height)\n",
    "    \n",
    "    def harvest(self):\n",
    "        if self.start_productive < self.age < self.end_productive:\n",
    "            print(f'Собрано {self.productivity} кг {self.fetus}')\n",
    "        else:\n",
    "            print('There are no fetus on the tree')\n",
    "            \n",
    "            \n",
    "\n",
    "\n",
    "if __name__ == \"__main__\":\n",
    "    apple = TreeFruit('apple', [2,14], 20, 'Apple')\n",
    "    for i in range(16):\n",
    "        print(f'{apple.name}, {apple.age} year old and {apple.height} metre height')\n",
    "        apple.grow()\n",
    "        apple.harvest()\n",
    "        \n",
    "\n"
   ]
  },
  {
   "cell_type": "code",
   "execution_count": 14,
   "metadata": {},
   "outputs": [
    {
     "data": {
      "image/png": "[encoded data removed]",
      "text/plain": [
       "<Figure size 1080x720 with 1 Axes>"
      ]
     },
     "metadata": {
      "needs_background": "light"
     },
     "output_type": "display_data"
    }
   ],
   "source": [
    "# number 1.1\n",
    "from math import exp\n",
    "import matplotlib.pyplot as plt\n",
    "\n",
    "def grow_func(age, start_height, max_height=15, grow_skill=1):\n",
    "    b = max_height\n",
    "    y0 = start_height\n",
    "    t = age\n",
    "    a = grow_skill\n",
    "    \n",
    "    result = (b * y0 * exp(a * t)) / (b + (y0 * (exp(a * t) - 1)))\n",
    "    return result\n",
    "\n",
    "ages = [year * 0.5 for year in range(60)]\n",
    "height = [grow_func(age, 0.5, 20, 1.3) for age in ages]\n",
    "\n",
    "figure, ax = plt.subplots(figsize=(15, 10))\n",
    "ax.plot(ages, height, color='purple', linewidth=2.5)\n",
    "plt.xlabel('Возраст')\n",
    "plt.ylabel('Высота')\n",
    "plt.title('Функция роста дерева')\n",
    "plt.grid(True)\n",
    "    \n"
   ]
  },
  {
   "cell_type": "code",
   "execution_count": 18,
   "metadata": {},
   "outputs": [
    {
     "name": "stdout",
     "output_type": "stream",
     "text": [
      "Table 2 metre length, 4 metre width and 1 metre height. Table 8 metre^2\n",
      "Table 2 metre length, 4 metre width and 1 metre height. Table 8 metre^2 and can accommodate 16 people\n",
      "Table 3 metre length, 5 metre width and 1 metre height. Table 14.49 metre^2\n"
     ]
    }
   ],
   "source": [
    "# number 2\n",
    "\n",
    "class Table(object):\n",
    "    def __init__(self, length, width, height):\n",
    "        self.length = length\n",
    "        self.width = width\n",
    "        self.height = height\n",
    "        self.square = length * width\n",
    "        \n",
    "    def show_info(self):\n",
    "        print(\n",
    "        f'Table {self.length} metre length, {self.width} metre width and {self.height} metre height. '\n",
    "        f'Table {self.square} metre^2')\n",
    "        \n",
    "        \n",
    "class KitchenTable(Table):\n",
    "    def __init__(self, norm : float, length, width, height):\n",
    "        self.norm = norm\n",
    "        super().__init__(length, width, height)\n",
    "        self.size = round(self.square / self.norm)\n",
    "    \n",
    "    def show_info(self):\n",
    "        print(\n",
    "        f'Table {self.length} metre length, {self.width} metre width and {self.height} metre height. '\n",
    "        f'Table {self.square} metre^2 and can accommodate {self.size} people')\n",
    "        \n",
    "        \n",
    "class ComputerTable(Table):\n",
    "    def __init__(self, keyboard, monitor, mouse, length, width, height):\n",
    "        super().__init__(length, width, height)\n",
    "        self.square -= keyboard + monitor + mouse\n",
    "        \n",
    "writer_table = Table(2, 4, 1)\n",
    "writer_table.show_info()\n",
    "\n",
    "kit_table = KitchenTable(0.5, 2, 4, 1)\n",
    "kit_table.show_info()\n",
    "\n",
    "com_table = ComputerTable(0.3, 0.2, 0.01, 3, 5, 1)\n",
    "com_table.show_info()\n",
    "        \n",
    "    "
   ]
  },
  {
   "cell_type": "code",
   "execution_count": null,
   "metadata": {},
   "outputs": [],
   "source": [
    "\n",
    "\n"
   ]
  },
  {
   "cell_type": "code",
   "execution_count": null,
   "metadata": {},
   "outputs": [],
   "source": [
    "\n",
    "\n"
   ]
  },
  {
   "cell_type": "code",
   "execution_count": null,
   "metadata": {},
   "outputs": [],
   "source": [
    "\n",
    "\n"
   ]
  },
  {
   "cell_type": "code",
   "execution_count": null,
   "metadata": {},
   "outputs": [],
   "source": [
    "\n",
    "\n",
    "\n",
    "\n",
    "\n",
    "\n",
    "\n",
    "\n",
    "\n"
   ]
  },
  {
   "cell_type": "code",
   "execution_count": null,
   "metadata": {},
   "outputs": [],
   "source": []
  }
 ],
 "metadata": {
  "kernelspec": {
   "display_name": "Python 3",
   "language": "python",
   "name": "python3"
  },
  "language_info": {
   "codemirror_mode": {
    "name": "ipython",
    "version": 3
   },
   "file_extension": ".py",
   "mimetype": "text/x-python",
   "name": "python",
   "nbconvert_exporter": "python",
   "pygments_lexer": "ipython3",
   "version": "3.8.5"
  }
 },
 "nbformat": 4,
 "nbformat_minor": 4
}
