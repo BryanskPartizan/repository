{
 "cells": [
  {
   "cell_type": "code",
   "execution_count": 2,
   "metadata": {},
   "outputs": [
    {
     "data": {
      "image/png": "[encoded data removed]",
      "text/plain": [
       "<Figure size 432x288 with 1 Axes>"
      ]
     },
     "metadata": {
      "needs_background": "light"
     },
     "output_type": "display_data"
    }
   ],
   "source": [
    "import matplotlib.pylab as plt\n",
    "import numpy as np\n",
    "\n",
    "x = np.arange(-8, 8, 0.1)\n",
    "f = 1 / (np.exp(-x))\n",
    "plt.plot(x, f)\n",
    "plt.xlabel('x')\n",
    "plt.ylabel('f(x)')\n",
    "plt.show()"
   ]
  },
  {
   "cell_type": "code",
   "execution_count": 11,
   "metadata": {},
   "outputs": [
    {
     "name": "stdout",
     "output_type": "stream",
     "text": [
      "Сформированы начальные синоптические веса: \n",
      "[[-0.68915935]\n",
      " [ 0.47721249]\n",
      " [ 0.92352598]\n",
      " [-0.16210526]]\n",
      "Веса после обучения: \n",
      "[[ 9.21420292]\n",
      " [ 2.22637799]\n",
      " [-8.17707283]\n",
      " [-5.60212104]]\n",
      "Новая ситуация [1, 1, 1, 0] ->\n",
      "[0.96315548]\n"
     ]
    }
   ],
   "source": [
    "from numpy import exp, array, random, dot\n",
    "\n",
    "\n",
    "class NeuralNetwork():\n",
    "    def __init__(self):\n",
    "        self.synaptic_weights = 2 * random.random((4, 1)) - 1\n",
    "\n",
    "    def __sigmoid(self, x):\n",
    "        return 1 / (1 + exp(-x))\n",
    "    \n",
    "    def __sigmoid_derivative(self, x):\n",
    "        return x * (1 - x)\n",
    "\n",
    "    def train(self, training_set_inputs, training_set_outputs, number_of_training_iterations):\n",
    "        for i in range(number_of_training_iterations):\n",
    "            output = self.think(training_set_inputs)\n",
    "            error = training_set_outputs - output\n",
    "            adjustment = dot(training_set_inputs.T, error * self.__sigmoid_derivative(output))\n",
    "            self.synaptic_weights += adjustment\n",
    "\n",
    "    def think(self, inputs):\n",
    "        return self.__sigmoid(dot(inputs, self.synaptic_weights))\n",
    "\n",
    "\n",
    "if __name__ == \"__main__\":\n",
    "\n",
    "    neural_network = NeuralNetwork()\n",
    "\n",
    "    print (\"Сформированы начальные синоптические веса: \")\n",
    "    print (neural_network.synaptic_weights)\n",
    "\n",
    "    training_set_inputs = array([[0, 0, 0, 0], \n",
    "                                 [0, 0, 0, 1],\n",
    "                                 [0, 0, 1, 1], \n",
    "                                 [1, 1, 0, 1], \n",
    "                                 [0, 1, 1, 0]])\n",
    "    \n",
    "    training_set_outputs = array([[0, 0, 0, 1, 0]]).T\n",
    "\n",
    "    neural_network.train(training_set_inputs, training_set_outputs, 100000)\n",
    "\n",
    "    print (\"Веса после обучения: \")\n",
    "    print (neural_network.synaptic_weights)\n",
    "\n",
    "    print (\"Новая ситуация [1, 1, 1, 0] ->\")\n",
    "    print (neural_network.think(array([1, 1, 1, 0])))"
   ]
  },
  {
   "cell_type": "code",
   "execution_count": null,
   "metadata": {},
   "outputs": [],
   "source": []
  },
  {
   "cell_type": "code",
   "execution_count": null,
   "metadata": {},
   "outputs": [],
   "source": []
  }
 ],
 "metadata": {
  "kernelspec": {
   "display_name": "Python 3",
   "language": "python",
   "name": "python3"
  },
  "language_info": {
   "codemirror_mode": {
    "name": "ipython",
    "version": 3
   },
   "file_extension": ".py",
   "mimetype": "text/x-python",
   "name": "python",
   "nbconvert_exporter": "python",
   "pygments_lexer": "ipython3",
   "version": "3.8.3"
  }
 },
 "nbformat": 4,
 "nbformat_minor": 4
}
