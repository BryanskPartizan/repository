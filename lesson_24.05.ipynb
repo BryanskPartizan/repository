{
 "cells": [
  {
   "cell_type": "code",
   "execution_count": 1,
   "metadata": {},
   "outputs": [
    {
     "name": "stdout",
     "output_type": "stream",
     "text": [
      "Расстояние несогласия: 0.3333333333333333\n"
     ]
    }
   ],
   "source": [
    "# number 1\n",
    "import math\n",
    "\n",
    "class Dot(object):\n",
    "    def __init__(self, data):\n",
    "        self.data = data\n",
    "    \n",
    "    def disagreement(self, dot):\n",
    "        counter = 0\n",
    "        for patch in self.data:\n",
    "            if patch in dot.data:\n",
    "                counter += 1\n",
    "        return ((len(self.data) - counter) / len(self.data))\n",
    "                \n",
    "    \n",
    "person_one = Dot([18, 'male', 'plant'])\n",
    "person_two = Dot([18, 'male', 'shop'])\n",
    "\n",
    "print(f'Расстояние несогласия: {person_one.disagreement(person_two)}')\n"
   ]
  },
  {
   "cell_type": "code",
   "execution_count": 52,
   "metadata": {},
   "outputs": [
    {
     "name": "stdout",
     "output_type": "stream",
     "text": [
      "Ivan 100000$\n",
      "Транзакция завершена\n",
      "Dmitry благодарит Ivan за помощь!\n",
      "Ivan 90000$\n",
      "Dmitry 200000$\n",
      "Dmitry 170000$\n"
     ]
    }
   ],
   "source": [
    "# number 2\n",
    "\n",
    "class Friend(object):\n",
    "    def __init__(self, name, account):\n",
    "        self.name = name\n",
    "        self.account = account\n",
    "        \n",
    "    def send_message(self, other):\n",
    "        print(f'{self.name} благодарит {other.name} за помощь!')\n",
    "        \n",
    "    def send_money(self, other, amount):\n",
    "        self.account -= amount\n",
    "        other.account += amount\n",
    "        print('Транзакция завершена')\n",
    "        other.send_message(self)\n",
    "        \n",
    "    def get_money(self):\n",
    "        print(f'{self.name} {self.account}$')\n",
    "    \n",
    "    def HCS(self, amount):\n",
    "        self.account -= amount\n",
    "        \n",
    "    def withdraw_money(self, amount):\n",
    "        self.account -= amount\n",
    "        \n",
    "    def deposit_money(self, amount):\n",
    "        self.account += amount\n",
    "        \n",
    "    def pay_communication(self, amount):\n",
    "        self.account -= amount\n",
    "        \n",
    "    def pay_goods(self, amount):\n",
    "        self.account -= amount\n",
    "        \n",
    "        \n",
    "person_one = Friend('Ivan', 100000)\n",
    "person_two = Friend('Dmitry', 190000)\n",
    "\n",
    "person_one.get_money()\n",
    "person_one.send_money(person_two, 10000)\n",
    "person_one.get_money()\n",
    "\n",
    "person_two.get_money()\n",
    "person_two.HCS(30000)\n",
    "person_two.get_money()\n"
   ]
  },
  {
   "cell_type": "code",
   "execution_count": 48,
   "metadata": {},
   "outputs": [
    {
     "name": "stdout",
     "output_type": "stream",
     "text": [
      "Боец Иван нанёс удар бойцу ЫВАЩЫ\n",
      "Боец Иван нанёс удар бойцу ЫВАЩЫ\n",
      "Боец ЫВАЩЫ нанёс удар бойцу Иван\n",
      "Боец Иван нанёс удар бойцу ЫВАЩЫ\n",
      "Боец Иван нанёс удар бойцу ЫВАЩЫ\n",
      "Боец Иван нанёс удар бойцу ЫВАЩЫ\n",
      "ЫВАЩЫ выбыл из игры\n",
      "Победил боец Иван. Оставшаяся сила: 80\n",
      "GAME OVER\n"
     ]
    }
   ],
   "source": [
    "# number 3\n",
    "import random\n",
    "\n",
    "class Athlete(object):\n",
    "    def __init__(self, name):\n",
    "        self.name = name\n",
    "        self.power = 100\n",
    "        self.power_check()\n",
    "        \n",
    "    def power_check(self):\n",
    "        if self.power <= 0:\n",
    "            self.condition = 0\n",
    "            print(f'{self.name} выбыл из игры')\n",
    "        else:\n",
    "            self.condition = 1\n",
    "        \n",
    "    def hit(self, fighter):\n",
    "        fighter.power = fighter.power - 20\n",
    "        print(f'Боец {self.name} нанёс удар бойцу {fighter.name}')\n",
    "        self.power_check()\n",
    "        fighter.power_check()\n",
    "        \n",
    "        \n",
    "def fight(fighters):\n",
    "    attacker = random.choice(fighters)\n",
    "    while fighters[0].condition and fighters[1].condition:\n",
    "        if fighters.index(attacker):\n",
    "            defender = fighters[0]\n",
    "        else:\n",
    "            defender = fighters[1]\n",
    "        attacker.hit(defender)\n",
    "        attacker = random.choice(fighters)\n",
    "    else: \n",
    "        if fighters[0].condition:\n",
    "            print(f'Победил боец {fighters[0].name}. Оставшаяся сила: {fighters[0].power}')\n",
    "        else:\n",
    "            print(f'Победил боец {fighters[1].name}. Оставшаяся сила: {fighters[1].power}')\n",
    "        print('GAME OVER')\n",
    "            \n",
    "        \n",
    "\n",
    "if __name__ == '__main__':\n",
    "    names = ['Иван','ЫВАЩЫ']\n",
    "    fighters = [Athlete(name) for name in names]\n",
    "    fight(fighters)\n",
    "        \n",
    "        \n",
    "        "
   ]
  },
  {
   "cell_type": "code",
   "execution_count": null,
   "metadata": {},
   "outputs": [],
   "source": []
  },
  {
   "cell_type": "code",
   "execution_count": null,
   "metadata": {},
   "outputs": [],
   "source": []
  },
  {
   "cell_type": "code",
   "execution_count": null,
   "metadata": {},
   "outputs": [],
   "source": []
  }
 ],
 "metadata": {
  "kernelspec": {
   "display_name": "Python 3",
   "language": "python",
   "name": "python3"
  },
  "language_info": {
   "codemirror_mode": {
    "name": "ipython",
    "version": 3
   },
   "file_extension": ".py",
   "mimetype": "text/x-python",
   "name": "python",
   "nbconvert_exporter": "python",
   "pygments_lexer": "ipython3",
   "version": "3.8.5"
  }
 },
 "nbformat": 4,
 "nbformat_minor": 4
}
