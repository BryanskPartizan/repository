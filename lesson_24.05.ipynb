{
 "cells": [
  {
   "cell_type": "code",
   "execution_count": 6,
   "metadata": {},
   "outputs": [
    {
     "name": "stdout",
     "output_type": "stream",
     "text": [
      "Расстояние несогласия: 0.3333333333333333\n"
     ]
    }
   ],
   "source": [
    "# number 1\n",
    "import math\n",
    "\n",
    "class Dot(object):\n",
    "    def __init__(self, data):\n",
    "        self.data = data\n",
    "    \n",
    "    def disagreement(self, dot):\n",
    "        counter = 0\n",
    "        for patch in self.data:\n",
    "            if patch in dot.data:\n",
    "                counter += 1\n",
    "        return ((len(self.data) - counter) / len(self.data))\n",
    "                \n",
    "    \n",
    "person_one = Dot([18, 'male', 'plant'])\n",
    "person_two = Dot([18, 'male', 'shop'])\n",
    "\n",
    "print(f'Расстояние несогласия: {person_one.disagreement(person_two)}')\n",
    "        "
   ]
  },
  {
   "cell_type": "code",
   "execution_count": 7,
   "metadata": {},
   "outputs": [
    {
     "ename": "SyntaxError",
     "evalue": "invalid syntax (<ipython-input-7-04d27f18dee8>, line 3)",
     "output_type": "error",
     "traceback": [
      "\u001b[1;36m  File \u001b[1;32m\"<ipython-input-7-04d27f18dee8>\"\u001b[1;36m, line \u001b[1;32m3\u001b[0m\n\u001b[1;33m    сlass Friend(object):\u001b[0m\n\u001b[1;37m               ^\u001b[0m\n\u001b[1;31mSyntaxError\u001b[0m\u001b[1;31m:\u001b[0m invalid syntax\n"
     ]
    }
   ],
   "source": [
    "# number 2\n",
    "\n",
    "class Friend(object):\n",
    "    def __init__(self, name, account):\n",
    "        self.name = name\n",
    "        self.account = account\n",
    "        \n",
    "    def send_message(self, other):\n",
    "        print(f'{self.name} благодарит {other.name} за помощь!')\n",
    "        \n",
    "    def send_money(self, other, amount):\n",
    "        self.account -= amount\n",
    "        other.account += amount\n",
    "        print('Транзакция завершена')\n",
    "        \n",
    "    def get_money(self):\n",
    "        return self.money\n",
    "    \n",
    "    def HCS(self, amount):\n",
    "        self.account -= amount\n",
    "        \n",
    "    def withdraw_money(self, amount):\n",
    "        self.account -= amount\n",
    "        \n",
    "    def deposit_money(self, amount):\n",
    "        self.account += amount\n",
    "        \n",
    "    def pay_communication(self, amount):\n",
    "        self.account -= amount\n",
    "        \n",
    "    def pay_goods(self, amount):\n",
    "        self.account -= amount\n",
    "        \n",
    "        \n",
    "person_one = Friend('Ivan', 100000)\n",
    "person_two = Friedn('Dmitry', 190000)\n",
    "\n",
    "person_one.send_money\n"
   ]
  },
  {
   "cell_type": "code",
   "execution_count": null,
   "metadata": {},
   "outputs": [],
   "source": []
  }
 ],
 "metadata": {
  "kernelspec": {
   "display_name": "Python 3",
   "language": "python",
   "name": "python3"
  },
  "language_info": {
   "codemirror_mode": {
    "name": "ipython",
    "version": 3
   },
   "file_extension": ".py",
   "mimetype": "text/x-python",
   "name": "python",
   "nbconvert_exporter": "python",
   "pygments_lexer": "ipython3",
   "version": "3.6.5"
  }
 },
 "nbformat": 4,
 "nbformat_minor": 2
}
