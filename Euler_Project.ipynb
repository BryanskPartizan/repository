{
 "cells": [
  {
   "cell_type": "code",
   "execution_count": 3,
   "metadata": {},
   "outputs": [
    {
     "name": "stdout",
     "output_type": "stream",
     "text": [
      "233168\n"
     ]
    }
   ],
   "source": [
    "#NUMBER ONE\n",
    "\n",
    "def factor_in_range(range_num):\n",
    "    summa = 0\n",
    "    for number in range(range_num):\n",
    "        if number % 3 == 0 or number % 5 == 0:\n",
    "            summa += number\n",
    "    return summa\n",
    "\n",
    "print(factor_in_range(1000))"
   ]
  },
  {
   "cell_type": "code",
   "execution_count": 4,
   "metadata": {},
   "outputs": [
    {
     "name": "stdout",
     "output_type": "stream",
     "text": [
      "4613732\n"
     ]
    }
   ],
   "source": [
    "#NUMBER TWO\n",
    "\n",
    "def fibonacci(number):\n",
    "    member_one = 0\n",
    "    member_two = 1\n",
    "    for i in range(number):\n",
    "        new_member = member_one + member_two\n",
    "        member_one, member_two = member_two, new_member\n",
    "    return new_member\n",
    "\n",
    "summa = 0 \n",
    "member = 1\n",
    "while fibonacci(member) < 4000000:\n",
    "    if fibonacci(member) % 2 == 0:\n",
    "        summa += fibonacci(member)\n",
    "    member += 1\n",
    "        \n",
    "print(summa)"
   ]
  },
  {
   "cell_type": "code",
   "execution_count": 1,
   "metadata": {},
   "outputs": [
    {
     "name": "stdout",
     "output_type": "stream",
     "text": [
      "False\n",
      "False\n",
      "True\n",
      "True\n",
      "False\n",
      "True\n",
      "False\n",
      "True\n",
      "False\n",
      "False\n",
      "False\n",
      "True\n",
      "False\n",
      "True\n",
      "False\n",
      "False\n",
      "False\n",
      "True\n",
      "False\n",
      "True\n",
      "False\n",
      "False\n",
      "False\n",
      "True\n",
      "False\n",
      "False\n",
      "False\n",
      "False\n",
      "False\n",
      "True\n",
      "False\n",
      "True\n",
      "False\n",
      "False\n",
      "False\n",
      "False\n",
      "False\n",
      "True\n",
      "False\n",
      "False\n",
      "False\n",
      "True\n",
      "False\n",
      "True\n",
      "False\n",
      "False\n",
      "False\n",
      "True\n",
      "False\n",
      "False\n",
      "False\n",
      "False\n",
      "False\n",
      "True\n",
      "False\n",
      "False\n",
      "False\n",
      "False\n",
      "False\n",
      "True\n",
      "False\n",
      "True\n",
      "False\n",
      "False\n",
      "False\n",
      "False\n",
      "False\n",
      "True\n",
      "False\n",
      "False\n",
      "False\n",
      "True\n",
      "False\n",
      "True\n",
      "False\n",
      "False\n",
      "False\n",
      "False\n",
      "False\n",
      "True\n",
      "False\n",
      "False\n",
      "False\n",
      "True\n",
      "False\n",
      "False\n",
      "False\n",
      "False\n",
      "False\n",
      "True\n",
      "False\n",
      "False\n",
      "False\n",
      "False\n",
      "False\n",
      "False\n",
      "False\n",
      "True\n",
      "False\n",
      "False\n"
     ]
    }
   ],
   "source": [
    "#NUMBER 3\n",
    "import math\n",
    "\n",
    "def factor_find(number):\n",
    "    largest_prime_factor = 0\n",
    "    for i in range(2, number + 1):\n",
    "        if number % i == 0:\n",
    "            if is_prime(i):\n",
    "                largest_prime_factor = i\n",
    "    return largest_prime_factor\n",
    "\n",
    "\n",
    "def is_prime(number):\n",
    "    if number == 2:\n",
    "        return True\n",
    "    if number == 1 or not number % 2:\n",
    "        return False\n",
    "    for div in range(3, int(math.sqrt(number)) + 1, 2):\n",
    "        if not number % div:\n",
    "            return False\n",
    "    return True\n",
    "\n",
    "\n",
    "if __name__ == '__main__':\n",
    "    for number in range (100):\n",
    "        print(is_prime(number))\n",
    "        \n",
    "        \n",
    "#600851475143"
   ]
  },
  {
   "cell_type": "code",
   "execution_count": 4,
   "metadata": {},
   "outputs": [
    {
     "name": "stdout",
     "output_type": "stream",
     "text": [
      "997799\n"
     ]
    }
   ],
   "source": [
    "#number 4\n",
    "\n",
    "max_number = 999*999\n",
    "while max_number != 0:\n",
    "    string = str(max_number)\n",
    "    if string == string[::-1]:\n",
    "        print(max_number)\n",
    "        break\n",
    "    else:\n",
    "        max_number -= 1"
   ]
  },
  {
   "cell_type": "code",
   "execution_count": 2,
   "metadata": {},
   "outputs": [
    {
     "name": "stdout",
     "output_type": "stream",
     "text": [
      "232792560\n"
     ]
    }
   ],
   "source": [
    "#problem 5\n",
    "import numpy as np \n",
    "\n",
    "range_ = [i for i in range(1, 21)] \n",
    "\n",
    "print(np.lcm.reduce(range_))"
   ]
  },
  {
   "cell_type": "code",
   "execution_count": 17,
   "metadata": {},
   "outputs": [
    {
     "name": "stdout",
     "output_type": "stream",
     "text": [
      "25164150\n"
     ]
    }
   ],
   "source": [
    "#problem 6\n",
    "\n",
    "def summa_square(number):\n",
    "    return sum([i**2 for i in range(1, number+1)])\n",
    "\n",
    "def square_summa(number):\n",
    "    return (sum([j for j in range(1, number+1)]))**2\n",
    "\n",
    "def delta_summa(number):\n",
    "    return square_summa(number) - summa_square(number)\n",
    "\n",
    "print(delta_summa(100))"
   ]
  },
  {
   "cell_type": "code",
   "execution_count": 31,
   "metadata": {},
   "outputs": [
    {
     "name": "stdout",
     "output_type": "stream",
     "text": [
      "104743\n"
     ]
    }
   ],
   "source": [
    "#problem 7\n",
    "\n",
    "def it_prime(number):\n",
    "    factor_counter = 0\n",
    "    for factor in range(2, number + 1):\n",
    "        if number % factor == 0:\n",
    "            factor_counter += 1 \n",
    "    if factor_counter == 1:\n",
    "        return True\n",
    "    else:\n",
    "        return False\n",
    "    \n",
    "def prime_member_counter(mem_index):\n",
    "    number = 2\n",
    "    temp_index = 0\n",
    "    while temp_index < mem_index:\n",
    "        if it_prime(number):\n",
    "            temp_member = number\n",
    "            temp_index += 1\n",
    "        number += 1\n",
    "    return temp_member\n",
    "\n",
    "print(prime_member_counter(10001))\n",
    "    \n",
    "    "
   ]
  },
  {
   "cell_type": "code",
   "execution_count": 58,
   "metadata": {},
   "outputs": [
    {
     "name": "stdout",
     "output_type": "stream",
     "text": [
      "70573265280\n"
     ]
    }
   ],
   "source": [
    "#problem 8\n",
    "\n",
    "def cutter(string):\n",
    "    cut_list = []\n",
    "    for index in range(0, (len(string)-13)):\n",
    "        cut = string[index:index+14]\n",
    "        if '0' in cut:\n",
    "            pass\n",
    "        else:\n",
    "            cut_list.append(cut)\n",
    "    return cut_list\n",
    "\n",
    "def multiple(string):\n",
    "    result = 1\n",
    "    for i in range(0, len(string)):\n",
    "        result *= int(string[i])\n",
    "    return result\n",
    "\n",
    "def number_multiple(number_list):\n",
    "    new_list = []\n",
    "    for index in range(len(number_list)):\n",
    "        new_list.append(multiple(number_list[index]))\n",
    "    return new_list\n",
    "\n",
    "\n",
    "number_str = str(7316717653133062491922511967442657474235534919493496983520312774506326239578318016984801869478851843858615607891129494954595017379583319528532088055111254069874715852386305071569329096329522744304355766896648950445244523161731856403098711121722383113622298934233803081353362766142828064444866452387493035890729629049156044077239071381051585930796086670172427121883998797908792274921901699720888093776657273330010533678812202354218097512545405947522435258490771167055601360483958644670632441572215539753697817977846174064955149290862569321978468622482839722413756570560574902614079729686524145351004748216637048440319989000889524345065854122758866688116427171479924442928230863465674813919123162824586178664583591245665294765456828489128831426076900422421902267105562632111110937054421750694165896040807198403850962455444362981230987879927244284909188845801561660979191338754992005240636899125607176060588611646710940507754100225698315520005593572972571636269561882670428252483600823257530420752963450)\n",
    "\n",
    "\n",
    "print(max(number_multiple(cutter(number_str))))"
   ]
  },
  {
   "cell_type": "code",
   "execution_count": 1,
   "metadata": {},
   "outputs": [
    {
     "name": "stdout",
     "output_type": "stream",
     "text": [
      "31875000\n"
     ]
    }
   ],
   "source": [
    "#problem 9\n",
    "\n",
    "def compute():\n",
    "    perimeter = 1000\n",
    "    for a in range(1, perimeter + 1):\n",
    "        for b in range(a + 1, perimeter + 1):\n",
    "            c = perimeter - a - b\n",
    "            if a * a + b * b == c * c:\n",
    "                return str(a * b * c)\n",
    "            \n",
    "if __name__ == \"__main__\":\n",
    "    print(compute())"
   ]
  },
  {
   "cell_type": "code",
   "execution_count": null,
   "metadata": {},
   "outputs": [],
   "source": [
    "#problem 10\n",
    "def it_prime(number):\n",
    "    factor_counter = 0\n",
    "    for factor in range(2, number + 1):\n",
    "        if number % factor == 0:\n",
    "            factor_counter += 1 \n",
    "    if factor_counter == 1:\n",
    "        return True\n",
    "    else:\n",
    "        return False\n",
    "\n",
    "summa = 0\n",
    "number = 0\n",
    "while number < 2000000:\n",
    "    if it_prime(number):\n",
    "        summa += number\n",
    "    number += 1\n",
    "\n",
    "print(summa)\n",
    "        "
   ]
  },
  {
   "cell_type": "code",
   "execution_count": null,
   "metadata": {},
   "outputs": [],
   "source": [
    "#problem 10\n",
    "\n",
    "def triangle_number(number):\n",
    "    return sum([i for i in range(number+1)])\n",
    "\n",
    "def factor_counter(number):\n",
    "    counter = 0\n",
    "    for i in range(1, number+1):\n",
    "        if number % i == 0:\n",
    "            counter += 1\n",
    "    return counter\n",
    "\n",
    "member_index = 1\n",
    "while factor_counter(triangle_number(member_index)) < 500:\n",
    "    member_index += 1\n",
    "    \n",
    "    \n",
    "print(triangle_number(member_index))\n",
    "    \n",
    "\n",
    "#def compute():\n",
    "#    while factor_counter(number) < 500:\n",
    "        "
   ]
  },
  {
   "cell_type": "code",
   "execution_count": 9,
   "metadata": {},
   "outputs": [
    {
     "name": "stdout",
     "output_type": "stream",
     "text": [
      "1\n"
     ]
    }
   ],
   "source": [
    "number = 123\n",
    "\n",
    "if number % 2:\n",
    "    print(number % 2)\n",
    "else:\n",
    "    print('no')"
   ]
  },
  {
   "cell_type": "code",
   "execution_count": null,
   "metadata": {},
   "outputs": [],
   "source": []
  }
 ],
 "metadata": {
  "kernelspec": {
   "display_name": "Python 3",
   "language": "python",
   "name": "python3"
  },
  "language_info": {
   "codemirror_mode": {
    "name": "ipython",
    "version": 3
   },
   "file_extension": ".py",
   "mimetype": "text/x-python",
   "name": "python",
   "nbconvert_exporter": "python",
   "pygments_lexer": "ipython3",
   "version": "3.8.3"
  }
 },
 "nbformat": 4,
 "nbformat_minor": 4
}
