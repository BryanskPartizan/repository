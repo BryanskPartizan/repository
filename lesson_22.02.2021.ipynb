{
 "cells": [
  {
   "cell_type": "code",
   "execution_count": 12,
   "metadata": {},
   "outputs": [
    {
     "name": "stdout",
     "output_type": "stream",
     "text": [
      "Изначальные значения: [13, 14, 16, 8, 123, 71, 24, 15, 31, 91]\n",
      "Британские мили: [8.078, 8.699, 9.942, 4.971, 76.431, 44.119, 14.913, 9.321, 19.263, 56.546]\n",
      "Географические мили: [7.007, 7.546, 8.624, 4.312, 66.297, 38.269, 12.936, 8.085, 16.709, 49.049]\n",
      "Древнеримские мили: [8.772, 9.447, 10.796, 5.398, 82.996, 47.908, 16.194, 10.121, 20.918, 61.404]\n"
     ]
    }
   ],
   "source": [
    "# Задание 1\n",
    "distance_list = [13, 14, 16, 8, 123, 71, 24, 15, 31, 91]\n",
    "miles_list = [1.6093, 1.8553, 1.482]\n",
    "finally_list = []\n",
    "\n",
    "\n",
    "for miles in miles_list:\n",
    "    finally_list.append(list(map(lambda dist: round(dist / miles, 3), distance_list)))\n",
    "\n",
    "print(f'Изначальные значения: {distance_list}')\n",
    "print(f'Британские мили: {finally_list[0]}')\n",
    "print(f'Географические мили: {finally_list[1]}')\n",
    "print(f'Древнеримские мили: {finally_list[2]}')\n"
   ]
  },
  {
   "cell_type": "code",
   "execution_count": 16,
   "metadata": {},
   "outputs": [
    {
     "name": "stdout",
     "output_type": "stream",
     "text": [
      "Как много чисел необходимо: 10\n",
      "45\n"
     ]
    }
   ],
   "source": [
    "# Задание 2\n",
    "import functools\n",
    "\n",
    "def list_create(number):\n",
    "    return [i for i in range(1, number + 1)]\n",
    "\n",
    "\n",
    "number = int(input('Как много чисел необходимо: '))\n",
    "list_ = list_create(number)\n",
    "summa = functools.reduce(lambda number_one, number_two: number_one + number_two, list_)\n",
    "\n",
    "print(summa)\n"
   ]
  },
  {
   "cell_type": "code",
   "execution_count": 10,
   "metadata": {},
   "outputs": [
    {
     "name": "stdout",
     "output_type": "stream",
     "text": [
      "Факториал какого числа необходим? 5\n",
      "5! = 120\n"
     ]
    }
   ],
   "source": [
    "# Задание 3\n",
    "import functools\n",
    "\n",
    "def list_create(number):\n",
    "    return [i for i in range(1, number+1)]\n",
    "\n",
    "\n",
    "number = int(input('Факториал какого числа необходим? '))\n",
    "list_ = list_create(number)\n",
    "factorial = functools.reduce(lambda number_one, number_two: number_one * number_two, list_)\n",
    "\n",
    "print(f'{number}! = {factorial}')"
   ]
  },
  {
   "cell_type": "code",
   "execution_count": 49,
   "metadata": {},
   "outputs": [
    {
     "name": "stdout",
     "output_type": "stream",
     "text": [
      "Двойной факториал скольких чисел вам необходим? 5\n",
      "15\n"
     ]
    }
   ],
   "source": [
    "# Задание 4 через функцию\n",
    "number = int(input('Двойной факториал скольких чисел вам необходим? '))\n",
    "\n",
    "def double_factorial(number):\n",
    "    double_factorial = 1\n",
    "    number += 1\n",
    "    \n",
    "    if number % 2 == 0:\n",
    "        for i in range(1, number + 1, 2):\n",
    "            double_factorial *= i\n",
    "            \n",
    "    if number % 2 == 1:\n",
    "        for i in range(2, number + 1, 2):\n",
    "            double_factorial *= i\n",
    "    return double_factorial\n",
    "\n",
    "print(double_factorial(number))"
   ]
  },
  {
   "cell_type": "code",
   "execution_count": 56,
   "metadata": {},
   "outputs": [
    {
     "name": "stdout",
     "output_type": "stream",
     "text": [
      "Двойной факториал четного числа: 5\n",
      "8\n"
     ]
    }
   ],
   "source": [
    "# Задание 4 четные\n",
    "import functools\n",
    "\n",
    "def list_create(number):\n",
    "    return [i for i in range(1, number+1) if i % 2 == 0]\n",
    "\n",
    "\n",
    "number = int(input('Двойной факториал четного числа: '))\n",
    "list_ = list_create(number)\n",
    "factorial = functools.reduce(lambda number_one, number_two: number_one * number_two, list_)\n",
    "\n",
    "print(factorial)"
   ]
  },
  {
   "cell_type": "code",
   "execution_count": 58,
   "metadata": {},
   "outputs": [
    {
     "name": "stdout",
     "output_type": "stream",
     "text": [
      "Двойной факториал нечетного числа: 5\n",
      "15\n"
     ]
    }
   ],
   "source": [
    "# Задание 4 нечетные\n",
    "import functools\n",
    "\n",
    "def list_create(number):\n",
    "    return [i for i in range(1, number+1) if i % 2 == 1]\n",
    "\n",
    "\n",
    "number = int(input('Двойной факториал нечетного числа: '))\n",
    "list_ = list_create(number)\n",
    "factorial = functools.reduce(lambda number_one, number_two: number_one * number_two, list_)\n",
    "\n",
    "print(factorial)"
   ]
  },
  {
   "cell_type": "code",
   "execution_count": 11,
   "metadata": {},
   "outputs": [
    {
     "name": "stdout",
     "output_type": "stream",
     "text": [
      "False\n",
      "Help on function is_prime in module __main__:\n",
      "\n",
      "is_prime(number)\n",
      "    number → True/False\n",
      "    The function determines whether a number is prime or not.\n",
      "    It is maximally optimized from the point of view of mathematical analysis \n",
      "    and uses the most efficient algorithm that can be used in conjunction with \n",
      "    libraries that connect multithreading, which will significantly reduce the time spent \n",
      "    finding primes greater than a billion\n",
      "\n",
      "None\n"
     ]
    }
   ],
   "source": [
    "# Задание 5 \n",
    "import math\n",
    "\n",
    "\n",
    "def is_prime(number):\n",
    "    '''\n",
    "    number → True/False\n",
    "    The function determines whether a number is prime or not.\n",
    "    It is maximally optimized from the point of view of mathematical analysis \n",
    "    and uses the most efficient algorithm that can be used in conjunction with \n",
    "    libraries that connect multithreading, which will significantly reduce the time spent \n",
    "    finding primes greater than a billion\n",
    "    '''\n",
    "    if number == 2:\n",
    "        return True\n",
    "    if number == 1 or not number % 2:\n",
    "        return False\n",
    "    for div in range(3, int(math.sqrt(number)) + 1, 2):\n",
    "        if not number % div:\n",
    "            return False\n",
    "    return True\n",
    "\n",
    "\n",
    "if __name__ == \"__main__\":\n",
    "    print(is_prime(88481929398196008514251321759158783190911823787581783718785718237871837182378781732873817415827514343))\n",
    "    \n",
    "    print(help(is_prime))"
   ]
  },
  {
   "cell_type": "code",
   "execution_count": 16,
   "metadata": {},
   "outputs": [
    {
     "name": "stdout",
     "output_type": "stream",
     "text": [
      "Для того, чтобы подсчитать площадь нужной вам фигуры\n",
      "выберите названия из: \"прямоугольник\", \"треугольник\", \"трапеция\", \"круг\", \"эллипс\" круг\n",
      "Введите радиус круга: 4.184881\n"
     ]
    },
    {
     "data": {
      "text/plain": [
       "55.02"
      ]
     },
     "execution_count": 16,
     "metadata": {},
     "output_type": "execute_result"
    }
   ],
   "source": [
    "# Задание 6\n",
    "import math\n",
    "\n",
    "def area_count(name):\n",
    "    '''\n",
    "    (string, numbers) -> numbers(float)\n",
    "    This function calculate area of figure (rectangle or triangle or trapeze or circle or ellips).\n",
    "    The function is accessed in two stages: the main function is accessed by specifying a lowercase \n",
    "    parameter-the name of the shape, after which the desired value is selected in the condition loop. \n",
    "    If this is not specified, an error is transmitted about incorrect input of values.\n",
    "    '''\n",
    "    \n",
    "    def rectangle(side_one, side_two):\n",
    "        return round(side_one * side_two, 2)\n",
    "           \n",
    "    def triangle(side_one, side_two, side_three):\n",
    "        half_per = (side_one + side_two + side_three) / 2\n",
    "        square = math.sqrt(half_per * (half_per - side_one) * (half_per - side_two) * (half_per - side_three))\n",
    "        return round(square, 2)\n",
    "    \n",
    "    def trapeze(side_one, side_two, heigh):\n",
    "        square = 0.5 * heigh * (side_one + side_two)\n",
    "        return round(square, 2)\n",
    "    \n",
    "    def circle(radius):\n",
    "        return round((math.pi * radius**2), 2)\n",
    "    \n",
    "    def ellipse(small_rad, big_rad):\n",
    "        return round(math.pi * small_rad * big_rad, 2)\n",
    "   \n",
    "    if name == 'прямоугольник':\n",
    "        side_one = float(input('Введите длину первой стороны: '))\n",
    "        side_two = float(input('Введите длину второй стороны: '))\n",
    "        return rectangle(side_one, side_two)\n",
    "    \n",
    "    elif name == 'треугольник':\n",
    "        side_one = float(input('Введите длину первой стороны: '))\n",
    "        side_two = float(input('Введите длину второй стороны: '))\n",
    "        side_three = float(input('Введите длину третьей стороны: '))\n",
    "        return triangle(side_one, side_two, side_three)\n",
    "    \n",
    "    elif name == 'трапеция':\n",
    "        side_one = float(input('Введите длину первой стороны: '))\n",
    "        side_two = float(input('Введите длину второй стороны: '))\n",
    "        heigh = float(input('Введите высоту: '))\n",
    "        return trapeze(side_one, side_two, heigh)\n",
    "    \n",
    "    elif name == 'круг':\n",
    "        radius = float(input('Введите радиус круга: '))\n",
    "        return circle(radius)\n",
    "    \n",
    "    elif name == 'эллипс':\n",
    "        small_rad = float(input('Введите меньший радиус: '))\n",
    "        big_rad = float(input('Введите больший радиус: '))\n",
    "        return ellipse(small_rad, big_rad)\n",
    "    \n",
    "    else:\n",
    "        NameError = 'Введено неправильное название'\n",
    "        return NameError\n",
    "    \n",
    "print('Для того, чтобы подсчитать площадь нужной вам фигуры')\n",
    "name = input('выберите названия из: \"прямоугольник\", \"треугольник\", \"трапеция\", \"круг\", \"эллипс\" ')\n",
    "area_count(name)"
   ]
  },
  {
   "cell_type": "code",
   "execution_count": 10,
   "metadata": {},
   "outputs": [
    {
     "name": "stdout",
     "output_type": "stream",
     "text": [
      "================ИНФОРМАЦИЯ О ФИГУРЕ================\n",
      "Фигура с названием: прямоугольник\n",
      "Длина первой стороны: 18.235\n",
      "Длина второй стороны: 3.5881\n",
      "Периметр фигуры: 21.8231\n",
      "Площадь фигуры: 65.43\n",
      "\n",
      "\n",
      "================ИНФОРМАЦИЯ О ФИГУРЕ================\n",
      "Фигура с названием: треугольник\n",
      "Длина первой стороны: 3\n",
      "Длина второй стороны: 5\n",
      "Длина третьей стороны: 7\n",
      "Периметр фигуры: 15\n",
      "Площадь фигуры: 6.5\n",
      "\n",
      "\n",
      "================ИНФОРМАЦИЯ О ФИГУРЕ================\n",
      "Фигура с названием: трапеция\n",
      "Длина первой стороны: 6\n",
      "Длина второй стороны: 8\n",
      "Длина третьей стороны: 4.8\n",
      "Периметр фигуры: 18.8\n",
      "Площадь фигуры: 33.6\n",
      "\n",
      "\n",
      "================ИНФОРМАЦИЯ О ФИГУРЕ================\n",
      "Фигура с названием: круг\n",
      "Длина первой стороны: 8\n",
      "Периметр фигуры: 0\n",
      "Площадь фигуры: 201.06\n",
      "\n",
      "\n",
      "================ИНФОРМАЦИЯ О ФИГУРЕ================\n",
      "Фигура с названием: эллипс\n",
      "Длина первой стороны: 12\n",
      "Длина второй стороны: 3\n",
      "Периметр фигуры: 15\n",
      "Площадь фигуры: 113.1\n",
      "\n",
      "\n",
      "Хотите ли вы создать свою фигуру: \"да\" или \"нет\" нет\n"
     ]
    }
   ],
   "source": [
    "# Задача 6 ООП\n",
    "\n",
    "import math\n",
    "\n",
    "class Figure(object):\n",
    "    \n",
    "    def __init__(self, name, side_one, side_two=0, side_three=0, side_four=0):\n",
    "        self.name = name\n",
    "        self.side_one = side_one\n",
    "        self.side_two = side_two\n",
    "        self.side_three = side_three\n",
    "        self.side_four = side_four\n",
    "        \n",
    "    def perimeter(self):\n",
    "        if self.side_two != 0:\n",
    "            return self.side_one + self.side_two + self.side_three + self.side_four\n",
    "        else:\n",
    "            return 0\n",
    "        \n",
    "    def halfmeter(self):\n",
    "        return self.perimeter() / 2\n",
    "            \n",
    "    def area(self):\n",
    "        if self.name == 'прямоугольник':\n",
    "            area = self.side_one * self.side_two\n",
    "        elif self.name == 'треугольник':\n",
    "            area = math.sqrt(self.halfmeter() * (self.halfmeter() - self.side_one) * \\\n",
    "                             (self.halfmeter() - self.side_two) * (self.halfmeter() - self.side_three))\n",
    "        elif self.name == 'трапеция':\n",
    "            area = self.side_three * (self.side_one + self.side_two) / 2\n",
    "        elif self.name == 'круг':\n",
    "            area = math.pi * (self.side_one ** 2)\n",
    "        elif self.name == 'эллипс':\n",
    "            area = math.pi * self.side_one * self.side_two\n",
    "        else:\n",
    "            return 0\n",
    "        return round(area, 2)\n",
    "    \n",
    "    def show_info(self):\n",
    "        print('================ИНФОРМАЦИЯ О ФИГУРЕ================')\n",
    "        print(f'Фигура с названием: {self.name}')\n",
    "        print(f'Длина первой стороны: {self.side_one}')\n",
    "        if self.side_two != 0:\n",
    "            print(f'Длина второй стороны: {self.side_two}')\n",
    "        if self.side_three != 0:\n",
    "            print(f'Длина третьей стороны: {self.side_three}')\n",
    "        if self.side_four != 0:\n",
    "            print(f'Длина четвертой стороны: {self.side_four}')\n",
    "        print(f'Периметр фигуры: {self.perimeter()}')\n",
    "        print(f'Площадь фигуры: {self.area()}')\n",
    "        print('\\n')\n",
    "        \n",
    "        \n",
    "        \n",
    "        \n",
    "def object_creator():\n",
    "    accept_words = ['lf', 'yes', 'Yes', 'Lf', 'да', 'Да']\n",
    "    option = input('Хотите ли вы создать свою фигуру: \"да\" или \"нет\" ')\n",
    "    if option in accept_words:\n",
    "        log_option = True\n",
    "    else:\n",
    "        log_option = False\n",
    "        \n",
    "    if log_option:\n",
    "        help_words = [['Введите длину: ', 'Введите ширину: '], \n",
    "                      ['Введите первую сторону: ', 'Введите вторую сторону: ', 'Введите третью сторону: '], \n",
    "                      ['Введите длину нижнего основания: ', 'Введите длину верхнего основания: ', 'Введите высоту: '],\n",
    "                      ['Введите радиус круга: '], \n",
    "                      ['Введите больший радиус: ', 'Введите меньший радиус']]\n",
    "        \n",
    "        name = input('Выберите названия из: \"прямоугольник\", \"треугольник\", \"трапеция\", \"круг\", \"эллипс\" ')\n",
    "       \n",
    "        if name == 'прямоугольник':\n",
    "            sub_index = 0\n",
    "            number = 2\n",
    "        if name == 'треугольник':\n",
    "            sub_index = 1\n",
    "            number = 3\n",
    "        if name == 'трапеция':\n",
    "            sub_index = 2\n",
    "            number = 3\n",
    "        if name == 'круг':\n",
    "            sub_index = 3\n",
    "            number = 1\n",
    "        if name == 'эллипс':\n",
    "            sub_index = 4\n",
    "            number = 2\n",
    "            \n",
    "        side_list = []\n",
    "        for i in range(number):\n",
    "            side_list.append(float(input(help_words[sub_index][i])))\n",
    "        print('\\n')\n",
    "        \n",
    "        user_figure = Figure(name, *side_list)\n",
    "        return user_figure.show_info()\n",
    "    \n",
    "        \n",
    "\n",
    "if __name__ == \"__main__\":\n",
    "    # я создал здесь по одному экземпляру фигур \n",
    "    rectangle = Figure('прямоугольник', 18.235, 3.5881)\n",
    "    triangle = Figure('треугольник', 3, 5, 7)\n",
    "    trapeze = Figure('трапеция', 6, 8, 4.8)\n",
    "    circle = Figure('круг', 8)\n",
    "    ellipse = Figure('эллипс', 12, 3)\n",
    "    \n",
    "    # и вывел информацию о них\n",
    "    rectangle.show_info()\n",
    "    triangle.show_info()\n",
    "    trapeze.show_info()\n",
    "    circle.show_info()\n",
    "    ellipse.show_info()\n",
    "    \n",
    "    # обращение к функции, которая создаст объект\n",
    "    object_creator()\n",
    "    \n"
   ]
  },
  {
   "cell_type": "code",
   "execution_count": null,
   "metadata": {},
   "outputs": [],
   "source": []
  }
 ],
 "metadata": {
  "kernelspec": {
   "display_name": "Python 3",
   "language": "python",
   "name": "python3"
  },
  "language_info": {
   "codemirror_mode": {
    "name": "ipython",
    "version": 3
   },
   "file_extension": ".py",
   "mimetype": "text/x-python",
   "name": "python",
   "nbconvert_exporter": "python",
   "pygments_lexer": "ipython3",
   "version": "3.8.5"
  }
 },
 "nbformat": 4,
 "nbformat_minor": 4
}
