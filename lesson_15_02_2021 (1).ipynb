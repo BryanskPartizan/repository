{
 "cells": [
  {
   "cell_type": "code",
   "execution_count": 6,
   "metadata": {
    "scrolled": true
   },
   "outputs": [
    {
     "name": "stdout",
     "output_type": "stream",
     "text": [
      "Введите сумму кредита: 1000\n",
      "Введите процентную ставку: 10\n",
      "Введите срок кредита: 2\n",
      "\n",
      "\n",
      "Месячный платёж составит: 46\n",
      "Всего сумма кредита с процентами: 1104\n",
      "Проценты банку: 104\n"
     ]
    }
   ],
   "source": [
    "#Задача 1 вариант 1\n",
    "\n",
    "def month_pay(summ, percent, year):\n",
    "    pay_summ = summ * ((1 + percent/100) ** (1/12) - 1) / (1 - (1 + percent/100) ** (-year))\n",
    "    return pay_summ\n",
    "\n",
    "\n",
    "summ = int(input('Введите сумму кредита: '))\n",
    "percent = int(input('Введите процентную ставку: '))\n",
    "year = int(input('Введите срок кредита: '))\n",
    "\n",
    "month_summ = round(month_pay(summ, percent, year))\n",
    "global_summ = round(month_summ * 12 * year)\n",
    "delta = global_summ - summ\n",
    "\n",
    "print('\\n')\n",
    "print(f'Месячный платёж составит: {month_summ}')\n",
    "print(f'Всего сумма кредита с процентами: {global_summ}')\n",
    "print(f'Проценты банку: {delta}')"
   ]
  },
  {
   "cell_type": "code",
   "execution_count": 43,
   "metadata": {},
   "outputs": [
    {
     "name": "stdout",
     "output_type": "stream",
     "text": [
      "Введите сумму кредита: 1000\n",
      "Введите процентную ставку: 10\n",
      "Введите срок кредита: 2\n",
      "\n",
      "\n",
      "Месячный платёж составит: 46\n",
      "Всего сумма кредита с процентами: 1104\n",
      "Проценты банку: 104\n"
     ]
    }
   ],
   "source": [
    "#Задача 1 вариант 2\n",
    "\n",
    "def month_pay(summ, percent, year):\n",
    "    pay_summ = round(summ * ((1 + percent/100) ** (1/12) - 1) / (1 - (1 + percent/100) ** (-year)))\n",
    "    global_summ = round(pay_summ * 12 * year)\n",
    "    delta = global_summ - summ\n",
    "    return pay_summ, global_summ, delta\n",
    "\n",
    "\n",
    "summ = int(input('Введите сумму кредита: '))\n",
    "percent = int(input('Введите процентную ставку: '))\n",
    "year = int(input('Введите срок кредита: '))\n",
    "\n",
    "\n",
    "month_summ = month_pay(summ, percent, year)[0]\n",
    "global_summ = month_pay(summ, percent, year)[1]\n",
    "delta = month_pay(summ, percent, year)[2]\n",
    "\n",
    "\n",
    "print('\\n')\n",
    "print(f'Месячный платёж составит: {month_summ}')\n",
    "print(f'Всего сумма кредита с процентами: {global_summ}')\n",
    "print(f'Проценты банку: {delta}')"
   ]
  },
  {
   "cell_type": "code",
   "execution_count": 15,
   "metadata": {},
   "outputs": [
    {
     "name": "stdout",
     "output_type": "stream",
     "text": [
      "Введите диаметр бака: 1\n",
      "Введите высоту бака: 1\n",
      "Введите площадь окрашивания одной банкой: 0.25\n",
      "Вам необходимо банок краски: 38\n"
     ]
    }
   ],
   "source": [
    "#Задача 2\n",
    "\n",
    "import math\n",
    "\n",
    "\n",
    "def color_count(diameter, height, area):\n",
    "    square_cylindr = 2 * (math.pi * 2 * (diameter / 2) * height + 2 * (math.pi * (diameter / 2) ** 2))\n",
    "    count = round(square_cylindr / area)\n",
    "    return count\n",
    "\n",
    "\n",
    "diameter = float(input('Введите диаметр бака: '))\n",
    "height = float(input('Введите высоту бака: '))\n",
    "area = float(input('Введите площадь окрашивания одной банкой: '))\n",
    "\n",
    "\n",
    "print(f'Вам необходимо банок краски: {color_count(diameter, height, area)}')\n"
   ]
  },
  {
   "cell_type": "code",
   "execution_count": 39,
   "metadata": {},
   "outputs": [
    {
     "name": "stdout",
     "output_type": "stream",
     "text": [
      "Введите диаметр бака: 1\n",
      "Введите высоту бака: 1\n",
      "Площадь окрашивания банкой внешняя: 0.25\n",
      "Площадь окрашивания банкой внутри: 0.5\n",
      "Для окрашивания внешней части: 19 банок\n",
      "Для окрашивания внутренней части: 9 банок\n"
     ]
    }
   ],
   "source": [
    "# Задача 3\n",
    "\n",
    "import math\n",
    "\n",
    "def color_count(diameter, heignt, *areas):\n",
    "    count_list = []\n",
    "    square_cylindr = math.pi * 2 * (diameter / 2) * height + 2 * (math.pi * (diameter / 2) ** 2)\n",
    "    for area in areas:\n",
    "        count_list.append(round(square_cylindr / area))\n",
    "    return count_list\n",
    "\n",
    "diameter = float(input('Введите диаметр бака: '))\n",
    "height = float(input('Введите высоту бака: '))\n",
    "area_one = float(input('Площадь окрашивания банкой внешняя: '))\n",
    "area_two = float(input('Площадь окрашивания банкой внутри: '))\n",
    "\n",
    "\n",
    "print(f'Для окрашивания внешней части: {color_count(diameter, height, area_one, area_two)[0]} банок')\n",
    "print(f'Для окрашивания внутренней части: {color_count(diameter, height, area_one, area_two)[1]} банок')"
   ]
  },
  {
   "cell_type": "code",
   "execution_count": 65,
   "metadata": {},
   "outputs": [
    {
     "name": "stdout",
     "output_type": "stream",
     "text": [
      "Воскресенье\n"
     ]
    }
   ],
   "source": [
    "#Задача 4\n",
    "\n",
    "\n",
    "\n",
    "def day_week(number):\n",
    "    days_rus = ['Понедельник', 'Вторник', 'Среда', 'Четверг', 'Пятница', 'Суббота', 'Воскресенье']\n",
    "    number_days = [i for i in range(1, 8)]\n",
    "    week_dict = {number: week for (number, week) in zip(number_days, days_rus)}\n",
    "    \n",
    "    if number < 1:\n",
    "        return print('Ошибка. Число может быть в диапазоне от 1.')\n",
    "    else:\n",
    "        if number > 7:\n",
    "            number %= 7\n",
    "            if number == 0 :\n",
    "                number = 7\n",
    "        day = week_dict[number]\n",
    "        return day\n",
    "\n",
    "    \n",
    "    \n",
    "number = int(input('Введите число: '))\n",
    "    \n",
    "print(day_week(number))"
   ]
  },
  {
   "cell_type": "code",
   "execution_count": 72,
   "metadata": {},
   "outputs": [
    {
     "name": "stdout",
     "output_type": "stream",
     "text": [
      "Введите число: 123\n",
      "Введите язык: рус\n",
      "Четверг\n"
     ]
    }
   ],
   "source": [
    "#Задача 5\n",
    "\n",
    "def day_week(number, lang):\n",
    "    days_rus = ['Понедельник', 'Вторник', 'Среда', 'Четверг', 'Пятница', 'Суббота', 'Воскресение']\n",
    "    days_eng = ['Monday', 'Tuesday', 'Wednesday', 'Thursday', 'Friday', 'Saturday', 'Sunday']\n",
    "    number_days = [i for i in range(1, 8)]\n",
    "    \n",
    "    if lang == 'Eng' or lang == 'eng' or lang == 'English' or lang == 'english' or lang == 'англ' or lang == 'анг':\n",
    "        week_dict = {number: week for (number, week) in zip(number_days, days_eng)}\n",
    "    elif lang == 'RU' or lang == 'ru' or lang == 'rus' or lang == 'рус' or lang == 'ру':\n",
    "        week_dict = {number: week for (number, week) in zip(number_days, days_rus)}\n",
    "    else:\n",
    "        return print('Ошибка. Недопустимое название языка.')\n",
    "    \n",
    "    if number < 1:\n",
    "        return print('Ошибка. Число может быть в диапазоне от 1.')\n",
    "    else:\n",
    "        if number > 7:\n",
    "            number %= 7\n",
    "            if number == 0 :\n",
    "                number = 7\n",
    "        day = week_dict[number]\n",
    "        return day\n",
    "    \n",
    "\n",
    "number = int(input('Введите число: '))\n",
    "string = input('Введите язык: ')\n",
    "\n",
    "print(day_week(number, string))"
   ]
  },
  {
   "cell_type": "code",
   "execution_count": 76,
   "metadata": {},
   "outputs": [
    {
     "name": "stdout",
     "output_type": "stream",
     "text": [
      "Введите число: 123\n",
      "Введите язык: англ\n",
      "Вы хотите сокращенные названия? Да\n",
      "Thu\n"
     ]
    }
   ],
   "source": [
    "#Задача 6\n",
    "\n",
    "\n",
    "def day_week(number, lang, reduction=True):\n",
    "    \n",
    "    days_rus = ['Понедельник', 'Вторник', 'Среда', 'Четверг', 'Пятница', 'Суббота', 'Воскресение']\n",
    "    days_eng = ['Monday', 'Tuesday', 'Wednesday', 'Thursday', 'Friday', 'Saturday', 'Sunday']\n",
    "    days_rus_red = ['Пон', 'Втор', 'Ср', 'Чет', 'Пят', 'Суб', 'Воск']\n",
    "    days_eng_red = ['Mon', 'Tue', 'Wed', 'Thu', 'Fri', 'Sat', 'Sun']\n",
    "    number_days = [i for i in range(1, 8)]\n",
    "    \n",
    "    if (lang == 'Eng' or lang == 'eng' or lang == 'English' or lang == 'english' or lang == 'англ' or lang == 'анг') and reduction:\n",
    "        week_dict = {number: week for (number, week) in zip(number_days, days_eng)}\n",
    "    elif (lang == 'RU' or lang == 'ru' or lang == 'rus' or lang == 'рус' or lang == 'ру') and reduction:\n",
    "        week_dict = {number: week for (number, week) in zip(number_days, days_rus)}\n",
    "    elif (lang == 'Eng' or lang == 'eng' or lang == 'English' or lang == 'english' or lang == 'англ' or lang == 'анг') and not(reduction):\n",
    "        week_dict = {number: week for (number, week) in zip(number_days, days_eng_red)}\n",
    "    elif (lang == 'RU' or lang == 'ru' or lang == 'rus' or lang == 'рус' or lang == 'ру') and not(reduction):\n",
    "        week_dict = {number: week for (number, week) in zip(number_days, days_rus_red)}\n",
    "    else:\n",
    "        return print('Ошибка. Недопустимое название языка.')\n",
    "    \n",
    "    \n",
    "    if number < 1:\n",
    "        return print('Ошибка. Число может быть в диапазоне от 1.')\n",
    "    else:\n",
    "        if number > 7:\n",
    "            number %= 7\n",
    "            if number == 0 :\n",
    "                number = 7\n",
    "        day = week_dict[number]\n",
    "        return day\n",
    "\n",
    "\n",
    "number = int(input('Введите число: '))\n",
    "string = input('Введите язык: ')\n",
    "string_red = input('Вы хотите сокращенные названия? ')\n",
    "if string_red == 'Да':\n",
    "    reduction = False\n",
    "    \n",
    "\n",
    "print(day_week(number, string, reduction))"
   ]
  },
  {
   "cell_type": "code",
   "execution_count": null,
   "metadata": {},
   "outputs": [],
   "source": []
  }
 ],
 "metadata": {
  "kernelspec": {
   "display_name": "Python 3",
   "language": "python",
   "name": "python3"
  },
  "language_info": {
   "codemirror_mode": {
    "name": "ipython",
    "version": 3
   },
   "file_extension": ".py",
   "mimetype": "text/x-python",
   "name": "python",
   "nbconvert_exporter": "python",
   "pygments_lexer": "ipython3",
   "version": "3.6.5"
  }
 },
 "nbformat": 4,
 "nbformat_minor": 2
}
