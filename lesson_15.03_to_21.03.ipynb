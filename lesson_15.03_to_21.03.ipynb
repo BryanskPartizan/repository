{
 "cells": [
  {
   "cell_type": "code",
   "execution_count": 31,
   "metadata": {},
   "outputs": [
    {
     "name": "stdout",
     "output_type": "stream",
     "text": [
      "write a number: 1.123\n",
      "===========================================================================\n",
      "Вы ввели некорректное значение. Можно ввести только целое число.\n",
      "invalid literal for int() with base 10: '1.123'\n",
      "True\n"
     ]
    }
   ],
   "source": [
    "# 1\n",
    "\n",
    "def is_even(number):\n",
    "    if number % 2:\n",
    "        return False\n",
    "    else:\n",
    "        return True\n",
    "    return number % 2\n",
    "    \n",
    "try: \n",
    "    number = int(input('write a number: '))\n",
    "    if number == 0:\n",
    "        raise Exception('Ноль не является четным или нечетным числом')\n",
    "except ValueError as v_error:\n",
    "    print('==='*25)\n",
    "    print('Вы ввели некорректное значение. Можно ввести только целое число.')\n",
    "    print(v_error)\n",
    "\n",
    "if __name__ == \"__main__\":\n",
    "    print(is_even(number))\n"
   ]
  },
  {
   "cell_type": "code",
   "execution_count": 3,
   "metadata": {},
   "outputs": [
    {
     "name": "stdout",
     "output_type": "stream",
     "text": [
      "Введите количество строк: 3\n",
      "Введите количество столбцов: 3\n",
      "[9005, 5132, 6406]\n",
      "[5487, 673, 7432]\n",
      "[6282, 2003, 4101]\n"
     ]
    }
   ],
   "source": [
    "# 2\n",
    "import random\n",
    "\n",
    "def matrix_creator(m, n):\n",
    "    return [[random.randint(0, 9999) for i in range(n)] for j in range(m)]\n",
    "\n",
    "\n",
    "if __name__ == \"__main__\":\n",
    "    try:\n",
    "        m = int(input('Введите количество строк: '))\n",
    "        n = int(input('Введите количество столбцов: '))\n",
    "        assert m > 0\n",
    "        assert n > 0\n",
    "    except ValueError as v_error:\n",
    "        print('==='*25)\n",
    "        print('Вы ввели некорректное значение. Можно ввести только целое число.')\n",
    "        print(v_error)\n",
    "    except AssertionError as a_error:\n",
    "        print('Могут быть введены целые значения больше нуля')\n",
    "    \n",
    "    matrix = matrix_creator(m, n)\n",
    "    for index in range(len(matrix)):\n",
    "        print(matrix[index])\n",
    "    \n",
    "\n",
    "    "
   ]
  },
  {
   "cell_type": "code",
   "execution_count": 5,
   "metadata": {},
   "outputs": [
    {
     "name": "stdout",
     "output_type": "stream",
     "text": [
      "Введите количество строк: 3\n",
      "Введите количество столбцов: 3\n",
      "Сформирована матрица: \n",
      "[9585, 4215, 3635]\n",
      "[9734, 6135, 786]\n",
      "[9682, 2774, 5809]\n",
      "\n",
      "Сумма главной диагонали: 21529\n",
      "Cумма побочной диагонали: 19452\n"
     ]
    }
   ],
   "source": [
    "# 3\n",
    "def matrix_creator(m, n):\n",
    "    return [[random.randint(0, 9999) for i in range(n)] for j in range(m)]\n",
    "\n",
    "def main_diag(matrix):\n",
    "    main_diagonale = [matrix[i][i] for i in range(len(matrix))]\n",
    "    return main_diagonale\n",
    "\n",
    "\n",
    "def side_diag(matrix):\n",
    "    side_diagonale = [matrix[i][-i-1] for i in range(len(matrix))]\n",
    "    return side_diagonale\n",
    "\n",
    "\n",
    "if __name__ == \"__main__\":\n",
    "    try:\n",
    "        m = int(input('Введите количество строк: '))\n",
    "        n = int(input('Введите количество столбцов: '))\n",
    "        \n",
    "        if m == n:\n",
    "            pass\n",
    "        else:\n",
    "            raise Exception('Матрица не является квадратной')\n",
    "    except ValueError as v_error:\n",
    "        print('==='*25)\n",
    "        print('Вы ввели некорректное значение. Можно ввести только целое число.')\n",
    "        print(v_error)\n",
    "    except AssertionError as a_error:\n",
    "        print('Могут быть введены целые значения больше нуля')\n",
    "    \n",
    "    matrix = matrix_creator(m, n)\n",
    "    main_diagonale = main_diag(matrix)\n",
    "    side_diagonale = side_diag(matrix)\n",
    "    \n",
    "    print('Сформирована матрица: ')\n",
    "    \n",
    "    for index in range(len(matrix)):\n",
    "        print(matrix[index])\n",
    "    print(f'\\nСумма главной диагонали: {sum(main_diagonale)}')\n",
    "    print(f'Cумма побочной диагонали: {sum(side_diagonale)}')"
   ]
  },
  {
   "cell_type": "code",
   "execution_count": 8,
   "metadata": {},
   "outputs": [
    {
     "name": "stdout",
     "output_type": "stream",
     "text": [
      "input the first value: sd[pts\n",
      "input the second value: 9\n",
      "result equal sd[pts9\n"
     ]
    }
   ],
   "source": [
    "# 4\n",
    "\n",
    "try:\n",
    "    value_one_str = input('input the first value: ')\n",
    "    value_two_str = input('input the second value: ')\n",
    "    value_one_int = int(value_one_str)\n",
    "    value_two_int = int(value_two_str)\n",
    "    print(f'result equal {value_one_int + value_two_int}')\n",
    "except ValueError as v_error:\n",
    "    print(f'result equal {value_one_str + value_two_str}')"
   ]
  },
  {
   "cell_type": "code",
   "execution_count": 13,
   "metadata": {},
   "outputs": [
    {
     "name": "stdout",
     "output_type": "stream",
     "text": [
      "Module do not found\n",
      "This function or attribute do not found in this module\n"
     ]
    }
   ],
   "source": [
    "# 5\n",
    "\n",
    "try:\n",
    "    import radommkamd\n",
    "except ModuleNotFoundError:\n",
    "    print('Module do not found')\n",
    "    \n",
    "    \n",
    "try:\n",
    "    import math\n",
    "    print(math.cutting(2))\n",
    "except AttributeError:\n",
    "    print('This function or attribute do not found in this module')\n"
   ]
  },
  {
   "cell_type": "code",
   "execution_count": 6,
   "metadata": {},
   "outputs": [],
   "source": []
  },
  {
   "cell_type": "code",
   "execution_count": null,
   "metadata": {},
   "outputs": [],
   "source": []
  }
 ],
 "metadata": {
  "kernelspec": {
   "display_name": "Python 3",
   "language": "python",
   "name": "python3"
  },
  "language_info": {
   "codemirror_mode": {
    "name": "ipython",
    "version": 3
   },
   "file_extension": ".py",
   "mimetype": "text/x-python",
   "name": "python",
   "nbconvert_exporter": "python",
   "pygments_lexer": "ipython3",
   "version": "3.8.5"
  }
 },
 "nbformat": 4,
 "nbformat_minor": 2
}
