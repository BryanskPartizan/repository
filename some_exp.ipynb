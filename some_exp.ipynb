{
 "cells": [
  {
   "cell_type": "code",
   "execution_count": 22,
   "metadata": {},
   "outputs": [
    {
     "name": "stdout",
     "output_type": "stream",
     "text": [
      "Введите минимальную точку диапазона 0\n",
      "Введите максимальную точку диапазона 100\n",
      "Введите число! 2\n",
      "Вы попали в диапазон!\n"
     ]
    }
   ],
   "source": [
    "#ЗАДАЧА НОМЕР ОДИН СТР.19\n",
    "\n",
    "rad_min = int(input('Введите минимальную точку диапазона '))\n",
    "rad_max = int(input('Введите максимальную точку диапазона '))\n",
    "\n",
    "number = int(input('Введите число! '))\n",
    "if number >= rad_min and number <= rad_max:\n",
    "    print('Вы попали в диапазон!')\n",
    "else:\n",
    "    print('Вы не попали в диапазон!')"
   ]
  },
  {
   "cell_type": "code",
   "execution_count": 16,
   "metadata": {},
   "outputs": [
    {
     "name": "stdout",
     "output_type": "stream",
     "text": [
      "10000000000\n"
     ]
    }
   ],
   "source": [
    "import re\n",
    "\n",
    "def calc(string):\n",
    "    '''\n",
    "    Эта функция собирает два числа\n",
    "    '''\n",
    "    numbers = re.findall('[-+]?\\d+', string)\n",
    "    operand = re.findall('[-+/*^]', string)\n",
    "    \n",
    "    if operand[0] == '^': operand[0] = '**'\n",
    "    if operand[0] == ':': operand[0] = '/'\n",
    "    \n",
    "    if numbers[1] == '0' and operand[0] == '/':\n",
    "        return print('Error - divide on zero')\n",
    "    else:   \n",
    "        return eval(numbers[0] + operand[0] + numbers[1])\n",
    "\n",
    "print(calc('10 ^ 10'))"
   ]
  },
  {
   "cell_type": "code",
   "execution_count": 15,
   "metadata": {},
   "outputs": [
    {
     "name": "stdout",
     "output_type": "stream",
     "text": [
      "Введите первое число -10\n",
      "Введите второе число 0\n",
      "Введите третье число 12\n",
      "Введите четвёртое число 19\n",
      "-10 наименьшее число\n"
     ]
    }
   ],
   "source": [
    "#ЗАДАЧА НОМЕР ДВА СТР.19\n",
    "a = int(input('Введите первое число '))\n",
    "b = int(input('Введите второе число '))\n",
    "c = int(input('Введите третье число '))\n",
    "d = int(input('Введите четвёртое число '))\n",
    "\n",
    "if a < b and a < c and a < d:\n",
    "    print(str(a), 'наименьшее число')\n",
    "elif b < c and b < d:\n",
    "    print(str(b), 'наименьшее число')\n",
    "elif c < d:\n",
    "    print(str(c), 'наименьшее число')\n",
    "else:\n",
    "    print(str(d), 'наименьшее число')"
   ]
  },
  {
   "cell_type": "code",
   "execution_count": 20,
   "metadata": {},
   "outputs": [
    {
     "name": "stdout",
     "output_type": "stream",
     "text": [
      "Введите ваш балл 50\n",
      "Ваша оценка - 3.\n"
     ]
    }
   ],
   "source": [
    "#ЗАДАЧА НОМЕР ТРИ СТР.19\n",
    "number = int(input('Введите ваш балл '))\n",
    "\n",
    "if number < 50:\n",
    "    print('Ваша оценка - 2.')\n",
    "elif number > 49 and number < 70:\n",
    "    print('Ваша оценка - 3.')\n",
    "elif number > 69 and number < 86:\n",
    "    print('Ваша оценка - 4.')\n",
    "else:\n",
    "    print('Ваша оценка - 5.')"
   ]
  },
  {
   "cell_type": "code",
   "execution_count": 29,
   "metadata": {},
   "outputs": [
    {
     "name": "stdout",
     "output_type": "stream",
     "text": [
      "Введите трехзначное число777\n",
      "F=1\n"
     ]
    }
   ],
   "source": [
    "#ЗАДАЧА НОМЕР ЧЕТЫРЕ СТР.19\n",
    "\n",
    "number = int(input('Введите трехзначное число: '))\n",
    "number_str = str(number)\n",
    "\n",
    "if number_str[0] == '7':\n",
    "    print('F=1')\n",
    "elif number_str[1] == '7':\n",
    "    print('F=1')\n",
    "elif number_str[2] == '7':\n",
    "    print('F=1')\n",
    "else:\n",
    "    print('F=0')"
   ]
  },
  {
   "cell_type": "code",
   "execution_count": 39,
   "metadata": {},
   "outputs": [
    {
     "name": "stdout",
     "output_type": "stream",
     "text": [
      "Введите начало первого отрезка 2\n",
      "Введите конец первого отрезка 9\n",
      "Введите начало второго отрезка 0\n",
      "Введите конец второго отрезка 10\n",
      "Отрезок от 2 до 9\n"
     ]
    }
   ],
   "source": [
    "#ЗАДАЧА НОМЕР ПЯТЬ СТР. 19\n",
    "\n",
    "a = int(input('Введите начало первого отрезка '))\n",
    "b = int(input('Введите конец первого отрезка '))\n",
    "c = int(input('Введите начало второго отрезка '))\n",
    "d = int(input('Введите конец второго отрезка '))\n",
    "\n",
    "if b < c:\n",
    "    print('Отрезки не пересекаются')\n",
    "elif a < c and b < d:\n",
    "    print('Отрезок от {} до {}'.format(c, b))\n",
    "elif a < c and d < b:\n",
    "    print('Отрезок от {} до {}'.format(c, d))\n",
    "elif a > c and b < d:\n",
    "    print('Отрезок от {} до {}'.format(a, b))\n"
   ]
  },
  {
   "cell_type": "code",
   "execution_count": null,
   "metadata": {},
   "outputs": [],
   "source": []
  },
  {
   "cell_type": "code",
   "execution_count": 1,
   "metadata": {},
   "outputs": [
    {
     "name": "stdout",
     "output_type": "stream",
     "text": [
      "Создан список: [4, -6, 2, 5, 9]\n",
      "Среднее арифметическое: 2.8\n",
      "Обратный список: [9, 5, 2, -6, 4]\n",
      "Список из отрицательных элементов: [-6]\n",
      "Список без отрицательных элементов: [4, 2, 5, 9]\n"
     ]
    }
   ],
   "source": [
    "#Задача 1 стр 36\n",
    "import random\n",
    "import copy\n",
    "\n",
    "lt = list()\n",
    "def list_creator(list_name):\n",
    "    for i in range(5):\n",
    "        list_name.append(random.randint(-10, 10))\n",
    "    return list_name\n",
    "    \n",
    "def minus_number(list_name):\n",
    "    list_new = list()\n",
    "    for number in list_name:\n",
    "        if number < 0:\n",
    "            list_new.append(number)\n",
    "    for number in list_new:\n",
    "        list_name.remove(number)\n",
    "    return(list_new)\n",
    "\n",
    "\n",
    "print(f'Создан список: {list_creator(lt)}')\n",
    "print(f'Среднее арифметическое: {sum(lt) / len(lt)}')\n",
    "lt2 = copy.deepcopy(lt)\n",
    "lt2.reverse()\n",
    "print(f'Обратный список: {lt2}')\n",
    "print(f'Список из отрицательных элементов: {minus_number(lt)}')\n",
    "print(f'Список без отрицательных элементов: {lt}')"
   ]
  },
  {
   "cell_type": "code",
   "execution_count": 6,
   "metadata": {},
   "outputs": [
    {
     "name": "stdout",
     "output_type": "stream",
     "text": [
      "Сформирован первый список: [-29411, -18639, 6431, 31792, 42456, 61512]\n",
      "Сформирован второй список: [-94766, -86845, -73360, 24783, 74375, 83181]\n",
      "Сформировано объединение: [-29411, -18639, 6431, 31792, 42456, 61512, -94766, -86845, -73360, 24783, 74375, 83181]\n",
      "Произведена сортировка: [-94766, -86845, -73360, -29411, -18639, 6431, 24783, 31792, 42456, 61512, 74375, 83181]\n"
     ]
    }
   ],
   "source": [
    "#Задача 2 стр 36\n",
    "import random\n",
    "\n",
    "list_one = list()\n",
    "list_two = list()\n",
    "\n",
    "for i in range(6):\n",
    "    list_one.append(random.randint(-10**5, 10**5))\n",
    "    list_two.append(random.randint(-10**5, 10**5))\n",
    "list_two.sort()\n",
    "list_one.sort()\n",
    "new_list = list_one + list_two\n",
    "\n",
    "def insertion_method_sort(list_name):\n",
    "    for i in range(1, len(list_name)):\n",
    "        current_value = list_name[i]\n",
    "        position = i\n",
    "        while position > 0 and list_name[position - 1] > current_value:\n",
    "            list_name[position] = list_name[position - 1]\n",
    "            position -= 1\n",
    "        list_name[position] = current_value\n",
    "    return list_name\n",
    "\n",
    "print(f'Сформирован первый список: {list_one}')\n",
    "print(f'Сформирован второй список: {list_two}')\n",
    "print(f'Сформировано объединение: {new_list}')\n",
    "print(f'Произведена сортировка: {insertion_method_sort(new_list)}')"
   ]
  },
  {
   "cell_type": "code",
   "execution_count": 22,
   "metadata": {},
   "outputs": [
    {
     "name": "stdout",
     "output_type": "stream",
     "text": [
      "Введите координату первой точки: -1\n",
      "Введите координату первой точки: 3\n",
      "Введите координату второй точки: 2\n",
      "Введите координату второй точки: -3\n",
      "Введите координату третьей точки: -1\n",
      "Введите координату третьей точки: -4\n",
      "[[-1, 3], [2, -3], [-1, -4]]\n",
      "Площадь равна: 10.5\n",
      "Длина первой стороны: 6.708203932499369\n",
      "Длина второй стороны: 3.1622776601683795\n",
      "Длина третьей стороны: 7.0\n",
      "Периметр: 16.87048159266775\n",
      "None\n"
     ]
    }
   ],
   "source": [
    "#Задача 3 стр 36\n",
    "import math\n",
    "x1 = int(input('Введите координату первой точки: '))\n",
    "y1 = int(input('Введите координату первой точки: '))\n",
    "list_coord = [[x1, y1]]\n",
    "x2 = int(input('Введите координату второй точки: '))\n",
    "y2 = int(input('Введите координату второй точки: '))\n",
    "list_coord.append([x2, y2])\n",
    "x3 = int(input('Введите координату третьей точки: '))\n",
    "y3 = int(input('Введите координату третьей точки: '))\n",
    "list_coord.append([x3,y3])\n",
    "\n",
    "def is_triangle(list_name):\n",
    "    square = math.fabs(0.5 * (list_name[0][0]*(list_name[1][1]-list_name[2][1]) + list_name[1][0] * (list_name[2][1]-list_name[0][1]) + list_name[2][0] * (list_name[0][1]-list_name[1][1])))\n",
    "    if square == 0:\n",
    "        return print('it is not triangle')\n",
    "    else:\n",
    "        side_one = math.sqrt((x2-x1)**2 + (y2-y1)**2)\n",
    "        side_two = math.sqrt((x2-x3)**2 + (y2-y3)**2)\n",
    "        side_three = math.sqrt((x3-x1)**2 + (y3-y1)**2)\n",
    "        perimeter = side_one + side_two + side_three\n",
    "        return print(f'Площадь равна: {square}\\nДлина первой стороны: {side_one}\\nДлина второй стороны: {side_two}\\nДлина третьей стороны: {side_three}\\nПериметр: {perimeter}')\n",
    "\n",
    "print(list_coord)\n",
    "print(is_triangle(list_coord))"
   ]
  },
  {
   "cell_type": "code",
   "execution_count": null,
   "metadata": {},
   "outputs": [],
   "source": [
    "#задача 1 стр 38\n",
    "\n",
    "        "
   ]
  },
  {
   "cell_type": "code",
   "execution_count": 1,
   "metadata": {},
   "outputs": [
    {
     "ename": "SyntaxError",
     "evalue": "invalid syntax (<ipython-input-1-4341f21ee554>, line 10)",
     "output_type": "error",
     "traceback": [
      "\u001b[1;36m  File \u001b[1;32m\"<ipython-input-1-4341f21ee554>\"\u001b[1;36m, line \u001b[1;32m10\u001b[0m\n\u001b[1;33m    list_new.append(string_new) у\u001b[0m\n\u001b[1;37m                                ^\u001b[0m\n\u001b[1;31mSyntaxError\u001b[0m\u001b[1;31m:\u001b[0m invalid syntax\n"
     ]
    }
   ],
   "source": [
    "#её задачи блять пусть сама решает ебанутая нахуй это кому надо\n",
    "str_list = list()\n",
    "for i in range(3):  \n",
    "    str_list.append(input('write a string: '))  \n",
    "print(f'Сформирован список: {str_list}')  \n",
    "\n",
    "def lattice_delete(list_name):  \n",
    "    list_new = list()  \n",
    "    for string in list_name:  \n",
    "        string_new = string[:string.find('#')]  \n",
    "        list_new.append(string_new) у\n",
    "    del list_name  \n",
    "    return list_new\n",
    "\n",
    "print(f'Сформирован новый список: {lattice_delete(str_list)}')\n"
   ]
  },
  {
   "cell_type": "code",
   "execution_count": 21,
   "metadata": {},
   "outputs": [
    {
     "name": "stdout",
     "output_type": "stream",
     "text": [
      "Введите 1-ю строку: string    with space\n",
      "Введите 2-ю строку:     string     with       space    \n",
      "Введите 3-ю строку:     string with       space    \n",
      "Преобразован список: ['string with space', '    string with space', '    string with space']\n"
     ]
    }
   ],
   "source": [
    "#её задачи блять пусть сама решает ебанутая нахуй это кому надо\n",
    "str_list = list()\n",
    "for i in range(3):\n",
    "    str_list.append(input(f'Введите {i+1}-ю строку: ')) \n",
    "    \n",
    "def space_repaire(list_name):\n",
    "    new_list = list() \n",
    "    for index, string in enumerate(list_name):   \n",
    "        i = 0 \n",
    "        while True:      \n",
    "            if string[i] == ' ':\n",
    "                i += 1\n",
    "            else:\n",
    "                counter = i  \n",
    "                break        \n",
    "        new_string = ' '* counter + ' '.join(string[counter:].split())  \n",
    "        new_list.append(new_string)  \n",
    "    del list_name \n",
    "    return new_list\n",
    "        \n",
    "print(f'Преобразован список: {space_repaire(str_list)}')\n"
   ]
  },
  {
   "cell_type": "markdown",
   "metadata": {},
   "source": []
  },
  {
   "cell_type": "code",
   "execution_count": 7,
   "metadata": {},
   "outputs": [
    {
     "name": "stdout",
     "output_type": "stream",
     "text": [
      "Введите 1-ю строку: string    string\n"
     ]
    },
    {
     "ename": "AttributeError",
     "evalue": "'list' object has no attribute 'find'",
     "output_type": "error",
     "traceback": [
      "\u001b[1;31m---------------------------------------------------------------------------\u001b[0m",
      "\u001b[1;31mAttributeError\u001b[0m                            Traceback (most recent call last)",
      "\u001b[1;32m<ipython-input-7-2f9091fb4806>\u001b[0m in \u001b[0;36m<module>\u001b[1;34m\u001b[0m\n\u001b[0;32m     41\u001b[0m     \u001b[0mstr_list\u001b[0m\u001b[1;33m.\u001b[0m\u001b[0mappend\u001b[0m\u001b[1;33m(\u001b[0m\u001b[0minput\u001b[0m\u001b[1;33m(\u001b[0m\u001b[1;34mf'Введите {i+1}-ю строку: '\u001b[0m\u001b[1;33m)\u001b[0m\u001b[1;33m)\u001b[0m\u001b[1;33m\u001b[0m\u001b[1;33m\u001b[0m\u001b[0m\n\u001b[0;32m     42\u001b[0m \u001b[1;33m\u001b[0m\u001b[0m\n\u001b[1;32m---> 43\u001b[1;33m \u001b[0mprint\u001b[0m\u001b[1;33m(\u001b[0m\u001b[0mcomment_cut\u001b[0m\u001b[1;33m(\u001b[0m\u001b[0mstr_list\u001b[0m\u001b[1;33m)\u001b[0m\u001b[1;33m)\u001b[0m\u001b[1;33m\u001b[0m\u001b[1;33m\u001b[0m\u001b[0m\n\u001b[0m\u001b[0;32m     44\u001b[0m \u001b[1;33m\u001b[0m\u001b[0m\n",
      "\u001b[1;32m<ipython-input-7-2f9091fb4806>\u001b[0m in \u001b[0;36mcomment_cut\u001b[1;34m(list_name)\u001b[0m\n\u001b[0;32m     28\u001b[0m         \u001b[0mindex_end\u001b[0m \u001b[1;33m=\u001b[0m \u001b[0mstring\u001b[0m\u001b[1;33m.\u001b[0m\u001b[0mrfind\u001b[0m\u001b[1;33m(\u001b[0m\u001b[1;34m\"'\"\u001b[0m\u001b[1;33m)\u001b[0m\u001b[1;33m\u001b[0m\u001b[1;33m\u001b[0m\u001b[0m\n\u001b[0;32m     29\u001b[0m         \u001b[1;32mif\u001b[0m \u001b[0mindex_start\u001b[0m \u001b[1;33m==\u001b[0m \u001b[1;33m-\u001b[0m\u001b[1;36m1\u001b[0m \u001b[1;32mor\u001b[0m \u001b[0mindex_end\u001b[0m \u001b[1;33m==\u001b[0m \u001b[1;33m-\u001b[0m\u001b[1;36m1\u001b[0m\u001b[1;33m:\u001b[0m\u001b[1;33m\u001b[0m\u001b[1;33m\u001b[0m\u001b[0m\n\u001b[1;32m---> 30\u001b[1;33m             \u001b[0mnew_list\u001b[0m\u001b[1;33m.\u001b[0m\u001b[0mappend\u001b[0m\u001b[1;33m(\u001b[0m\u001b[0mspace_repaire\u001b[0m\u001b[1;33m(\u001b[0m\u001b[0mlattice_delete\u001b[0m\u001b[1;33m(\u001b[0m\u001b[1;33m[\u001b[0m\u001b[0mstring\u001b[0m\u001b[1;33m]\u001b[0m\u001b[1;33m)\u001b[0m\u001b[1;33m)\u001b[0m\u001b[1;33m)\u001b[0m\u001b[1;33m\u001b[0m\u001b[1;33m\u001b[0m\u001b[0m\n\u001b[0m\u001b[0;32m     31\u001b[0m         \u001b[1;32melse\u001b[0m\u001b[1;33m:\u001b[0m\u001b[1;33m\u001b[0m\u001b[1;33m\u001b[0m\u001b[0m\n\u001b[0;32m     32\u001b[0m             \u001b[0mstring_start\u001b[0m \u001b[1;33m=\u001b[0m \u001b[0mspace_repaire\u001b[0m\u001b[1;33m(\u001b[0m\u001b[0mlattice_delete\u001b[0m\u001b[1;33m(\u001b[0m\u001b[0mstring\u001b[0m\u001b[1;33m[\u001b[0m\u001b[1;33m:\u001b[0m\u001b[0mindex_start\u001b[0m\u001b[1;33m-\u001b[0m\u001b[1;36m1\u001b[0m\u001b[1;33m]\u001b[0m\u001b[1;33m)\u001b[0m\u001b[1;33m)\u001b[0m\u001b[1;33m\u001b[0m\u001b[1;33m\u001b[0m\u001b[0m\n",
      "\u001b[1;32m<ipython-input-7-2f9091fb4806>\u001b[0m in \u001b[0;36mlattice_delete\u001b[1;34m(*list_name)\u001b[0m\n\u001b[0;32m      2\u001b[0m     \u001b[0mlist_new\u001b[0m \u001b[1;33m=\u001b[0m \u001b[0mlist\u001b[0m\u001b[1;33m(\u001b[0m\u001b[1;33m)\u001b[0m\u001b[1;33m\u001b[0m\u001b[1;33m\u001b[0m\u001b[0m\n\u001b[0;32m      3\u001b[0m     \u001b[1;32mfor\u001b[0m \u001b[0mstring\u001b[0m \u001b[1;32min\u001b[0m \u001b[0mlist_name\u001b[0m\u001b[1;33m:\u001b[0m\u001b[1;33m\u001b[0m\u001b[1;33m\u001b[0m\u001b[0m\n\u001b[1;32m----> 4\u001b[1;33m         \u001b[0mstring_new\u001b[0m \u001b[1;33m=\u001b[0m \u001b[0mstring\u001b[0m\u001b[1;33m[\u001b[0m\u001b[1;33m:\u001b[0m\u001b[0mstring\u001b[0m\u001b[1;33m.\u001b[0m\u001b[0mfind\u001b[0m\u001b[1;33m(\u001b[0m\u001b[1;34m'#'\u001b[0m\u001b[1;33m)\u001b[0m\u001b[1;33m]\u001b[0m\u001b[1;33m\u001b[0m\u001b[1;33m\u001b[0m\u001b[0m\n\u001b[0m\u001b[0;32m      5\u001b[0m         \u001b[0mlist_new\u001b[0m\u001b[1;33m.\u001b[0m\u001b[0mappend\u001b[0m\u001b[1;33m(\u001b[0m\u001b[0mstring_new\u001b[0m\u001b[1;33m)\u001b[0m\u001b[1;33m\u001b[0m\u001b[1;33m\u001b[0m\u001b[0m\n\u001b[0;32m      6\u001b[0m     \u001b[1;32mdel\u001b[0m \u001b[0mlist_name\u001b[0m\u001b[1;33m\u001b[0m\u001b[1;33m\u001b[0m\u001b[0m\n",
      "\u001b[1;31mAttributeError\u001b[0m: 'list' object has no attribute 'find'"
     ]
    }
   ],
   "source": [
    "def lattice_delete(*list_name):  \n",
    "    list_new = list()  \n",
    "    for string in list_name:  \n",
    "        string_new = string[:string.find('#')]  \n",
    "        list_new.append(string_new) \n",
    "    del list_name  \n",
    "    return list_new\n",
    "\n",
    "def space_repaire(*list_name):\n",
    "    new_list = list() \n",
    "    for string in list_name:   \n",
    "        i = 0 \n",
    "        while True:     \n",
    "            if string[i] == ' ':\n",
    "                i += 1\n",
    "            else:\n",
    "                counter = i  \n",
    "                break   \n",
    "        new_string = (' ' * counter) + (' '.join(string[counter:].split()))\n",
    "        new_list.append(new_string) \n",
    "    del list_name \n",
    "    return new_list\n",
    "\n",
    "def comment_cut(list_name):\n",
    "    new_list = list()\n",
    "    for string in list_name:\n",
    "        index_start = string.find(\"'\")\n",
    "        index_end = string.rfind(\"'\")\n",
    "        if index_start == -1 or index_end == -1:\n",
    "            new_list.append(space_repaire(lattice_delete([string])))\n",
    "        else:\n",
    "            string_start = space_repaire(lattice_delete(string[:index_start-1]))\n",
    "            string_const = string[index_start:index_end]\n",
    "            string_end = space_repaire(lattice_delete(string[index_end+1:]))\n",
    "            new_string = string_start + string_const + string_end\n",
    "            new_list.append(new_string)\n",
    "    return(new_list)\n",
    "            \n",
    "str_list = list()\n",
    "for i in range(1):\n",
    "    str_list.append(input(f'Введите {i+1}-ю строку: '))\n",
    "\n",
    "print(comment_cut(str_list))\n",
    "        \n"
   ]
  },
  {
   "cell_type": "code",
   "execution_count": null,
   "metadata": {},
   "outputs": [],
   "source": [
    "number = int(input('write a number'))\n",
    "counter = 1\n",
    "number_list = [number]\n",
    "while number != 0:\n",
    "    number = int(input('write a number'))\n",
    "    if number == 0:\n",
    "        pass\n",
    "    else:\n",
    "        counter += 1\n",
    "        number_list.append(number)\n",
    "\n",
    "print(f'сумма чисел: {sum(number_list)}')\n",
    "print(f'среднее арифметическое: {sum(number_list)/len(number_list)}')\n",
    "print(f'максимум: {max(number_list)}')\n",
    "print(f'минимум: {min(number_list)}')\n",
    "print(f'Количество чисел: {counter}')\n"
   ]
  },
  {
   "cell_type": "code",
   "execution_count": null,
   "metadata": {},
   "outputs": [],
   "source": [
    "number = input('write a number')\n",
    "number_int = 0\n",
    "number_list = list()\n",
    "\n",
    "while number != '.':\n",
    "    number_int = int(number)\n",
    "    if number_int >= 0:\n",
    "        number_list.append(number_int)\n",
    "    number = input('write a number')\n",
    "    \n",
    "print(f'наименьшее положительное : {min(number_list)}')"
   ]
  },
  {
   "cell_type": "code",
   "execution_count": null,
   "metadata": {},
   "outputs": [],
   "source": [
    "def factorial(number):\n",
    "    counter = 1\n",
    "    for i in range(1, number+1):\n",
    "        counter *= i\n",
    "    return counter\n"
   ]
  },
  {
   "cell_type": "code",
   "execution_count": null,
   "metadata": {},
   "outputs": [],
   "source": [
    "def counter(rule_1, rule_2, var_of_number): \n",
    "    count = 0\n",
    "    count_rule_1 = 0\n",
    "    count_rule_2 = 0\n",
    "    for number in range(10**(var_of_number-1), 10**var_of_number):  \n",
    "        number_str = str(number)                                    \n",
    "        for i in range(0, len(number_str)-1): \n",
    "            if int(number_str[i]) == rule_1 and int(number_str[i+1]) == rule_2: \n",
    "                count_rule_1 += 1 \n",
    "            if int(number_str[i+1]) == rule_1 and int(number_str[i]) == rule_2:\n",
    "                count_rule_2 += 1\n",
    "            if rule_1 == rule_2:\n",
    "                count = count_rule_1\n",
    "            else:\n",
    "                count = count_rule_1 + count_rule_2\n",
    "    return(count)\n",
    "# Функция работает, сравнивая цифры внутри числа, сначала проверя 1 и 2, потом 2 и 3 и т.д. Если индексы удовлетворяют условиям,\n",
    "# то счетчик увеличивается на 1. "
   ]
  }
 ],
 "metadata": {
  "kernelspec": {
   "display_name": "Python 3",
   "language": "python",
   "name": "python3"
  },
  "language_info": {
   "codemirror_mode": {
    "name": "ipython",
    "version": 3
   },
   "file_extension": ".py",
   "mimetype": "text/x-python",
   "name": "python",
   "nbconvert_exporter": "python",
   "pygments_lexer": "ipython3",
   "version": "3.8.3"
  }
 },
 "nbformat": 4,
 "nbformat_minor": 4
}
