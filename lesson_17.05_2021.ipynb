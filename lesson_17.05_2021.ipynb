{
 "cells": [
  {
   "cell_type": "code",
   "execution_count": 5,
   "metadata": {},
   "outputs": [
    {
     "name": "stdout",
     "output_type": "stream",
     "text": [
      "Дерево Сосна, возраст: 0, высота: 0.5\n",
      "\n",
      "Дерево Ива, возраст: 0, высота: 0.5\n",
      "\n",
      "Дерево Сосна, возраст: 1, высота: 1.3\n",
      "\n",
      "Дерево Ива, возраст: 1, высота: 1.3\n",
      "\n",
      "Дерево Сосна, возраст: 2, высота: 2.6\n",
      "\n",
      "Дерево Ива, возраст: 2, высота: 2.6\n",
      "\n",
      "Дерево Сосна, возраст: 3, высота: 3.9000000000000004\n",
      "\n",
      "Дерево Ива, возраст: 3, высота: 3.9000000000000004\n",
      "\n",
      "Дерево Сосна, возраст: 4, высота: 5.2\n",
      "\n",
      "Дерево Ива, возраст: 4, высота: 5.2\n",
      "\n"
     ]
    }
   ],
   "source": [
    "# number 1\n",
    "\n",
    "class Tree(object):\n",
    "    \n",
    "    def __init__(self, name):\n",
    "        self.name = name\n",
    "        self.height = 0.5\n",
    "        self.age = 0\n",
    "        \n",
    "    def grow(self):\n",
    "        self.age += 1\n",
    "        self.height = 1.3 * self.age\n",
    "        \n",
    "    def show_info(self):\n",
    "        print(f'Дерево {self.name}, возраст: {self.age}, высота: {self.height}\\n')\n",
    "        \n",
    "        \n",
    "if __name__ == \"__main__\":\n",
    "    trees = [Tree(name) for name in ['Сосна', 'Ива']]\n",
    "    \n",
    "    for i in range(5):\n",
    "        for tree in trees:\n",
    "            tree.show_info()\n",
    "            tree.grow()\n",
    "    \n",
    "\n"
   ]
  },
  {
   "cell_type": "code",
   "execution_count": 16,
   "metadata": {},
   "outputs": [
    {
     "name": "stdout",
     "output_type": "stream",
     "text": [
      "Точка №1 с координатами: х: -10.0, y: 0.0\n",
      "Точка №2 с координатами: х: 1.0, y: 5.2\n",
      "Евклидово расстояние: 12.17\n",
      "Взвешенное евклидово расстояние: 8.04, w1 = 0.4, w2 = 0.6\n",
      "Минковского расстояние: 16.2, p = 1\n",
      "Минковского расстояние: 12.17, p = 2\n",
      "Чебышева расстояние: 11.0\n"
     ]
    }
   ],
   "source": [
    "# number 2\n",
    "\n",
    "import math\n",
    "\n",
    "\n",
    "class Dot(object):\n",
    "    \n",
    "    def __init__(self, x, y):\n",
    "        self.x = float(x)\n",
    "        self.y = float(y)\n",
    "        \n",
    "    def get_x(self):\n",
    "        return self.x\n",
    "    \n",
    "    def get_y(self):\n",
    "        return self.y\n",
    "        \n",
    "    def euclidean_metric(self, dot):\n",
    "        return round(math.sqrt((self.x - dot.get_x()) ** 2 + (self.y - dot.get_y()) **2), 2)\n",
    "    \n",
    "    def weight_euclidian_metric(self, dot, w1, w2):\n",
    "        if (w1 + w2):\n",
    "            return round(math.sqrt(w1 * (self.x - dot.get_x()) ** 2 + w2 * (self.y - dot.get_y()) **2), 2)\n",
    "        else:\n",
    "            raise ArithmeticError('Неверные веса')\n",
    "            \n",
    "    def minkovsky_metric(self, dot, p):\n",
    "        return round((abs((self.x - dot.get_x())**p) + abs((self.y - dot.get_y())**p)) ** (1/p), 2)\n",
    "    \n",
    "    def chebyshev_metric(self, dot):\n",
    "        delta_x = abs(self.x - dot.get_x())\n",
    "        delta_y = abs(self.y - dot.get_y())\n",
    "        return round(max([delta_x, delta_y]), 2)\n",
    "    \n",
    "    \n",
    "if __name__ == \"__main__\":\n",
    "    \n",
    "    first_dot = Dot(-10, 0)\n",
    "    second_dot = Dot(1, 5.2)\n",
    "    \n",
    "    print(f'Точка №1 с координатами: х: {first_dot.get_x()}, y: {first_dot.get_y()}')\n",
    "    print(f'Точка №2 с координатами: х: {second_dot.get_x()}, y: {second_dot.get_y()}')\n",
    "    \n",
    "    print(f'Евклидово расстояние: {first_dot.euclidean_metric(second_dot)}')\n",
    "    print(f'Взвешенное евклидово расстояние: {first_dot.weight_euclidian_metric(second_dot, 0.4, 0.6)}, w1 = 0.4, w2 = 0.6')\n",
    "    print(f'Минковского расстояние: {first_dot.minkovsky_metric(second_dot, 1)}, p = 1')\n",
    "    print(f'Минковского расстояние: {first_dot.minkovsky_metric(second_dot, 2)}, p = 2')\n",
    "    print(f'Чебышева расстояние: {first_dot.chebyshev_metric(second_dot)}')\n"
   ]
  },
  {
   "cell_type": "code",
   "execution_count": null,
   "metadata": {},
   "outputs": [],
   "source": [
    "\n"
   ]
  }
 ],
 "metadata": {
  "kernelspec": {
   "display_name": "Python 3",
   "language": "python",
   "name": "python3"
  },
  "language_info": {
   "codemirror_mode": {
    "name": "ipython",
    "version": 3
   },
   "file_extension": ".py",
   "mimetype": "text/x-python",
   "name": "python",
   "nbconvert_exporter": "python",
   "pygments_lexer": "ipython3",
   "version": "3.6.5"
  }
 },
 "nbformat": 4,
 "nbformat_minor": 2
}
