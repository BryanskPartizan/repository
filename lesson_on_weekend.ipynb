{
 "cells": [
  {
   "cell_type": "code",
   "execution_count": 3,
   "metadata": {},
   "outputs": [
    {
     "name": "stdout",
     "output_type": "stream",
     "text": [
      "Кот Маркиз, возраст: 1, вес: 2\n",
      "Кот Сахар, возраст: 4, вес: 8\n",
      "\n",
      "===========================СПУСТЯ ГОД===========================\n",
      "\n",
      "Кот Маркиз, возраст: 2, вес: 6\n",
      "Кот Сахар, возраст: 5, вес: 13\n"
     ]
    }
   ],
   "source": [
    "# number 1\n",
    "\n",
    "class Cat(object):\n",
    "    def __init__(self, name, age, weight):\n",
    "        self.name = name\n",
    "        self.age = age\n",
    "        self.weight = weight\n",
    "        \n",
    "    def set_name(self, new_name):\n",
    "        self.name = new_name\n",
    "        \n",
    "    def set_age(self, new_age):\n",
    "        self.age = new_age\n",
    "        \n",
    "    def set_weight(self, new_weight):\n",
    "        self.weight = new_weight\n",
    "        \n",
    "    def get_name(self):\n",
    "        return self.name\n",
    "    \n",
    "    def get_age(self):\n",
    "        return self.age\n",
    "    \n",
    "    def get_weight(self):\n",
    "        return self.weight\n",
    "    \n",
    "markiz = Cat('Маркиз', 1, 2)\n",
    "sahar = Cat('Сахар', 4, 8)\n",
    "\n",
    "print(f'Кот {markiz.get_name()}, возраст: {markiz.get_age()}, вес: {markiz.get_weight()}')\n",
    "print(f'Кот {sahar.get_name()}, возраст: {sahar.get_age()}, вес: {sahar.get_weight()}')\n",
    "\n",
    "print(f'\\n===========================СПУСТЯ ГОД===========================\\n')\n",
    "markiz.set_age(markiz.age + 1)\n",
    "markiz.set_weight(markiz.weight + 4)\n",
    "sahar.set_age(sahar.age + 1)\n",
    "sahar.set_weight(sahar.weight + 5)\n",
    "\n",
    "print(f'Кот {markiz.get_name()}, возраст: {markiz.get_age()}, вес: {markiz.get_weight()}')\n",
    "print(f'Кот {sahar.get_name()}, возраст: {sahar.get_age()}, вес: {sahar.get_weight()}')\n",
    "    \n",
    "    "
   ]
  },
  {
   "cell_type": "code",
   "execution_count": 5,
   "metadata": {},
   "outputs": [
    {
     "name": "stdout",
     "output_type": "stream",
     "text": [
      "Появилась кукла Ivanka\n",
      "Кукла c именем Ivanka\n",
      "Мы изменили имя куклы: DEREVO\n",
      "Кукла кричит: А-а-а-а\n",
      "Ням-ням\n"
     ]
    }
   ],
   "source": [
    "# number 2\n",
    "\n",
    "class Doll(object):\n",
    "    \n",
    "    def __init__(self, name):\n",
    "        self.name = name\n",
    "        print(f'Появилась кукла {self.name}')\n",
    "        \n",
    "    def eat(self):\n",
    "        return 'Ням-ням'\n",
    "    \n",
    "    def make_noise(self):\n",
    "        return 'А-а-а-а'\n",
    "    \n",
    "    def set_name(self, new_name):\n",
    "        self.name = new_name\n",
    "        \n",
    "    def get_name(self):\n",
    "        return self.name\n",
    "    \n",
    "baby = Doll('Ivanka')\n",
    "\n",
    "print(f'Кукла c именем {baby.get_name()}')\n",
    "baby.set_name('DEREVO')\n",
    "print(f'Мы изменили имя куклы: {baby.get_name()}')\n",
    "print(f'Кукла кричит: {baby.make_noise()}')\n",
    "print(baby.eat())\n"
   ]
  },
  {
   "cell_type": "code",
   "execution_count": null,
   "metadata": {},
   "outputs": [],
   "source": []
  }
 ],
 "metadata": {
  "kernelspec": {
   "display_name": "Python 3",
   "language": "python",
   "name": "python3"
  },
  "language_info": {
   "codemirror_mode": {
    "name": "ipython",
    "version": 3
   },
   "file_extension": ".py",
   "mimetype": "text/x-python",
   "name": "python",
   "nbconvert_exporter": "python",
   "pygments_lexer": "ipython3",
   "version": "3.8.5"
  }
 },
 "nbformat": 4,
 "nbformat_minor": 4
}
