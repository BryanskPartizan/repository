{
 "cells": [
  {
   "cell_type": "code",
   "execution_count": null,
   "metadata": {},
   "outputs": [],
   "source": [
    "#1.1\n",
    "string = 'word_one, word_two, word_three, word_four, word_five, word_six'\n",
    "\n",
    "keys = string.split(',')\n",
    "values = [i for i in range(1, len(keys) + 1)]\n",
    "\n",
    "dict_ = {key: value for (key,  value) in zip(keys,  values)}\n",
    "\n",
    "print(dict_)"
   ]
  },
  {
   "cell_type": "code",
   "execution_count": null,
   "metadata": {},
   "outputs": [],
   "source": [
    "#1.2\n",
    "string = input('write a string: ')\n",
    "\n",
    "print(string[:-2])\n",
    "print(string[::2])\n",
    "print(string[1::2])"
   ]
  },
  {
   "cell_type": "code",
   "execution_count": null,
   "metadata": {},
   "outputs": [],
   "source": [
    "#1.3\n",
    "string = input('write smb: ')\n",
    "\n",
    "list_ = string.split(',')\n",
    "tuple_ = tuple(list_)\n",
    "\n",
    "print(list_)\n",
    "print(tuple_)\n"
   ]
  },
  {
   "cell_type": "code",
   "execution_count": null,
   "metadata": {},
   "outputs": [],
   "source": [
    "#2.1\n",
    "list_ = [['Иванов', 3,5,4], ['Петров', 4, 5, 5], ['Сидоров', 3, 3, 3], ['Николаев', 4, 4, 3]]\n",
    "\n",
    "\n",
    "def func_name(list_name):\n",
    "    list_name.sort()\n",
    "    for index in range(len(list_name)):\n",
    "        print(list_name[index])\n",
    "        \n",
    "func_name(list_)"
   ]
  },
  {
   "cell_type": "code",
   "execution_count": null,
   "metadata": {},
   "outputs": [],
   "source": [
    "#2.2\n",
    "list_ = []\n",
    "\n",
    "for i in range(5):\n",
    "    list_.append(int(input('введите число: ')))\n",
    "\n",
    "result = 1\n",
    "for i in list_:\n",
    "    result *= i\n",
    "\n",
    "print(f'Сформирован список: {list_}')\n",
    "print(f'Сумма: {sum(list_)}')\n",
    "print(f'Произведение: {result}')\n",
    "print(f'Среднее значение: {sum(list_) / len(list_)}')"
   ]
  },
  {
   "cell_type": "code",
   "execution_count": 2,
   "metadata": {},
   "outputs": [
    {
     "name": "stdout",
     "output_type": "stream",
     "text": [
      "Простыми процентами: 126400.0\n",
      "Сложными процентами: 130025.26099281025\n",
      "Выгоднее сложными процентами\n"
     ]
    }
   ],
   "source": [
    "#2.3\n",
    "def simple_interest(summ, month):\n",
    "    return summ * (1 + (1.1/100) * month)\n",
    "\n",
    "def complex_interest(summ, month):\n",
    "    return summ * (1 + (1.1/100))**month\n",
    "\n",
    "print(f'Простыми процентами: {simple_interest(100000, 24)}')\n",
    "print(f'Сложными процентами: {complex_interest(100000, 24)}')\n",
    "\n",
    "if simple_interest(100000, 24) < complex_interest(100000, 24):\n",
    "    print('Выгоднее сложными процентами')\n",
    "else:\n",
    "    print('Выгоднее простыми процентами')"
   ]
  },
  {
   "cell_type": "code",
   "execution_count": null,
   "metadata": {},
   "outputs": [],
   "source": [
    "#3.1\n",
    "number_one = int(input('write a number: '))\n",
    "number_two = int(input('write a number: '))\n",
    "\n",
    "def summ(number_one, number_two):\n",
    "    return number_one + number_two\n",
    "\n",
    "def mult(number_one, number_two):\n",
    "    return number_one * number_two\n",
    "\n",
    "def sub(number_one, number_two):\n",
    "    return number_one - number_two\n",
    "\n",
    "def divide(number_one, number_two):\n",
    "    return number_one / number_two\n",
    "\n",
    "print(f'Сложение: {summ(number_one, number_two)}')\n",
    "print(f'Умножение: {mult(number_one, number_two)}')\n",
    "print(f'Вычитание: {sub(number_one, number_two)}')\n",
    "print(f'Деление: {divide(number_one, number_two)}')\n"
   ]
  },
  {
   "cell_type": "code",
   "execution_count": null,
   "metadata": {},
   "outputs": [],
   "source": [
    "#3.2\n",
    "import random\n",
    "\n",
    "list_ = [random.randint(-10,10) for i in range(5)]\n",
    "\n",
    "print(f'Сформирован список: {list_}')\n",
    "print(f'Среднее арифметическое: {sum(list_) / len(list_)}')\n"
   ]
  },
  {
   "cell_type": "code",
   "execution_count": null,
   "metadata": {},
   "outputs": [],
   "source": [
    "#3.3\n",
    "\n",
    "print([i for i in range(1, 52 + 1) if 52 % i == 0])"
   ]
  },
  {
   "cell_type": "code",
   "execution_count": null,
   "metadata": {},
   "outputs": [],
   "source": [
    "#4.1\n",
    "import re\n",
    "\n",
    "def calc(string):\n",
    "    numbers = re.findall('[-+]?\\d+', string)\n",
    "    operand = re.findall('[-+/*^%]', string)\n",
    "    \n",
    "    if operand[0] == '^': operand[0] = '**'\n",
    "    if operand[0] == ':': operand[0] = '/'\n",
    "    \n",
    "    if numbers[1] == '0' and operand[0] == '/':\n",
    "        return print('Error - divide on zero')\n",
    "    else:   \n",
    "        return eval(numbers[0] + operand[0] + numbers[1])\n",
    "\n",
    "print(calc('10 % 10'))"
   ]
  },
  {
   "cell_type": "code",
   "execution_count": 3,
   "metadata": {},
   "outputs": [
    {
     "name": "stdout",
     "output_type": "stream",
     "text": [
      "write a string123456\n",
      "2\n",
      "5\n",
      "12\n"
     ]
    }
   ],
   "source": [
    "#4.2\n",
    "string = input('write a string ')\n",
    "\n",
    "print(string[1])\n",
    "print(string[-2])\n",
    "print(string[:3])"
   ]
  },
  {
   "cell_type": "code",
   "execution_count": null,
   "metadata": {},
   "outputs": [],
   "source": [
    "#4.3\n",
    "rad_min = int(input('Введите минимальную точку диапазона '))\n",
    "rad_max = int(input('Введите максимальную точку диапазона '))\n",
    "\n",
    "while True:\n",
    "    number = int(input('Введите число: '))\n",
    "    if number >= rad_min and number <= rad_max:\n",
    "        print('YES')\n",
    "        break\n",
    "    else:\n",
    "        print('NO')"
   ]
  },
  {
   "cell_type": "code",
   "execution_count": null,
   "metadata": {},
   "outputs": [],
   "source": [
    "#5.1\n",
    "number = input('write a number: ')\n",
    "\n",
    "def summa(number):\n",
    "    return int(number[0]) + int(number[1]) + int(number[2])\n",
    "\n",
    "print(summa(number))"
   ]
  },
  {
   "cell_type": "code",
   "execution_count": null,
   "metadata": {},
   "outputs": [],
   "source": [
    "#5.2\n",
    "dict_ = {'a': 1, 'b': 2, 'c': 3, 'd': 4, 'e': 5}\n",
    "list_ = list(str(input('Введите что-нибудь:')))\n",
    "keys = list(d.keys())\n",
    "result = []\n",
    "\n",
    "for key in keys:\n",
    "    if key in list_:\n",
    "        result.append(key)\n",
    "        \n",
    "print(len(key))"
   ]
  },
  {
   "cell_type": "code",
   "execution_count": null,
   "metadata": {},
   "outputs": [],
   "source": [
    "#5.3\n",
    "import random\n",
    "\n",
    "list_ = [random.randint(-10,10) for i in range(5)]\n",
    "\n",
    "print(f'Сформирован список: {list_}')\n",
    "list_.reverse()\n",
    "print(f'Обратный список: {list_}')"
   ]
  },
  {
   "cell_type": "code",
   "execution_count": null,
   "metadata": {},
   "outputs": [],
   "source": [
    "#6.1\n",
    "\n",
    "string = 'Иванов Иван Иванович'\n",
    "last_name = string[:string.find(' ')]\n",
    "name = string[string.find(' ') + 1:string.rfind(' ')]\n",
    "patronymic = string[string.rfind(' ') + 1:]\n",
    "\n",
    "\n",
    "print(f'Исходные данные: {string}')\n",
    "print(f'Первый вид: {last_name}.{name[0]}.{patronymic[0]}')\n",
    "print(f'Второй вид: {name[0]}.{patronymic[0]}.{last_name}')"
   ]
  },
  {
   "cell_type": "code",
   "execution_count": null,
   "metadata": {},
   "outputs": [],
   "source": [
    "#6.2\n",
    "import random\n",
    "\n",
    "list_one = [random.randint(-10,10) for i in range(5)]\n",
    "list_two = [number for number in list_one if number < 0]\n",
    "\n",
    "print(f'Список до изменений: {list_one}')\n",
    "\n",
    "for index in range(len(list_one) - 1, -1 ,-1):\n",
    "    if list_one[index] < 0:\n",
    "        del list_one[index]\n",
    "    \n",
    "        \n",
    "print(f'Cписок без отрицательных значений: {list_one}')\n",
    "print(f'Cписок отрицательных значений: {list_two}')"
   ]
  },
  {
   "cell_type": "code",
   "execution_count": null,
   "metadata": {},
   "outputs": [],
   "source": [
    "#6.3\n",
    "print([i for i in range(1, 100 + 1) if 100 % i == 0])"
   ]
  },
  {
   "cell_type": "code",
   "execution_count": 4,
   "metadata": {},
   "outputs": [
    {
     "name": "stdout",
     "output_type": "stream",
     "text": [
      "write a string: 123456789\n",
      "987654321\n",
      "97531\n",
      "9\n"
     ]
    }
   ],
   "source": [
    "#7.1\n",
    "string = input('write a string: ')\n",
    "\n",
    "print(string[::-1])\n",
    "print(string[::-2])\n",
    "print(len(string))"
   ]
  },
  {
   "cell_type": "code",
   "execution_count": null,
   "metadata": {},
   "outputs": [],
   "source": [
    "#7.2\n",
    "import math\n",
    "x1 = int(input('Введите координату первой точки: '))\n",
    "y1 = int(input('Введите координату первой точки: '))\n",
    "list_coord = [[x1, y1]]\n",
    "x2 = int(input('Введите координату второй точки: '))\n",
    "y2 = int(input('Введите координату второй точки: '))\n",
    "list_coord.append([x2, y2])\n",
    "x3 = int(input('Введите координату третьей точки: '))\n",
    "y3 = int(input('Введите координату третьей точки: '))\n",
    "list_coord.append([x3,y3])\n",
    "\n",
    "def is_triangle(list_name):\n",
    "    square = math.fabs(0.5 * (list_name[0][0]*(list_name[1][1]-list_name[2][1]) + list_name[1][0] * (list_name[2][1]-list_name[0][1]) + list_name[2][0] * (list_name[0][1]-list_name[1][1])))\n",
    "    if square == 0:\n",
    "        return print('it is not triangle')\n",
    "    else:\n",
    "        side_one = math.sqrt((x2-x1)**2 + (y2-y1)**2)\n",
    "        side_two = math.sqrt((x2-x3)**2 + (y2-y3)**2)\n",
    "        side_three = math.sqrt((x3-x1)**2 + (y3-y1)**2)\n",
    "        perimeter = side_one + side_two + side_three\n",
    "        return print(f'Площадь равна: {square}\\nДлина первой стороны: {side_one}\\nДлина второй стороны: {side_two}\\nДлина третьей стороны: {side_three}\\nПериметр: {perimeter}')\n",
    "\n",
    "print(list_coord)\n",
    "print(is_triangle(list_coord))"
   ]
  },
  {
   "cell_type": "code",
   "execution_count": null,
   "metadata": {},
   "outputs": [],
   "source": [
    "#7.3\n",
    "import random\n",
    "\n",
    "list_one = [random.randint(1,10) for i in range(5)]\n",
    "list_two = [random.randint(1,10) for i in range(5)]\n",
    "\n",
    "print(list_one)\n",
    "print(list_two)\n",
    "print(len(set(list_one + list_two)))"
   ]
  },
  {
   "cell_type": "code",
   "execution_count": null,
   "metadata": {},
   "outputs": [],
   "source": [
    "#8.1\n",
    "\n",
    "string = 'Иванов Иван Иванович'\n",
    "last_name = string[:string.find(' ')]\n",
    "name = string[string.find(' ') + 1:string.rfind(' ')]\n",
    "patronymic = string[string.rfind(' ') + 1:]\n",
    "\n",
    "\n",
    "print(f'Исходные данные: {string}')\n",
    "print(f'Первый вид: {last_name}.{name[0]}.{patronymic[0]}')\n",
    "print(f'Второй вид: {name[0]}.{patronymic[0]}.{last_name}')"
   ]
  },
  {
   "cell_type": "code",
   "execution_count": 67,
   "metadata": {},
   "outputs": [
    {
     "name": "stdout",
     "output_type": "stream",
     "text": [
      "Введите первую сторону: 3\n",
      "Введите вторую сторону: 4\n",
      "Введите третью сторону: 5\n",
      "90.0\n"
     ]
    }
   ],
   "source": [
    "#8.2\n",
    "from math import acos, degrees\n",
    "\n",
    "x = int(input('Введите первую сторону: '))\n",
    "y = int(input('Введите вторую сторону: '))\n",
    "z = int(input('Введите третью сторону: '))\n",
    "\n",
    "def compute_angle(a, b, c):\n",
    "    angle_rad = acos((a ** 2 + b ** 2 - c ** 2)/(2 * a * b))\n",
    "    return degrees(angle_rad)\n",
    "\n",
    "print(compute_angle(x, y, z))"
   ]
  },
  {
   "cell_type": "code",
   "execution_count": null,
   "metadata": {},
   "outputs": [],
   "source": [
    "#8.3\n",
    "list_one = [-8, -3, 0, 1, 5, 7, 9, 12, 15, 19, 123]\n",
    "list_two = [-1293, -123, -81, -4, -3, 0, 1, 8, 14, 15, 16]\n",
    "new_list = list_one + list_two\n",
    "\n",
    "def insertion_method_sort(list_name):\n",
    "    for i in range(1, len(list_name)):\n",
    "        current_value = list_name[i]\n",
    "        position = i\n",
    "        while position > 0 and list_name[position - 1] > current_value:\n",
    "            list_name[position] = list_name[position - 1]\n",
    "            position -= 1\n",
    "        list_name[position] = current_value\n",
    "    return list_name\n",
    "\n",
    "\n",
    "print(f'Сформирован первый список: {list_one}')\n",
    "print(f'Сформирован второй список: {list_two}')\n",
    "print(f'Сформировано объединение: {new_list}')\n",
    "print(f'Произведена сортировка: {insertion_method_sort(new_list)}')"
   ]
  },
  {
   "cell_type": "code",
   "execution_count": null,
   "metadata": {},
   "outputs": [],
   "source": [
    "#9.1\n",
    "string = input('write a string: ')\n",
    "\n",
    "if string == string[::-1]:\n",
    "    print('Палиндром')\n",
    "else:\n",
    "    print('Не палиндром')"
   ]
  },
  {
   "cell_type": "code",
   "execution_count": null,
   "metadata": {},
   "outputs": [],
   "source": [
    "#9.2\n",
    "import math\n",
    "\n",
    "def calc(r):\n",
    "    square = math.pi * r**2\n",
    "    len_ = 2 * math.pi * r\n",
    "    return square, len_\n",
    "\n",
    "print(calc(10))"
   ]
  },
  {
   "cell_type": "code",
   "execution_count": null,
   "metadata": {},
   "outputs": [],
   "source": [
    "#9.3\n",
    "minus_list = []\n",
    "plus_list = []\n",
    "range_ = int(input('Сколько цифр вы хотите ввести? '))\n",
    "\n",
    "for i in range(range_):\n",
    "    number = int(input('Введите число: '))\n",
    "    if number > 0:\n",
    "        plus_list.append(number)\n",
    "    else:\n",
    "        minus_list.append(number)\n",
    "    \n",
    "print(f'Минимальное положительное: {min(plus_list)}')\n",
    "print(f'Максимальное отрицательное: {min(minus_list)}')"
   ]
  },
  {
   "cell_type": "code",
   "execution_count": null,
   "metadata": {},
   "outputs": [],
   "source": [
    "#10.1\n",
    "number_one = int(input())\n",
    "number_two = int(input())\n",
    "\n",
    "def name(number_one, number_two):\n",
    "    if number_one > number_two:\n",
    "        return number_one\n",
    "    else:\n",
    "        return number_two\n",
    "    \n",
    "print(name(number_one, number_two))"
   ]
  },
  {
   "cell_type": "code",
   "execution_count": null,
   "metadata": {},
   "outputs": [],
   "source": [
    "#10.2\n",
    "import random\n",
    "\n",
    "list_one = [random.randint(1,10) for i in range(5)]\n",
    "list_two = [random.randint(1,10) for i in range(5)]\n",
    "\n",
    "print(f'Первый список: {list_one}')\n",
    "print(f'Второй список: {list_two}')\n",
    "print(f'Число уникальных элементов: {len(set(list_one + list_two))}')"
   ]
  },
  {
   "cell_type": "code",
   "execution_count": null,
   "metadata": {},
   "outputs": [],
   "source": [
    "#10.3\n",
    "string = 'abcdefg'\n",
    "\n",
    "dict_ = {value: index + 1 for index, value in enumerate(string)}\n",
    "print(dict_)"
   ]
  },
  {
   "cell_type": "code",
   "execution_count": null,
   "metadata": {},
   "outputs": [],
   "source": [
    "#11.1\n",
    "string = input('write a string: ')\n",
    "\n",
    "def a_find(string):\n",
    "    if string.find('a') != -1:\n",
    "        return True\n",
    "    else:\n",
    "        return False\n",
    "    \n",
    "    \n",
    "print(a_find(string))"
   ]
  },
  {
   "cell_type": "code",
   "execution_count": null,
   "metadata": {},
   "outputs": [],
   "source": [
    "#11.2\n",
    "list_ = []\n",
    "range_ = int(input('Сколько цифр вы хотите ввести? '))\n",
    "\n",
    "for i in range(range_):\n",
    "    number = int(input('Введите число: '))\n",
    "    if number % 2 != 0:\n",
    "        list_.append(number)\n",
    "    \n",
    "print(f'Минимальное нечетное: {min(list_)}')"
   ]
  },
  {
   "cell_type": "code",
   "execution_count": null,
   "metadata": {},
   "outputs": [],
   "source": [
    "#11.3\n",
    "keys = ['январь', 'февраль', 'март', 'апрель', 'май', 'июнь', 'июль', 'август', 'сентябрь', 'октябрь', 'ноябрь', 'декабрь']\n",
    "values = [i for i in range(1, 13)]\n",
    "\n",
    "dict_ = {key: value for (key,  value) in zip(keys,  values)}\n",
    "print(dict_)"
   ]
  },
  {
   "cell_type": "code",
   "execution_count": null,
   "metadata": {},
   "outputs": [],
   "source": [
    "#12.1\n",
    "number_one = int(input())\n",
    "number_two = int(input())\n",
    "\n",
    "def name(number_one, number_two):\n",
    "    if number_one > number_two:\n",
    "        return number_one\n",
    "    else:\n",
    "        return number_two\n",
    "    \n",
    "print(name(number_one, number_two))"
   ]
  },
  {
   "cell_type": "code",
   "execution_count": null,
   "metadata": {},
   "outputs": [],
   "source": [
    "#12.2\n",
    "thisset = {\"set\", \"list\", \"tuple\"}\n",
    "\n",
    "if 'new' in thisset:\n",
    "    print('Есть')\n",
    "else:\n",
    "    print('Нет')"
   ]
  },
  {
   "cell_type": "code",
   "execution_count": null,
   "metadata": {},
   "outputs": [],
   "source": [
    "#12.3\n",
    "string = 'abcdefg'\n",
    "\n",
    "dict_ = {value: index + 1 for index, value in enumerate(string)}\n",
    "print(dict_)"
   ]
  },
  {
   "cell_type": "code",
   "execution_count": null,
   "metadata": {},
   "outputs": [],
   "source": [
    "#13.1\n",
    "set_ = {1, 2, 3, 4, 5, 6}\n",
    "\n",
    "for element in set_:\n",
    "    print(element)"
   ]
  },
  {
   "cell_type": "code",
   "execution_count": null,
   "metadata": {},
   "outputs": [],
   "source": [
    "#13.2\n",
    "dictionary_1 = {'a': 300, 'b': 400}\n",
    "dictionary_2 = {'c': 500, 'd': 600}\n",
    "dictionary_1.update(dictionary_2)\n",
    "print(dictionary_1)"
   ]
  },
  {
   "cell_type": "code",
   "execution_count": 38,
   "metadata": {},
   "outputs": [
    {
     "name": "stdout",
     "output_type": "stream",
     "text": [
      "Введите трехзначное число: 178\n",
      "F=1\n"
     ]
    }
   ],
   "source": [
    "#13.3\n",
    "number = int(input('Введите трехзначное число: '))\n",
    "number_str = str(number)\n",
    "\n",
    "if number_str[0] == '7' or number_str[1] == '7' or number_str[2] == '7':\n",
    "    print('F=1')\n",
    "else:\n",
    "    print('F=0')"
   ]
  },
  {
   "cell_type": "code",
   "execution_count": null,
   "metadata": {},
   "outputs": [],
   "source": [
    "#14.1\n",
    "dict_ = {'a': 300, 'b': 400, 'c': 500, 'd': 600}\n",
    "\n",
    "list_ = list(dict_.values())\n",
    "result = 1\n",
    "for number in list_:\n",
    "    result *= number\n",
    "    \n",
    "print(list_)\n",
    "print(result)"
   ]
  },
  {
   "cell_type": "code",
   "execution_count": null,
   "metadata": {},
   "outputs": [],
   "source": [
    "#14.2\n",
    "\n",
    "list_ = []\n",
    "while True:\n",
    "    number = input('write a number: ')\n",
    "    if number == '.':\n",
    "        break\n",
    "    elif int(number) > 0:\n",
    "        list_.append(int(number))\n",
    "    \n",
    "        \n",
    "print(f'Минимальное положительное число: {min(list_)}')"
   ]
  },
  {
   "cell_type": "code",
   "execution_count": null,
   "metadata": {},
   "outputs": [],
   "source": [
    "#14.3\n",
    "string = input('write a string: ')\n",
    "\n",
    "if string.find('*') == string.rfind('*'):\n",
    "    print(string.find('*'))"
   ]
  },
  {
   "cell_type": "code",
   "execution_count": 6,
   "metadata": {},
   "outputs": [
    {
     "name": "stdout",
     "output_type": "stream",
     "text": [
      "a % b = 10 % 10 = 0\n",
      "None\n"
     ]
    }
   ],
   "source": [
    "#15.1\n",
    "import re\n",
    "\n",
    "def calc(string):\n",
    "    numbers = re.findall('[-+]?\\d+', string)\n",
    "    operand = re.findall('[-+/*^%]', string)\n",
    "    \n",
    "    if operand[0] == '^': operand[0] = '**'\n",
    "    if operand[0] == ':': operand[0] = '/'\n",
    "    \n",
    "    if numbers[1] == '0' and operand[0] == '/':\n",
    "        return print('Error - divide on zero')\n",
    "    else:   \n",
    "        return print(f'a {operand[0]} b = {numbers[0]} {operand[0]} {numbers[1]} = {eval(numbers[0]+operand[0]+numbers[1])}')    \n",
    "print(calc('10 % 10'))"
   ]
  },
  {
   "cell_type": "code",
   "execution_count": 12,
   "metadata": {},
   "outputs": [
    {
     "name": "stdout",
     "output_type": "stream",
     "text": [
      "30\n"
     ]
    }
   ],
   "source": [
    "#15.2\n",
    "\n",
    "def my_func(number_one, number_two, number_three):\n",
    "    numbers = [number_one, number_two, number_three]\n",
    "    numbers.sort()\n",
    "    return numbers[1] + numbers[2]\n",
    "\n",
    "print(my_func(10, 1, 20))"
   ]
  },
  {
   "cell_type": "code",
   "execution_count": 13,
   "metadata": {},
   "outputs": [
    {
     "name": "stdout",
     "output_type": "stream",
     "text": [
      "{'one': 1, 'two': 2, 'three': 3, 'four': 4}\n"
     ]
    }
   ],
   "source": [
    "#15.3\n",
    "keys = ['one', 'two', 'three', 'four']\n",
    "values = [i for i in range(1, 5)]\n",
    "\n",
    "dict_ = {key: value for (key,  value) in zip(keys,  values)}\n",
    "print(dict_)"
   ]
  },
  {
   "cell_type": "code",
   "execution_count": null,
   "metadata": {},
   "outputs": [],
   "source": [
    "#16.1\n",
    "dict_ = {'one': 300, 'three': 400, 'two': 500, 'd': 600}\n",
    "\n",
    "list_ = list(dict_.values())\n",
    "result = 1\n",
    "for number in list_:\n",
    "    result *= number\n",
    "    \n",
    "print(list_)\n",
    "print(result)"
   ]
  },
  {
   "cell_type": "code",
   "execution_count": 14,
   "metadata": {},
   "outputs": [
    {
     "name": "stdout",
     "output_type": "stream",
     "text": [
      "write a number: 10\n",
      "write a number: 10\n",
      "1.0\n"
     ]
    }
   ],
   "source": [
    "#16.2\n",
    "\n",
    "def divide(one, two):\n",
    "    return one / two\n",
    "\n",
    "number_one = int(input('write a number: '))\n",
    "number_two = int(input('write a number: '))\n",
    "\n",
    "if number_two == 0:\n",
    "    print('error divide zero')\n",
    "else:\n",
    "    print(divide(number_one, number_two))\n",
    "    "
   ]
  },
  {
   "cell_type": "code",
   "execution_count": null,
   "metadata": {},
   "outputs": [],
   "source": [
    "#16.3\n",
    "dictionary_1 = {'a': 300, 'b': 400}\n",
    "dictionary_2 = {'c': 500, 'd': 600}\n",
    "dictionary_1.update(dictionary_2)\n",
    "print(dictionary_1)"
   ]
  },
  {
   "cell_type": "code",
   "execution_count": 20,
   "metadata": {},
   "outputs": [
    {
     "name": "stdout",
     "output_type": "stream",
     "text": [
      "Вы хотите добавить продукт? Напишите да/нет: да\n",
      "Введите номер продукта: 1\n",
      "Вы хотите добавить дополнительные параметры? Напишите да/нет: да\n",
      "Введите название характеристики: Название\n",
      "Введите значение характеристики: Стул\n",
      "Вы хотите добавить дополнительные параметры? Напишите да/нет: да\n",
      "Введите название характеристики: Цена\n",
      "Введите значение характеристики: 12000\n",
      "Вы хотите добавить дополнительные параметры? Напишите да/нет: да\n",
      "Введите название характеристики: Размер\n",
      "Введите значение характеристики: Большой\n",
      "Вы хотите добавить дополнительные параметры? Напишите да/нет: нет\n",
      "Вы хотите добавить продукт? Напишите да/нет: да\n",
      "Введите номер продукта: Стол\n"
     ]
    },
    {
     "ename": "ValueError",
     "evalue": "invalid literal for int() with base 10: 'Стол'",
     "output_type": "error",
     "traceback": [
      "\u001b[1;31m---------------------------------------------------------------------------\u001b[0m",
      "\u001b[1;31mValueError\u001b[0m                                Traceback (most recent call last)",
      "\u001b[1;32m<ipython-input-20-645f2197136a>\u001b[0m in \u001b[0;36m<module>\u001b[1;34m\u001b[0m\n\u001b[0;32m      2\u001b[0m \u001b[0mgoods\u001b[0m \u001b[1;33m=\u001b[0m \u001b[1;33m[\u001b[0m\u001b[1;33m]\u001b[0m\u001b[1;33m\u001b[0m\u001b[1;33m\u001b[0m\u001b[0m\n\u001b[0;32m      3\u001b[0m \u001b[1;32mwhile\u001b[0m \u001b[0minput\u001b[0m\u001b[1;33m(\u001b[0m\u001b[1;34m\"Вы хотите добавить продукт? Напишите да/нет: \"\u001b[0m\u001b[1;33m)\u001b[0m \u001b[1;33m==\u001b[0m \u001b[1;34m'да'\u001b[0m\u001b[1;33m:\u001b[0m\u001b[1;33m\u001b[0m\u001b[1;33m\u001b[0m\u001b[0m\n\u001b[1;32m----> 4\u001b[1;33m     \u001b[0mnumber\u001b[0m \u001b[1;33m=\u001b[0m \u001b[0mint\u001b[0m\u001b[1;33m(\u001b[0m\u001b[0minput\u001b[0m\u001b[1;33m(\u001b[0m\u001b[1;34m\"Введите номер продукта: \"\u001b[0m\u001b[1;33m)\u001b[0m\u001b[1;33m)\u001b[0m\u001b[1;33m\u001b[0m\u001b[1;33m\u001b[0m\u001b[0m\n\u001b[0m\u001b[0;32m      5\u001b[0m     \u001b[0mfeatures\u001b[0m \u001b[1;33m=\u001b[0m \u001b[1;33m{\u001b[0m\u001b[1;33m}\u001b[0m\u001b[1;33m\u001b[0m\u001b[1;33m\u001b[0m\u001b[0m\n\u001b[0;32m      6\u001b[0m     \u001b[1;32mwhile\u001b[0m \u001b[0minput\u001b[0m\u001b[1;33m(\u001b[0m\u001b[1;34m\"Вы хотите добавить дополнительные параметры? Напишите да/нет: \"\u001b[0m\u001b[1;33m)\u001b[0m \u001b[1;33m==\u001b[0m \u001b[1;34m'да'\u001b[0m\u001b[1;33m:\u001b[0m\u001b[1;33m\u001b[0m\u001b[1;33m\u001b[0m\u001b[0m\n",
      "\u001b[1;31mValueError\u001b[0m: invalid literal for int() with base 10: 'Стол'"
     ]
    }
   ],
   "source": [
    "#17.1\n",
    "goods = []\n",
    "while input(\"Вы хотите добавить продукт? Напишите да/нет: \") == 'да':\n",
    "    number = int(input(\"Введите номер продукта: \"))\n",
    "    features = {}\n",
    "    while input(\"Вы хотите добавить дополнительные параметры? Напишите да/нет: \") == 'да':\n",
    "        feature_key = input(\"Введите название характеристики: \")\n",
    "        feature_value = input(\"Введите значение характеристики: \")\n",
    "        features[feature_key] = feature_value\n",
    "    goods.append(tuple([number, features]))\n",
    "print(goods)\n",
    "analitics = {}\n",
    "for good in goods:\n",
    "    for feature_key, feature_value in good[1].items():\n",
    "        if feature_key in analitics:\n",
    "            analitics[feature_key].append(feature_value)\n",
    "        else:\n",
    "            analitics[feature_key] = [feature_value]\n",
    "print(analitics)\n"
   ]
  },
  {
   "cell_type": "code",
   "execution_count": 24,
   "metadata": {},
   "outputs": [
    {
     "name": "stdout",
     "output_type": "stream",
     "text": [
      "write a string: s*tring w*th sdf*s\n",
      "('tring w*th sdf', [1, 7, 16])\n"
     ]
    }
   ],
   "source": [
    "#17.2\n",
    "string = input('write a string: ')\n",
    "\n",
    "def process(string):\n",
    "    occurrences = []\n",
    "    if string.find('*') == string.rfind('*'):\n",
    "        return False\n",
    "    else:\n",
    "        occurrences.append(string.find('*'))\n",
    "        occurrences.append(string[occurrences[0] + 1:].find('*'))\n",
    "        occurrences.append(string.rfind('*'))\n",
    "    new_string = string[:occurrences[0] - 1] + string[occurrences[0] + 1: occurrences[2]]\n",
    "    return new_string, occurrences\n",
    "\n",
    "print(process(string))"
   ]
  },
  {
   "cell_type": "code",
   "execution_count": 27,
   "metadata": {},
   "outputs": [
    {
     "name": "stdout",
     "output_type": "stream",
     "text": [
      "{1: 1, 2: 8, 3: 27, 4: 64, 5: 125, 6: 216, 7: 343, 8: 512, 9: 729, 10: 1000}\n"
     ]
    }
   ],
   "source": [
    "#17.3\n",
    "keys = [i for i in range(1, 11)]\n",
    "values = [number ** 3 for number in keys]\n",
    "\n",
    "dict_ = {key: value for (key,  value) in zip(keys,  values)}\n",
    "print(dict_)"
   ]
  },
  {
   "cell_type": "code",
   "execution_count": 12,
   "metadata": {},
   "outputs": [
    {
     "name": "stdout",
     "output_type": "stream",
     "text": [
      "write a amount: 5817\n",
      "5817 рублей\n"
     ]
    }
   ],
   "source": [
    "#18.1\n",
    "amount = input('write a amount: ')\n",
    "\n",
    "if amount[len(amount) - 2: len(amount)] == '11' or amount[len(amount) - 2: len(amount)] == '12' or amount[len(amount) - 2: len(amount)] == '13' or amount[len(amount) - 2: len(amount)] == '14':\n",
    "    print(f'{amount} рублей')\n",
    "elif amount[-1] == '1':\n",
    "    print(f'{amount} рубль')\n",
    "elif amount[-1] == '2' or amount[-1] == '3' or amount[-1] == '4':\n",
    "    print(f'{amount} рубля')\n",
    "else:\n",
    "    print(f'{amount} рублей')\n",
    "    "
   ]
  },
  {
   "cell_type": "code",
   "execution_count": null,
   "metadata": {},
   "outputs": [],
   "source": [
    "#18.2\n",
    "keys = [i for i in range(1, 11)]\n",
    "values = [i for i in range(1, 11)]\n",
    "\n",
    "dict_ = {key: value for (key,  value) in zip(keys,  values)}\n",
    "print(dict_)"
   ]
  },
  {
   "cell_type": "code",
   "execution_count": null,
   "metadata": {},
   "outputs": [],
   "source": [
    "#18.3\n",
    "keys = [i for i in range(1, 11)]\n",
    "values = [number ** 3 for number in keys]\n",
    "\n",
    "dict_ = {key: value for (key,  value) in zip(keys,  values)}\n",
    "print(dict_)"
   ]
  },
  {
   "cell_type": "code",
   "execution_count": 69,
   "metadata": {},
   "outputs": [
    {
     "name": "stdout",
     "output_type": "stream",
     "text": [
      "Сколько котиков вы хотите? 2\n",
      "\n",
      "  /\\__/\\ \n",
      " /@    @\\ \n",
      "( ~~0~~ )\n",
      "\n",
      "  /\\__/\\ \n",
      " /@    @\\ \n",
      "( ~~0~~ )\n",
      " "
     ]
    }
   ],
   "source": [
    "#19.1\n",
    "cat = '''\n",
    "  /\\__/\\ \n",
    " /@    @\\ \n",
    "( ~~0~~ )\n",
    "'''\n",
    "number = int(input('Сколько котиков вы хотите? '))\n",
    "\n",
    "print(cat * number, sep = ' ', end = ' ')\n"
   ]
  },
  {
   "cell_type": "code",
   "execution_count": 5,
   "metadata": {},
   "outputs": [
    {
     "name": "stdout",
     "output_type": "stream",
     "text": [
      "('1', '9')\n",
      "['Во', 'поле', 'берёза', 'стояла']\n"
     ]
    }
   ],
   "source": [
    "#19.2\n",
    "def min_max(string):\n",
    "    list_ = list(string)\n",
    "    return min(list_), max(list_)\n",
    "\n",
    "def split(string):\n",
    "    list_ = string.split(' ')\n",
    "    return list_\n",
    "\n",
    "print(min_max('159'))\n",
    "print(split('Во поле берёза стояла'))"
   ]
  },
  {
   "cell_type": "code",
   "execution_count": 9,
   "metadata": {},
   "outputs": [
    {
     "name": "stdout",
     "output_type": "stream",
     "text": [
      "write a string: asdg sadtf sadfg sdg\n",
      "['asdg', 'sadfg', 'sadtf', 'sdg']\n",
      "asdg&sadfg&sadtf&sdg\n"
     ]
    }
   ],
   "source": [
    "#19.3\n",
    "string = input('write a string: ')\n",
    "list_ = string.split(' ')\n",
    "list_.sort()\n",
    "print(list_)\n",
    "print('&'.join(list_))"
   ]
  },
  {
   "cell_type": "code",
   "execution_count": 34,
   "metadata": {},
   "outputs": [
    {
     "name": "stdout",
     "output_type": "stream",
     "text": [
      "Enter number: 10\n",
      "[10, 7, 4, 3, 2]\n"
     ]
    }
   ],
   "source": [
    "#20.1\n",
    "number = int(input(\"Enter number: \"))\n",
    "my_list = [7, 4, 3, 2]\n",
    "c = my_list.count(number)\n",
    "for element in my_list:\n",
    "    if c > 0:\n",
    "        i = my_list.index(number)\n",
    "        my_list.insert(i + c, number)\n",
    "        break\n",
    "    else:\n",
    "        if number > element:\n",
    "            j = my_list.index(element)\n",
    "            my_list.insert(j, number)\n",
    "            break\n",
    "        elif number < my_list[len(my_list) - 1]:\n",
    "            my_list.append(number)\n",
    "print(my_list) "
   ]
  },
  {
   "cell_type": "code",
   "execution_count": 64,
   "metadata": {},
   "outputs": [
    {
     "name": "stdout",
     "output_type": "stream",
     "text": [
      "write a string: some string with words\n",
      "Сформирована строка: some string with words\n",
      "В обратном порядке: sdrow htiw gnirts emos\n",
      "Гласных: 5\n",
      "Регистр: Some String With Words\n"
     ]
    }
   ],
   "source": [
    "#20.2\n",
    "def rever(string):\n",
    "    return string[::-1]\n",
    "\n",
    "def vowel_count(string):\n",
    "    vowels = {'a', 'e', 'u', 'i', 'o'}\n",
    "    counter = 0\n",
    "    for char in string:\n",
    "        if char in vowels:\n",
    "            counter += 1\n",
    "    return counter\n",
    "\n",
    "def title(string):\n",
    "    return string.title()\n",
    "\n",
    "string = input('write a string: ')\n",
    "\n",
    "print(f'Сформирована строка: {string}')\n",
    "print(f'В обратном порядке: {rever(string)}')\n",
    "print(f'Гласных: {vowel_count(string)}')\n",
    "print(f'Регистр: {title(string)}')"
   ]
  },
  {
   "cell_type": "code",
   "execution_count": null,
   "metadata": {},
   "outputs": [],
   "source": [
    "#20.3\n",
    "\n",
    "list_ = []\n",
    "while True:\n",
    "    number = input('write a number: ')\n",
    "    if number == '0':\n",
    "        break\n",
    "    else:\n",
    "        list_.append(int(number))\n",
    "    \n",
    "print(f'\\nВведено {len(list_)} чисел')\n",
    "print(f'Минимальное число: {min(list_)}')\n",
    "print(f'Максимальное число: {max(list_)}')\n",
    "print(f'Сумма чисел: {sum(list_)}')\n",
    "print(f'Среднее арифметическое: {sum(list_) / len(list_)}')"
   ]
  },
  {
   "cell_type": "code",
   "execution_count": 29,
   "metadata": {},
   "outputs": [
    {
     "name": "stdout",
     "output_type": "stream",
     "text": [
      "write a string: 1 2 3 4\n",
      "4\n"
     ]
    }
   ],
   "source": [
    "#21.1\n",
    "string = input('write a string: ')\n",
    "\n",
    "word_counter = string.count(' ') + 1\n",
    "print(word_counter )"
   ]
  },
  {
   "cell_type": "code",
   "execution_count": 31,
   "metadata": {},
   "outputs": [
    {
     "name": "stdout",
     "output_type": "stream",
     "text": [
      "write a quantity: 1000\n",
      "57\n"
     ]
    }
   ],
   "source": [
    "#21.2\n",
    "import random\n",
    "\n",
    "quantity = int(input('write a quantity: '))\n",
    "sequence = [random.randint(1, 30000) for i in range(quantity)]\n",
    "\n",
    "factor_counter = [factor for factor in sequence if factor % 3 == 0]\n",
    "print(min(factor_counter))"
   ]
  },
  {
   "cell_type": "code",
   "execution_count": 29,
   "metadata": {},
   "outputs": [
    {
     "name": "stdout",
     "output_type": "stream",
     "text": [
      "[300, 400, 500, 600]\n",
      "36000000000\n"
     ]
    }
   ],
   "source": [
    "#21.3\n",
    "dict_ = {'one': 300, 'three': 400, 'two': 500, 'd': 600}\n",
    "\n",
    "list_ = list(dict_.values())\n",
    "result = 1\n",
    "for number in list_:\n",
    "    result *= number\n",
    "    \n",
    "print(list_)\n",
    "print(result)"
   ]
  },
  {
   "cell_type": "code",
   "execution_count": 40,
   "metadata": {},
   "outputs": [
    {
     "name": "stdout",
     "output_type": "stream",
     "text": [
      "write a string: asdfgghjkk\n",
      "write a string: qwerty\n",
      "Лексикографический порядок: ['asdfgghjkk', 'qwerty']\n",
      "Строка asdfgghjkk длинее второй строки на 4 символа\n",
      "Результат: asdfgghjkk\n",
      "qwerty\n"
     ]
    }
   ],
   "source": [
    "#22.1\n",
    "string_one = input('write a string: ')\n",
    "string_two = input('write a string: ')\n",
    "\n",
    "string_list = [string_one, string_two]\n",
    "string_list.sort()\n",
    "\n",
    "print(f'Лексикографический порядок: {string_list}')\n",
    "\n",
    "if len(string_one) > len(string_two):\n",
    "    print(f'Строка {string_one} длинее второй строки на {len(string_one) - len(string_two)} символа')\n",
    "else:\n",
    "    print(f'Строка {string_two} длинее второй строки на {len(string_two) - len(string_one)} символа')\n",
    "\n",
    "finale_string = string_one +'\\n'+string_two\n",
    "    \n",
    "print(f'Результат: \\n{finale_string}')"
   ]
  },
  {
   "cell_type": "code",
   "execution_count": 57,
   "metadata": {},
   "outputs": [
    {
     "name": "stdout",
     "output_type": "stream",
     "text": [
      "Введите ваш балл 90\n",
      "Ваша оценка: 4\n",
      "Ваша оценка - 5.\n"
     ]
    }
   ],
   "source": [
    "#22.2\n",
    "number = int(input('Введите ваш балл '))\n",
    "\n",
    "if number < 50:\n",
    "    print('Ваша оценка - 2.')\n",
    "elif number > 49 and number < 70:\n",
    "    print('Ваша оценка - 3.')\n",
    "elif number > 69 and number < 86:\n",
    "    print('Ваша оценка - 4.')\n",
    "else:\n",
    "    print('Ваша оценка - 5.')"
   ]
  },
  {
   "cell_type": "code",
   "execution_count": 53,
   "metadata": {},
   "outputs": [
    {
     "name": "stdout",
     "output_type": "stream",
     "text": [
      "2020\n",
      "Высокосный\n"
     ]
    }
   ],
   "source": [
    "#22.3\n",
    "year = int(input('Введите год: '))\n",
    "\n",
    "if (year % 4 == 0 and year % 100 != 0) or (year % 400 == 0):\n",
    "    print(\"Високосный\")\n",
    "else:\n",
    "    print(\"Обычный\")"
   ]
  },
  {
   "cell_type": "code",
   "execution_count": 48,
   "metadata": {},
   "outputs": [
    {
     "name": "stdout",
     "output_type": "stream",
     "text": [
      "Введите коэф. в уравнении ax^2 + bx + c = 0\n",
      "Введите коэф \"a\" = 1\n",
      "Введите коэф \"b\" = -4\n",
      "Введите коэф \"c\" = -5\n",
      "(5.0, -1.0)\n"
     ]
    }
   ],
   "source": [
    "#23.1\n",
    "import math\n",
    "\n",
    "print('Введите коэф. в уравнении ax^2 + bx + c = 0')\n",
    "a = float(input('Введите коэф \"a\" = '))\n",
    "b = float(input('Введите коэф \"b\" = '))\n",
    "c = float(input('Введите коэф \"c\" = '))\n",
    "\n",
    "def solve(a,b,c):\n",
    "    dis = math.sqrt(b**2 - 4*a*c)\n",
    "    x1 = (-b + dis) / 2*a\n",
    "    x2 = (-b - dis) / 2*a\n",
    "    return x1, x2\n",
    "\n",
    "print(solve(a, b, c))\n"
   ]
  },
  {
   "cell_type": "code",
   "execution_count": 50,
   "metadata": {},
   "outputs": [
    {
     "name": "stdout",
     "output_type": "stream",
     "text": [
      "Введите первую сторону: 1\n",
      "Введите вторую сторону: 5\n",
      "Введите третью сторону: 0\n",
      "Не треугольник\n"
     ]
    }
   ],
   "source": [
    "#23.2\n",
    "def is_triangle(a, b, c):\n",
    "    return a + b > c and a + c > b and b + c > a\n",
    "\n",
    "def is_rectangular(a, b, c):\n",
    "    return a**2 + b**2 == c**2 or a**2 + c**2 == b**2 or c**2 + b**2 == a**2\n",
    "\n",
    "a = int(input('Введите первую сторону: '))\n",
    "b = int(input('Введите вторую сторону: '))\n",
    "c = int(input('Введите третью сторону: '))\n",
    "\n",
    "if is_triangle(a, b, c):\n",
    "    if is_rectangular(a, b, c):\n",
    "        print('Прямоугольный треугольник')\n",
    "    else:\n",
    "        print('Не прямоугольный треугольник')\n",
    "else:\n",
    "    print('Не треугольник')"
   ]
  },
  {
   "cell_type": "code",
   "execution_count": 37,
   "metadata": {},
   "outputs": [
    {
     "name": "stdout",
     "output_type": "stream",
     "text": [
      "write a string: so*me st*ring\n"
     ]
    }
   ],
   "source": [
    "#23.3\n",
    "string = input('write a string: ')\n",
    "\n",
    "if string.find('*') == -1:\n",
    "    print('Нет символа')\n",
    "elif string.find('*') == string.rfind('*'):\n",
    "    print(string.rfind('*'))"
   ]
  },
  {
   "cell_type": "code",
   "execution_count": 41,
   "metadata": {},
   "outputs": [
    {
     "name": "stdout",
     "output_type": "stream",
     "text": [
      "Сформирован кортеж: ('H', 'e', 'l', 'l', 'o')\n",
      "Взятие среза: ('H', 'e', 'l')\n",
      "Конкатенация: ('H', 'e', 'l', 'l', 'o', 'H', 'e', 'l', 'l', 'o', 'H', 'e', 'l', 'l', 'o')\n"
     ]
    }
   ],
   "source": [
    "#24.1\n",
    "string = 'Hello'\n",
    "\n",
    "tuple_ = tuple(string)\n",
    "print(f'Сформирован кортеж: {tuple_}')\n",
    "print(f'Взятие среза: {tuple_[0:3]}')\n",
    "print(f'Конкатенация: {tuple_ + tuple_ + tuple_}')"
   ]
  },
  {
   "cell_type": "code",
   "execution_count": 42,
   "metadata": {},
   "outputs": [
    {
     "name": "stdout",
     "output_type": "stream",
     "text": [
      "write a string: 23+23+14\n",
      "60\n"
     ]
    }
   ],
   "source": [
    "#24.2\n",
    "string = input('write a string: ')\n",
    "print(eval(string))"
   ]
  },
  {
   "cell_type": "code",
   "execution_count": 43,
   "metadata": {},
   "outputs": [
    {
     "name": "stdout",
     "output_type": "stream",
     "text": [
      "120\n"
     ]
    }
   ],
   "source": [
    "#24.3\n",
    "def factorial(number):\n",
    "    result = 1\n",
    "    for i in range(1, number + 1):\n",
    "        result *= i\n",
    "    return result\n",
    "\n",
    "print(factorial(5))"
   ]
  },
  {
   "cell_type": "code",
   "execution_count": 38,
   "metadata": {},
   "outputs": [
    {
     "name": "stdout",
     "output_type": "stream",
     "text": [
      "x1 = 1\n",
      "y1 = 1\n",
      "x2 = 0\n",
      "y2 = 5\n",
      "4.12311\n"
     ]
    }
   ],
   "source": [
    "#25.1\n",
    "import math\n",
    "\n",
    "x1 = int(input('x1 = '))\n",
    "y1 = int(input('y1 = '))\n",
    "x2 = int(input('x2 = '))\n",
    "y2 = int(input('y2 = '))\n",
    "\n",
    "def distance(x1, y1, x2, y2):\n",
    "    return math.sqrt((x2 - x1)**2 + (y2 - y1)**2)\n",
    "\n",
    "print(f'{distance(x1,y1,x2,y2):.5f}')"
   ]
  },
  {
   "cell_type": "code",
   "execution_count": 43,
   "metadata": {},
   "outputs": [
    {
     "name": "stdout",
     "output_type": "stream",
     "text": [
      "{1, 4, 6}\n",
      "{1, 4, 5, 6, 8, -1}\n",
      "{4, 5, 6, 8, -1}\n",
      "['key_one', 'ключ', 'авыфа', 'буква']\n"
     ]
    }
   ],
   "source": [
    "#25.2\n",
    "set_ = {1, 4, 6}\n",
    "print(set_)\n",
    "\n",
    "set_.add(5)\n",
    "set_.add(8)\n",
    "set_.add(-1)\n",
    "\n",
    "print(set_)\n",
    "set_.remove(1)\n",
    "print(set_)\n",
    "\n",
    "dict_ = {'key_one': 1234, 'ключ': 1234, 'авыфа': 4120, 'буква': 6130}\n",
    "print(list(dict_.keys()))\n"
   ]
  },
  {
   "cell_type": "code",
   "execution_count": 45,
   "metadata": {},
   "outputs": [
    {
     "name": "stdout",
     "output_type": "stream",
     "text": [
      "a = -123\n",
      "b = 193\n",
      "c = -290\n",
      "d = 0\n",
      "Наименьшее число: -290\n"
     ]
    }
   ],
   "source": [
    "#25.3\n",
    "a = int(input('a = '))\n",
    "b = int(input('b = '))\n",
    "c = int(input('c = '))\n",
    "d = int(input('d = '))\n",
    "\n",
    "list_ = [a,b,c,d]\n",
    "list_.sort()\n",
    "print(f'Наименьшее число: {list_[0]}')"
   ]
  },
  {
   "cell_type": "code",
   "execution_count": 25,
   "metadata": {},
   "outputs": [
    {
     "name": "stdout",
     "output_type": "stream",
     "text": [
      "write a number: 123\n",
      "321\n"
     ]
    }
   ],
   "source": [
    "#26.1\n",
    "number = int(input('write a number: '))\n",
    "print(int(str(number)[::-1]))"
   ]
  },
  {
   "cell_type": "code",
   "execution_count": 26,
   "metadata": {},
   "outputs": [
    {
     "name": "stdout",
     "output_type": "stream",
     "text": [
      "[1, 2, 3, 4, 6, 8, 12, 16, 24, 48]\n"
     ]
    }
   ],
   "source": [
    "#26.2\n",
    "print([factor for factor in range(1, 49) if 48 % factor == 0])"
   ]
  },
  {
   "cell_type": "code",
   "execution_count": 33,
   "metadata": {},
   "outputs": [
    {
     "name": "stdout",
     "output_type": "stream",
     "text": [
      "write a string: QWeRtY\n",
      "qwErTy\n"
     ]
    }
   ],
   "source": [
    "#26.3\n",
    "string = input('write a string: ')\n",
    "print(string.swapcase())"
   ]
  },
  {
   "cell_type": "code",
   "execution_count": 32,
   "metadata": {},
   "outputs": [
    {
     "name": "stdout",
     "output_type": "stream",
     "text": [
      "write a number: 111\n",
      "3\n"
     ]
    }
   ],
   "source": [
    "#27.1\n",
    "number = input('write a number: ')\n",
    "result =  int(number[0]) + int(number[1]) + int(number[2])\n",
    "\n",
    "print(result)"
   ]
  },
  {
   "cell_type": "code",
   "execution_count": 1,
   "metadata": {},
   "outputs": [
    {
     "name": "stdout",
     "output_type": "stream",
     "text": [
      "[0, 1, 2, 3, 4, 5, 6, 7, 8, 9, 10, 11, 12, 13, 14, 15, 16, 17, 18, 19, 20, 21, 22, 23, 24]\n"
     ]
    }
   ],
   "source": [
    "#27.2\n",
    "print([i for i in range(0, 25)])"
   ]
  },
  {
   "cell_type": "code",
   "execution_count": 30,
   "metadata": {},
   "outputs": [
    {
     "name": "stdout",
     "output_type": "stream",
     "text": [
      "write a string: aer qwer\n",
      "[' qwer']\n"
     ]
    }
   ],
   "source": [
    "#27.3\n",
    "import re  \n",
    "\n",
    "string = input('write a string: ')\n",
    "result = result = re.findall(r\"\\b[^auioe]\\w*\\b\", string)\n",
    "\n",
    "print(result)"
   ]
  },
  {
   "cell_type": "code",
   "execution_count": 6,
   "metadata": {},
   "outputs": [
    {
     "name": "stdout",
     "output_type": "stream",
     "text": [
      "write a var: 10\n",
      "y = 118\n"
     ]
    }
   ],
   "source": [
    "#28.1\n",
    "def y(x):\n",
    "    return x + 12 * (1 + x - 2)\n",
    "\n",
    "x = int(input('write a var: '))\n",
    "print(f'y = {y(x)}')"
   ]
  },
  {
   "cell_type": "code",
   "execution_count": 1,
   "metadata": {},
   "outputs": [
    {
     "name": "stdout",
     "output_type": "stream",
     "text": [
      "[5, 15, 25, 35, 45, 55, 65, 75, 85, 95, 105, 115, 125, 135, 145, 155, 165, 175, 185, 195, 205, 215, 225, 235, 245, 255, 265, 275, 285, 295, 305, 315, 325, 335, 345, 355, 365, 375, 385, 395, 405, 415, 425, 435, 445, 455, 465, 475, 485, 495, 505, 515, 525, 535, 545, 555, 565, 575, 585, 595, 605, 615, 625, 635, 645, 655, 665, 675, 685, 695, 705, 715, 725, 735, 745, 755, 765, 775, 785, 795, 805, 815, 825, 835, 845, 855, 865, 875, 885, 895, 905, 915, 925, 935, 945, 955, 965, 975, 985, 995, 1005]\n"
     ]
    }
   ],
   "source": [
    "#28.2\n",
    "list_ = [number for number in range(1006) if number % 5 == 0 and number % 10 != 0]\n",
    "print(list_)"
   ]
  },
  {
   "cell_type": "code",
   "execution_count": 3,
   "metadata": {},
   "outputs": [
    {
     "name": "stdout",
     "output_type": "stream",
     "text": [
      "True\n"
     ]
    }
   ],
   "source": [
    "#28.3\n",
    "\n",
    "def is_number(number):\n",
    "    if number[0] == '+' and len(number) == 12:\n",
    "        return True\n",
    "    else: False\n",
    "        \n",
    "print(is_number('+79312131693'))"
   ]
  },
  {
   "cell_type": "code",
   "execution_count": 14,
   "metadata": {},
   "outputs": [
    {
     "name": "stdout",
     "output_type": "stream",
     "text": [
      "write a number: 12\n",
      "<class 'str'>: 12, <class 'int'>: 12, <class 'float'>: 12.0\n",
      "\n",
      "<class 'str'>: 12\n",
      "<class 'int'>: 12\n",
      "<class 'float'>: 12.0\n"
     ]
    }
   ],
   "source": [
    "#29.1\n",
    "string = input('write a number: ')\n",
    "float_ = float(string)\n",
    "integer = int(string)\n",
    "\n",
    "print(f'{type(string)}: {string}, {type(integer)}: {integer}, {type(float_)}: {float_}', sep=',')\n",
    "print('')\n",
    "print(f'{type(string)}: {string}')\n",
    "print(f'{type(integer)}: {integer}')\n",
    "print(f'{type(float_)}: {float_}')"
   ]
  },
  {
   "cell_type": "code",
   "execution_count": 22,
   "metadata": {},
   "outputs": [
    {
     "name": "stdout",
     "output_type": "stream",
     "text": [
      "[1, 2, 3, 4, 5, 6, 7, 8, 9]\n",
      "[5, 8, 11, 14, 17, 20, 23, 26, 29]\n"
     ]
    }
   ],
   "source": [
    "#29.2\n",
    "list_ = [i for i in range(1, 10)]\n",
    "list_triple = []\n",
    "for index, number in enumerate(list_):\n",
    "    list_triple.append(number * 3 + 2)\n",
    "\n",
    "print(list_)\n",
    "print(list_triple)"
   ]
  },
  {
   "cell_type": "code",
   "execution_count": 24,
   "metadata": {},
   "outputs": [
    {
     "name": "stdout",
     "output_type": "stream",
     "text": [
      "write a string: stiring;with;znak\n",
      "stiring with znak\n"
     ]
    }
   ],
   "source": [
    "#29.3\n",
    "import re\n",
    "string = input('write a string: ')\n",
    "rep = re.compile(\"[^a-zA-Zа-яА-я,\\d]\")\n",
    "text = rep.sub(\" \", string)\n",
    "\n",
    "print(text)\n",
    "\n",
    "#удаляет все символы кроме букв и цифр"
   ]
  },
  {
   "cell_type": "code",
   "execution_count": 5,
   "metadata": {},
   "outputs": [
    {
     "name": "stdout",
     "output_type": "stream",
     "text": [
      "write a var_A: 1\n",
      "write a var_B: 10\n",
      "Переменная А: 1\n",
      "Переменная B: 10\n",
      "-------------------ПОСЛЕ ИЗМЕНЕНИЙ------------------\n",
      "Переменная А: 10\n",
      "Переменная B: 1\n"
     ]
    }
   ],
   "source": [
    "#30.1\n",
    "A = input('write a var_A: ')\n",
    "B = input('write a var_B: ')\n",
    "print(f'Переменная А: {A}')\n",
    "print(f'Переменная B: {B}')\n",
    "A, B = B, A\n",
    "print('-------------------ПОСЛЕ ИЗМЕНЕНИЙ------------------')\n",
    "print(f'Переменная А: {A}')\n",
    "print(f'Переменная B: {B}')"
   ]
  },
  {
   "cell_type": "code",
   "execution_count": 23,
   "metadata": {},
   "outputs": [
    {
     "name": "stdout",
     "output_type": "stream",
     "text": [
      "write a string:     строка    с кучей    пробелов\n",
      "строка с кучей пробелов\n"
     ]
    }
   ],
   "source": [
    "#30.2\n",
    "import re\n",
    "\n",
    "string = (input('write a string: ').strip())\n",
    "\n",
    "print(' '.join(re.split(r'\\s+', string)))"
   ]
  },
  {
   "cell_type": "code",
   "execution_count": 5,
   "metadata": {},
   "outputs": [
    {
     "name": "stdout",
     "output_type": "stream",
     "text": [
      "Введите начало первого отрезка: 0\n",
      "Введите конец первого отрезка: 5\n",
      "Введите начало второго отрезка: 2\n",
      "Введите конец второго отрезка: 8\n",
      "Сформировано первое множество: {0, 1, 2, 3, 4, 5}\n",
      "Сформировано второе множество: {2, 3, 4, 5, 6, 7, 8}\n",
      "Пересечение множеств: {2, 3, 4, 5}\n"
     ]
    }
   ],
   "source": [
    "#30.3\n",
    "start_first = int(input('Введите начало первого отрезка: '))\n",
    "end_first = int(input('Введите конец первого отрезка: '))\n",
    "start_second = int(input('Введите начало второго отрезка: '))\n",
    "end_second = int(input('Введите конец второго отрезка: '))\n",
    "\n",
    "set_one = {i for i in range(start_first, end_first + 1)}\n",
    "set_two = {j for j in range(start_second, end_second + 1)}\n",
    "\n",
    "print(f'Сформировано первое множество: {set_one}')\n",
    "print(f'Сформировано второе множество: {set_two}')\n",
    "\n",
    "union_set = set_one & set_two\n",
    "if len(union_set) == 0:\n",
    "    print('Множества не пересекаются')\n",
    "else:\n",
    "    print(f'Пересечение множеств: {union_set}')"
   ]
  },
  {
   "cell_type": "code",
   "execution_count": null,
   "metadata": {},
   "outputs": [],
   "source": []
  }
 ],
 "metadata": {
  "kernelspec": {
   "display_name": "Python 3",
   "language": "python",
   "name": "python3"
  },
  "language_info": {
   "codemirror_mode": {
    "name": "ipython",
    "version": 3
   },
   "file_extension": ".py",
   "mimetype": "text/x-python",
   "name": "python",
   "nbconvert_exporter": "python",
   "pygments_lexer": "ipython3",
   "version": "3.8.3"
  }
 },
 "nbformat": 4,
 "nbformat_minor": 4
}
