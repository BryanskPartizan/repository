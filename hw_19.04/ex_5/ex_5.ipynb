{
 "cells": [
  {
   "cell_type": "code",
   "execution_count": 24,
   "metadata": {},
   "outputs": [],
   "source": [
    "import random\n",
    "import csv\n",
    "\n",
    "A = [random.randint(1900, 2021) for i in range(160)]\n",
    "B = [random.randint(1900, 2021) for i in range(187)]\n",
    "C = [random.randint(1900, 2021) for i in range(213)]\n",
    "D = [i for i in range(1, 215)]\n",
    "\n",
    "def data_creator(A, B, C, D, fieldnames):\n",
    "    \n",
    "    data = []\n",
    "    result_data = []\n",
    "    for index in range(len(D)):\n",
    "        try:\n",
    "            if index >= len(A):\n",
    "                A.append('')\n",
    "            if index >= len(B):\n",
    "                B.append('')\n",
    "            if index >= len(C):\n",
    "                C.append('')\n",
    "            data.append([D[index], A[index], C[index], B[index]])\n",
    "            \n",
    "        except IndexError:\n",
    "            pass\n",
    "            \n",
    "    for values in data:\n",
    "        sub_dict = dict(zip(fieldnames, values))\n",
    "        result_data.append(sub_dict)\n",
    "    return result_data\n",
    "\n",
    "def writer(path, fieldnames, data):\n",
    "    with open(path, 'w', newline='') as out_file:\n",
    "        writer = csv.DictWriter(out_file, delimiter=';', fieldnames=fieldnames)\n",
    "        writer.writeheader()\n",
    "        for row in data:\n",
    "            writer.writerow(row)\n",
    "\n",
    "fieldnames = ['D', 'A', 'C', 'B']\n",
    "data = data_creator(A, B, C, D, fieldnames)\n",
    "path = 'ex_5.csv'\n",
    "writer(path, fieldnames, data)\n"
   ]
  },
  {
   "cell_type": "code",
   "execution_count": null,
   "metadata": {},
   "outputs": [],
   "source": []
  }
 ],
 "metadata": {
  "kernelspec": {
   "display_name": "Python 3",
   "language": "python",
   "name": "python3"
  },
  "language_info": {
   "codemirror_mode": {
    "name": "ipython",
    "version": 3
   },
   "file_extension": ".py",
   "mimetype": "text/x-python",
   "name": "python",
   "nbconvert_exporter": "python",
   "pygments_lexer": "ipython3",
   "version": "3.8.5"
  }
 },
 "nbformat": 4,
 "nbformat_minor": 4
}
