{
 "cells": [
  {
   "cell_type": "code",
   "execution_count": 63,
   "metadata": {},
   "outputs": [
    {
     "data": {
      "image/png": "[encoded data removed]",
      "text/plain": [
       "<Figure size 864x576 with 2 Axes>"
      ]
     },
     "metadata": {
      "needs_background": "light"
     },
     "output_type": "display_data"
    }
   ],
   "source": [
    "import csv\n",
    "import matplotlib.pyplot as plt\n",
    "import numpy as np\n",
    "\n",
    "def reader(file_name):\n",
    "    gender = []\n",
    "    opinion = []\n",
    "    \n",
    "    with open(file_name, encoding='utf-8') as file:\n",
    "        reader = csv.DictReader(file, delimiter=';')\n",
    "        for row in reader:\n",
    "            gender.append(row['\\ufeffПол'])\n",
    "            opinion.append(row['Отношение'])\n",
    "    return gender, opinion\n",
    "\n",
    "\n",
    "def data_analysis(genders, opinions):\n",
    "    neu = 'безразличное'\n",
    "    pos = 'положительное'\n",
    "    neg = 'отрицательное'\n",
    "    \n",
    "    male_pos = 0\n",
    "    male_neu = 0\n",
    "    male_neg = 0\n",
    "    fem_pos = 0\n",
    "    fem_neu = 0\n",
    "    fem_neg = 0\n",
    "    \n",
    "    male_opinion = []\n",
    "    female_opinion = []\n",
    "    \n",
    "    for index, gender in enumerate(genders):\n",
    "        if gender == 'мужчина':\n",
    "            male_opinion.append(opinions[index])\n",
    "        else:\n",
    "            female_opinion.append(opinions[index])\n",
    "    \n",
    "    for opinion in male_opinion:\n",
    "        if opinion == pos:\n",
    "            male_pos += 1\n",
    "        elif opinion == neu:\n",
    "            male_neu += 1\n",
    "        elif opinion == neg:\n",
    "            male_neg += 1\n",
    "            \n",
    "    for opinion in female_opinion:\n",
    "        if opinion == pos:\n",
    "            fem_pos += 1\n",
    "        elif opinion == neu:\n",
    "            fem_neu += 1\n",
    "        elif opinion == neg:\n",
    "            fem_neg += 1\n",
    "            \n",
    "    male = [male_pos, male_neu, male_neg]\n",
    "    female = [fem_pos, fem_neu, fem_neg]\n",
    "    \n",
    "    return male, female\n",
    "    \n",
    "    \n",
    "path = 'trailer.csv'\n",
    "genders = reader(path)[0]\n",
    "opinions = reader(path)[1]\n",
    "male = data_analysis(genders, opinions)[0]\n",
    "female = data_analysis(genders, opinions)[1]\n",
    "opinion = ['Положительное', 'Безразличное', 'Негативное']\n",
    "\n",
    "fig, (ax1, ax2) = plt.subplots(nrows=1, ncols=2, figsize=(12, 8))\n",
    "ax1.bar(opinion, male, color='blue', edgecolor='darkblue', linewidth=5)\n",
    "ax1.set_title('Мужской пол')\n",
    "\n",
    "ax2.bar(opinion, female, color = 'purple', edgecolor='indigo', linewidth=5)\n",
    "ax2.set_title('Женский пол')\n",
    "ax2.yaxis.tick_right()"
   ]
  },
  {
   "cell_type": "code",
   "execution_count": null,
   "metadata": {},
   "outputs": [],
   "source": []
  }
 ],
 "metadata": {
  "kernelspec": {
   "display_name": "Python 3",
   "language": "python",
   "name": "python3"
  },
  "language_info": {
   "codemirror_mode": {
    "name": "ipython",
    "version": 3
   },
   "file_extension": ".py",
   "mimetype": "text/x-python",
   "name": "python",
   "nbconvert_exporter": "python",
   "pygments_lexer": "ipython3",
   "version": "3.8.5"
  }
 },
 "nbformat": 4,
 "nbformat_minor": 4
}
