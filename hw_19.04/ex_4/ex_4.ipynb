{
 "cells": [
  {
   "cell_type": "code",
   "execution_count": 8,
   "metadata": {},
   "outputs": [],
   "source": [
    "import csv\n",
    "import random\n",
    "\n",
    "def data_creator(list_x, fieldnames):\n",
    "    data = []\n",
    "    result_data = []\n",
    "    for index in range(len(list_x)):\n",
    "        data.append([list_x[index]])\n",
    "   \n",
    "    for values in data:\n",
    "        sub_dict = dict(zip(fieldnames, values))\n",
    "        result_data.append(sub_dict)\n",
    "    return result_data\n",
    "\n",
    "def writer(path, fieldnames, data):\n",
    "    with open(path, 'w', newline='') as out_file:\n",
    "        writer = csv.DictWriter(out_file, delimiter=';', fieldnames=fieldnames)\n",
    "        writer.writeheader()\n",
    "        for row in data:\n",
    "            writer.writerow(row)\n",
    "\n",
    "path = 'ex_4.csv'\n",
    "list_ = [random.randint(1998, 2021) for i in range(673)]\n",
    "\n",
    "data = data_creator(list_, ['Year'])\n",
    "writer(path, ['Year'], )"
   ]
  },
  {
   "cell_type": "code",
   "execution_count": 13,
   "metadata": {},
   "outputs": [],
   "source": [
    "import csv\n",
    "\n",
    "def reader(path):\n",
    "    years = []\n",
    "    with open(path, 'r', encoding='utf-8') as file:\n",
    "        reader = csv.DictReader(file, delimiter=';')\n",
    "        for line in reader:\n",
    "            years.append(line['Year'])\n",
    "    return years\n",
    "\n",
    "def data_creator(list_x, fieldnames):\n",
    "    data = []\n",
    "    result_data = []\n",
    "    for index in range(len(list_x)):\n",
    "        data.append([list_x[index]])\n",
    "   \n",
    "    for values in data:\n",
    "        sub_dict = dict(zip(fieldnames, values))\n",
    "        result_data.append(sub_dict)\n",
    "    return result_data\n",
    "\n",
    "def writer(path, fieldnames, data):\n",
    "    with open(path, 'w', newline='') as out_file:\n",
    "        writer = csv.DictWriter(out_file, delimiter=';', fieldnames=fieldnames)\n",
    "        writer.writeheader()\n",
    "        for row in data:\n",
    "            writer.writerow(row)\n",
    "\n",
    "\n",
    "in_path = 'ex_4.csv'\n",
    "years = reader(in_path)\n",
    "years.sort(reverse=True)\n",
    "data = data_creator(years, ['Year'])\n",
    "\n",
    "out_path = 'ex_4_sorted.csv'\n",
    "writer(out_path, ['Year'], data)\n",
    "\n"
   ]
  },
  {
   "cell_type": "code",
   "execution_count": null,
   "metadata": {},
   "outputs": [],
   "source": []
  }
 ],
 "metadata": {
  "kernelspec": {
   "display_name": "Python 3",
   "language": "python",
   "name": "python3"
  },
  "language_info": {
   "codemirror_mode": {
    "name": "ipython",
    "version": 3
   },
   "file_extension": ".py",
   "mimetype": "text/x-python",
   "name": "python",
   "nbconvert_exporter": "python",
   "pygments_lexer": "ipython3",
   "version": "3.8.5"
  }
 },
 "nbformat": 4,
 "nbformat_minor": 4
}
