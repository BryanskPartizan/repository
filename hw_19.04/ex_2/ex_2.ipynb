{
 "cells": [
  {
   "cell_type": "code",
   "execution_count": 8,
   "metadata": {},
   "outputs": [
    {
     "name": "stdout",
     "output_type": "stream",
     "text": [
      "Ivan    28\n",
      "Alice    23\n",
      "Boris    34\n"
     ]
    }
   ],
   "source": [
    "import csv\n",
    "path = \"users.csv\"\n",
    "\n",
    "users = [\n",
    "    [\"Ivan\", 28],\n",
    "    [\"Alice\", 23],\n",
    "    [\"Boris\", 34]\n",
    "]\n",
    "with open(path, \"w\", newline=\"\") as file:\n",
    "    writer = csv.writer(file) \n",
    "    writer.writerows(users) \n",
    "\n",
    "\n",
    "import csv\n",
    "path = \"users.csv\"\n",
    "with open(path, \"r\", newline=\"\") as file:\n",
    "    reader = csv.reader(file)\n",
    "    for row in reader:\n",
    "        print(row[0], \"  \", row[1])  "
   ]
  },
  {
   "cell_type": "code",
   "execution_count": 9,
   "metadata": {},
   "outputs": [
    {
     "name": "stdout",
     "output_type": "stream",
     "text": [
      "[['Ivan', '28'], ['Alice', '23'], ['Boris', '34'], ['Irina', 14], ['Mark', 29], ['Anton', 49], ['Georg', 61]]\n"
     ]
    }
   ],
   "source": [
    "#задание 2\n",
    "\n",
    "import csv\n",
    "\n",
    "def reader(file_name):\n",
    "    with open(file_name, encoding='utf-8') as file:\n",
    "        reader = csv.reader(file)\n",
    "        users = []\n",
    "        for row in reader:\n",
    "            users.append(row)\n",
    "    return users\n",
    "\n",
    "def writer(path, data):\n",
    "    with open(path, 'w', newline='') as out_file:\n",
    "        writer = csv.writer(out_file) \n",
    "        writer.writerows(data)\n",
    "\n",
    "path = \"users.csv\"\n",
    "new_users = [\n",
    "    ['Irina', 14],\n",
    "    ['Mark', 29],\n",
    "    ['Anton', 49],\n",
    "    ['Georg', 61]\n",
    "]\n",
    "\n",
    "users = reader(path)\n",
    "for new_user in new_users:\n",
    "    users.append(new_user)\n",
    "writer(path, users)\n",
    "\n",
    "print(users)"
   ]
  },
  {
   "cell_type": "code",
   "execution_count": null,
   "metadata": {},
   "outputs": [],
   "source": []
  }
 ],
 "metadata": {
  "kernelspec": {
   "display_name": "Python 3",
   "language": "python",
   "name": "python3"
  },
  "language_info": {
   "codemirror_mode": {
    "name": "ipython",
    "version": 3
   },
   "file_extension": ".py",
   "mimetype": "text/x-python",
   "name": "python",
   "nbconvert_exporter": "python",
   "pygments_lexer": "ipython3",
   "version": "3.8.5"
  }
 },
 "nbformat": 4,
 "nbformat_minor": 4
}
