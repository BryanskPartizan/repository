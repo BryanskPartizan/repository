{
 "cells": [
  {
   "cell_type": "code",
   "execution_count": 6,
   "metadata": {},
   "outputs": [
    {
     "name": "stdout",
     "output_type": "stream",
     "text": [
      "<class 'str'>\n",
      "1\n"
     ]
    },
    {
     "ename": "TypeError",
     "evalue": "'str' object does not support item assignment",
     "output_type": "error",
     "traceback": [
      "\u001b[1;31m---------------------------------------------------------------------------\u001b[0m",
      "\u001b[1;31mTypeError\u001b[0m                                 Traceback (most recent call last)",
      "\u001b[1;32m<ipython-input-6-4518d00bbcc9>\u001b[0m in \u001b[0;36m<module>\u001b[1;34m()\u001b[0m\n\u001b[0;32m      2\u001b[0m \u001b[0mprint\u001b[0m\u001b[1;33m(\u001b[0m\u001b[0mtype\u001b[0m\u001b[1;33m(\u001b[0m\u001b[0mstring\u001b[0m\u001b[1;33m)\u001b[0m\u001b[1;33m)\u001b[0m\u001b[1;33m\u001b[0m\u001b[0m\n\u001b[0;32m      3\u001b[0m \u001b[0mprint\u001b[0m\u001b[1;33m(\u001b[0m\u001b[0mstring\u001b[0m\u001b[1;33m[\u001b[0m\u001b[1;36m1\u001b[0m\u001b[1;33m]\u001b[0m\u001b[1;33m)\u001b[0m\u001b[1;33m\u001b[0m\u001b[0m\n\u001b[1;32m----> 4\u001b[1;33m \u001b[0mstring\u001b[0m\u001b[1;33m[\u001b[0m\u001b[1;36m1\u001b[0m\u001b[1;33m]\u001b[0m \u001b[1;33m=\u001b[0m \u001b[1;34m'b'\u001b[0m\u001b[1;33m\u001b[0m\u001b[0m\n\u001b[0m\u001b[0;32m      5\u001b[0m \u001b[0mprint\u001b[0m\u001b[1;33m(\u001b[0m\u001b[0mstring\u001b[0m\u001b[1;33m[\u001b[0m\u001b[1;36m1\u001b[0m\u001b[1;33m]\u001b[0m\u001b[1;33m)\u001b[0m\u001b[1;33m\u001b[0m\u001b[0m\n",
      "\u001b[1;31mTypeError\u001b[0m: 'str' object does not support item assignment"
     ]
    }
   ],
   "source": [
    "string = '0123456789'\n",
    "print(type(string))\n",
    "print(string[1])\n",
    "\n",
    "string[1] = 'b'    # we cant change the char\n",
    "print(string[1])"
   ]
  },
  {
   "cell_type": "code",
   "execution_count": 13,
   "metadata": {},
   "outputs": [
    {
     "name": "stdout",
     "output_type": "stream",
     "text": [
      "<class 'set'>\n",
      "{1, 2, 3, 4, 5, 6, 7, 8, 9}\n",
      "{0, 1, 2, 3, 4, 5, 6, 7, 8, 9}\n"
     ]
    }
   ],
   "source": [
    "set_ = {1, 2, 3, 4, 5, 6, 7, 8, 9}\n",
    "set_one = {0}\n",
    "\n",
    "print(type(set_))\n",
    "print(set_)\n",
    "\n",
    "print(set_.union(set_one))   #we can change the set"
   ]
  },
  {
   "cell_type": "code",
   "execution_count": 21,
   "metadata": {},
   "outputs": [
    {
     "name": "stdout",
     "output_type": "stream",
     "text": [
      "3\n",
      "Рандомное число: 10953\n",
      "18\n"
     ]
    }
   ],
   "source": [
    "import random\n",
    "\n",
    "rand_number = random.randint(-10000, 100000)\n",
    "\n",
    "def summa(number):\n",
    "    str_number = str(number)\n",
    "    result = 0\n",
    "    for i in range(len(str_number)):\n",
    "        result += int(str_number[i])\n",
    "    return result\n",
    "\n",
    "print(summa(111))\n",
    "print(f'Рандомное число: {rand_number}')\n",
    "print(summa(rand_number))"
   ]
  },
  {
   "cell_type": "code",
   "execution_count": 25,
   "metadata": {},
   "outputs": [
    {
     "name": "stdout",
     "output_type": "stream",
     "text": [
      "21\n"
     ]
    }
   ],
   "source": [
    "string = '1+2+3+4+5+6'\n",
    "\n",
    "result = eval(string)\n",
    "print(result)"
   ]
  },
  {
   "cell_type": "code",
   "execution_count": 11,
   "metadata": {},
   "outputs": [
    {
     "name": "stdout",
     "output_type": "stream",
     "text": [
      "{'января': 1, 'февраля': 2, 'марта': 3, 'апреля': 4, 'мая': 5, 'июня': 6, 'июля': 7, 'августа': 8, 'сентября': 9, 'октября': 10, 'ноября': 11, 'декабря': 12}\n",
      "23.4.2021 \n",
      "23/4/2021\n"
     ]
    }
   ],
   "source": [
    "keys = ['января', 'февраля', 'марта', 'апреля', 'мая', 'июня', 'июля', 'августа', 'сентября', 'октября', 'ноября', 'декабря']\n",
    "values = [i for i in range(1, 13)] \n",
    " \n",
    "dict_ = {key: value for (key, value) in zip(keys, values)}\n",
    "print(dict_)\n",
    " \n",
    "def change(string):\n",
    "    day = string[:string.find(' ')]\n",
    "    month = string[string.find(' ')+1:string.rfind(' ')]\n",
    "    year = string[string.rfind(' ')+1:len(string)]\n",
    "    month_new = dict_[month]\n",
    "    new_string = f'{day}.{month_new}.{year} \\n{day}/{month_new}/{year}'\n",
    "    return new_string\n",
    " \n",
    "print(change('23 апреля 2021'))\n",
    " "
   ]
  },
  {
   "cell_type": "code",
   "execution_count": 62,
   "metadata": {},
   "outputs": [
    {
     "name": "stdout",
     "output_type": "stream",
     "text": [
      "Как много точек нужно сформировать?4\n",
      "Cформированы точки с координатами: [(2, -6), (2, -3), (-5, -6), (10, -3)]\n",
      "\n",
      "Служебный словарь расстояний между точками: \n",
      "{((2, -6), (-5, -6)): 7, ((2, -6), (2, -3)): 3, ((2, -3), (-5, -6)): 8, ((2, -3), (2, -6)): 3, ((-5, -6), (2, -3)): 8, ((-5, -6), (2, -6)): 7, ((10, -3), (-5, -6)): 15, ((10, -3), (2, -3)): 8, ((10, -3), (2, -6)): 9}\n",
      "\n",
      "\n",
      "\n",
      "Минимальное расстояние составляет: 3\n",
      "Это расстояние между точками: ((2, -6), (2, -3))\n"
     ]
    }
   ],
   "source": [
    "import random\n",
    "import math\n",
    "\n",
    "\n",
    "def points(list_one, list_two):\n",
    "    '''\n",
    "    функция формирует список кортежей из двух значений - x,y. Таким образом получается точка с двумя координатами.\n",
    "    '''\n",
    "    point_list = [(list_one[i], list_two[i]) for i in range(len(list_one))]\n",
    "    return point_list\n",
    "\n",
    "\n",
    "def dist_points(point_list):\n",
    "    '''\n",
    "    функция формирует словарь, где ключ - это координаты двух точек, а значение - расстояние между ними.\n",
    "    '''\n",
    "    dist_dict = dict()\n",
    "    for j in range(len(point_list)):\n",
    "        for i in range(len(point_list)-1, 0, -1):\n",
    "            dist = round(math.dist(point_list[j], point_list[i-1]))\n",
    "            if dist == 0:\n",
    "                continue\n",
    "            else:\n",
    "                dist_dict[(point_list[j], point_list[i-1])] = dist\n",
    "    return dist_dict\n",
    "\n",
    "\n",
    "def get_key(dict_, value):\n",
    "    '''\n",
    "    функция возвращает ключ словаря по значению словаря\n",
    "    '''\n",
    "    for k, v in dict_.items():\n",
    "        if v == value:\n",
    "            return k\n",
    "        \n",
    "        \n",
    "def minimum(dict_):\n",
    "    '''\n",
    "    функция возвращает минимальное значение в словаре\n",
    "    '''\n",
    "    return min(dict_.values())\n",
    "\n",
    "\n",
    "number = int(input('Как много точек нужно сформировать? '))\n",
    "x_list = [random.randint(-10, 10) for i in range(number)]\n",
    "y_list = [random.randint(-10, 10) for i in range(number)]\n",
    "\n",
    "\n",
    "point_list = points(x_list, y_list)\n",
    "dist_dict = dist_points(point_list)\n",
    "infinum = minimum(dist_dict)\n",
    "key = get_key(dist_dict, infinum)\n",
    "\n",
    "print(f'Cформированы точки с координатами: {point_list}\\n')\n",
    "print(f'Служебный словарь расстояний между точками: \\n{dist_dict}')\n",
    "print('\\n\\n')\n",
    "print(f'Минимальное расстояние составляет: {infinum}')\n",
    "print(f'Это расстояние между точками: {key}')"
   ]
  },
  {
   "cell_type": "code",
   "execution_count": 10,
   "metadata": {},
   "outputs": [
    {
     "name": "stdout",
     "output_type": "stream",
     "text": [
      "Сформирована матрица: \n",
      "[96, -93, -74]\n",
      "[12, 92, -86]\n",
      "[-28, -93, -23]\n",
      "\n",
      "\n",
      "Среднее арифметическое положительных чисел главной диагонали: 94.0\n",
      "Среднее арифметическое отрицательных чисел побочной диагонали: -51.0\n"
     ]
    }
   ],
   "source": [
    "import random\n",
    "\n",
    "def matrix_create(n, m):\n",
    "    list_ = [[random.randint(-100, 100) for i in range(n)] for j in range(m)]\n",
    "    return list_\n",
    "\n",
    "def main_diag_pos(matrix):\n",
    "    main_diagonale = [matrix[i][i] for i in range(len(matrix)) if matrix[i][i] > 0]\n",
    "    return main_diagonale\n",
    "\n",
    "\n",
    "def side_diag_neg(matrix):\n",
    "    side_diagonale = [matrix[i][-i-1] for i in range(len(matrix)) if matrix[i][-i-1] < 0]\n",
    "    return side_diagonale\n",
    "\n",
    "matrix = matrix_create(3,3)\n",
    "main_diagonale = main_diag_pos(matrix)\n",
    "side_diagonale = side_diag_neg(matrix)\n",
    "\n",
    "print('Сформирована матрица: ')\n",
    "for i in range(len(matrix)):\n",
    "    print(matrix[i])\n",
    "print('\\n')\n",
    "print(f'Среднее арифметическое положительных чисел главной диагонали: {sum(main_diagonale) / len(main_diagonale)}')\n",
    "print(f'Среднее арифметическое отрицательных чисел побочной диагонали: {sum(side_diagonale) / len(side_diagonale)}')"
   ]
  },
  {
   "cell_type": "code",
   "execution_count": null,
   "metadata": {},
   "outputs": [],
   "source": []
  }
 ],
 "metadata": {
  "kernelspec": {
   "display_name": "Python 3",
   "language": "python",
   "name": "python3"
  },
  "language_info": {
   "codemirror_mode": {
    "name": "ipython",
    "version": 3
   },
   "file_extension": ".py",
   "mimetype": "text/x-python",
   "name": "python",
   "nbconvert_exporter": "python",
   "pygments_lexer": "ipython3",
   "version": "3.8.5"
  }
 },
 "nbformat": 4,
 "nbformat_minor": 2
}
